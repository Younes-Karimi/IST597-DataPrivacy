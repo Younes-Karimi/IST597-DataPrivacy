{
  "nbformat": 4,
  "nbformat_minor": 0,
  "metadata": {
    "kernelspec": {
      "display_name": "Python 3",
      "language": "python",
      "name": "python3"
    },
    "language_info": {
      "codemirror_mode": {
        "name": "ipython",
        "version": 3
      },
      "file_extension": ".py",
      "mimetype": "text/x-python",
      "name": "python",
      "nbconvert_exporter": "python",
      "pygments_lexer": "ipython3",
      "version": "3.7.10"
    },
    "colab": {
      "name": "DP_Problems.ipynb",
      "provenance": [],
      "collapsed_sections": [],
      "include_colab_link": true
    }
  },
  "cells": [
    {
      "cell_type": "markdown",
      "metadata": {
        "id": "view-in-github",
        "colab_type": "text"
      },
      "source": [
        "<a href=\"https://colab.research.google.com/github/Younes-Karimi/IST597-DataPrivacy/blob/main/DifferentialPrivacy_Problems.ipynb\" target=\"_parent\"><img src=\"https://colab.research.google.com/assets/colab-badge.svg\" alt=\"Open In Colab\"/></a>"
      ]
    },
    {
      "cell_type": "markdown",
      "metadata": {
        "id": "9p7zA6QRcTZz"
      },
      "source": [
        "# PSU IST 597: Homework 2\n",
        "## Differential Privacy"
      ]
    },
    {
      "cell_type": "markdown",
      "metadata": {
        "id": "oXxTnkOUcTZ4"
      },
      "source": [
        "### Instructions\n",
        "This assignment follows the same principles as our hands-on in-class activities, and centers around concepts we've discussed in our differential privacy module.\n",
        "\n",
        "To ensure that the notebook runs, I've defined a function your_code_here() that simply returns the number 1. Whenever you see a call to this function, you should replace it with code you have written. Please make sure all cells of your notebook run without error before submitting the assignment. If you have not completed all the questions, leave calls to your_code_here() in place or insert dummy values so that the cell does not throw an error when it runs.\n",
        "\n",
        "When answering non-code questions, feel free to use a comment, or put the cell in Markdown mode and use Markdown.\n",
        "The point value of each question is listed with the question, and these add up to 100 points. The assignment is due by 9:00am on Wednesdsay, March 24. (Each day late is a 10 point deduction.) When you have finished your assignment, please submit it via Canvas."
      ]
    },
    {
      "cell_type": "markdown",
      "metadata": {
        "id": "Z0nOZazbcTZ5"
      },
      "source": [
        "### Preamble"
      ]
    },
    {
      "cell_type": "code",
      "metadata": {
        "colab": {
          "base_uri": "https://localhost:8080/",
          "height": 563
        },
        "id": "PxspuG4mcTZ5",
        "outputId": "f25ba518-4a32-4953-e954-cdd7e437fb3d"
      },
      "source": [
        "%matplotlib inline\n",
        "import matplotlib.pyplot as plt\n",
        "plt.style.use('seaborn-whitegrid')\n",
        "import pandas as pd\n",
        "import numpy as np\n",
        "\n",
        "# Our usual dataset\n",
        "from google.colab import drive\n",
        "drive.mount('/content/drive')\n",
        "dir = '/content/drive/My Drive/data_privacy/'\n",
        "adult_data = pd.read_csv(dir+\"adult_with_pii.csv\")\n",
        "\n",
        "# adult_data = pd.read_csv(\"adult_with_pii.csv\")\n",
        "adult_data['DOB'] = pd.to_datetime(adult_data['DOB'], errors='coerce')\n",
        "display(adult_data.head(10))\n",
        "\n",
        "# Some useful utilities from earlier assignments\n",
        "\n",
        "def laplace_mech(v, sensitivity, epsilon):\n",
        "    return v + np.random.laplace(loc=0, scale=sensitivity / epsilon)\n",
        "\n",
        "def pct_error(orig, priv):\n",
        "    return np.abs(orig - priv)/orig * 100.0\n",
        "\n",
        "def your_code_here():\n",
        "    return 1"
      ],
      "execution_count": 8,
      "outputs": [
        {
          "output_type": "stream",
          "text": [
            "Drive already mounted at /content/drive; to attempt to forcibly remount, call drive.mount(\"/content/drive\", force_remount=True).\n"
          ],
          "name": "stdout"
        },
        {
          "output_type": "display_data",
          "data": {
            "text/html": [
              "<div>\n",
              "<style scoped>\n",
              "    .dataframe tbody tr th:only-of-type {\n",
              "        vertical-align: middle;\n",
              "    }\n",
              "\n",
              "    .dataframe tbody tr th {\n",
              "        vertical-align: top;\n",
              "    }\n",
              "\n",
              "    .dataframe thead th {\n",
              "        text-align: right;\n",
              "    }\n",
              "</style>\n",
              "<table border=\"1\" class=\"dataframe\">\n",
              "  <thead>\n",
              "    <tr style=\"text-align: right;\">\n",
              "      <th></th>\n",
              "      <th>Name</th>\n",
              "      <th>DOB</th>\n",
              "      <th>SSN</th>\n",
              "      <th>Zip</th>\n",
              "      <th>Age</th>\n",
              "      <th>Workclass</th>\n",
              "      <th>fnlwgt</th>\n",
              "      <th>Education</th>\n",
              "      <th>Education-Num</th>\n",
              "      <th>Martial Status</th>\n",
              "      <th>Occupation</th>\n",
              "      <th>Relationship</th>\n",
              "      <th>Race</th>\n",
              "      <th>Sex</th>\n",
              "      <th>Capital Gain</th>\n",
              "      <th>Capital Loss</th>\n",
              "      <th>Hours per week</th>\n",
              "      <th>Country</th>\n",
              "      <th>Target</th>\n",
              "    </tr>\n",
              "  </thead>\n",
              "  <tbody>\n",
              "    <tr>\n",
              "      <th>0</th>\n",
              "      <td>Karrie Trusslove</td>\n",
              "      <td>2067-09-07</td>\n",
              "      <td>732-14-6110</td>\n",
              "      <td>64152</td>\n",
              "      <td>39</td>\n",
              "      <td>State-gov</td>\n",
              "      <td>77516</td>\n",
              "      <td>Bachelors</td>\n",
              "      <td>13</td>\n",
              "      <td>Never-married</td>\n",
              "      <td>Adm-clerical</td>\n",
              "      <td>Not-in-family</td>\n",
              "      <td>White</td>\n",
              "      <td>Male</td>\n",
              "      <td>2174</td>\n",
              "      <td>0</td>\n",
              "      <td>40</td>\n",
              "      <td>United-States</td>\n",
              "      <td>&lt;=50K</td>\n",
              "    </tr>\n",
              "    <tr>\n",
              "      <th>1</th>\n",
              "      <td>Brandise Tripony</td>\n",
              "      <td>1988-06-07</td>\n",
              "      <td>150-19-2766</td>\n",
              "      <td>61523</td>\n",
              "      <td>50</td>\n",
              "      <td>Self-emp-not-inc</td>\n",
              "      <td>83311</td>\n",
              "      <td>Bachelors</td>\n",
              "      <td>13</td>\n",
              "      <td>Married-civ-spouse</td>\n",
              "      <td>Exec-managerial</td>\n",
              "      <td>Husband</td>\n",
              "      <td>White</td>\n",
              "      <td>Male</td>\n",
              "      <td>0</td>\n",
              "      <td>0</td>\n",
              "      <td>13</td>\n",
              "      <td>United-States</td>\n",
              "      <td>&lt;=50K</td>\n",
              "    </tr>\n",
              "    <tr>\n",
              "      <th>2</th>\n",
              "      <td>Brenn McNeely</td>\n",
              "      <td>1991-08-06</td>\n",
              "      <td>725-59-9860</td>\n",
              "      <td>95668</td>\n",
              "      <td>38</td>\n",
              "      <td>Private</td>\n",
              "      <td>215646</td>\n",
              "      <td>HS-grad</td>\n",
              "      <td>9</td>\n",
              "      <td>Divorced</td>\n",
              "      <td>Handlers-cleaners</td>\n",
              "      <td>Not-in-family</td>\n",
              "      <td>White</td>\n",
              "      <td>Male</td>\n",
              "      <td>0</td>\n",
              "      <td>0</td>\n",
              "      <td>40</td>\n",
              "      <td>United-States</td>\n",
              "      <td>&lt;=50K</td>\n",
              "    </tr>\n",
              "    <tr>\n",
              "      <th>3</th>\n",
              "      <td>Dorry Poter</td>\n",
              "      <td>2009-04-06</td>\n",
              "      <td>659-57-4974</td>\n",
              "      <td>25503</td>\n",
              "      <td>53</td>\n",
              "      <td>Private</td>\n",
              "      <td>234721</td>\n",
              "      <td>11th</td>\n",
              "      <td>7</td>\n",
              "      <td>Married-civ-spouse</td>\n",
              "      <td>Handlers-cleaners</td>\n",
              "      <td>Husband</td>\n",
              "      <td>Black</td>\n",
              "      <td>Male</td>\n",
              "      <td>0</td>\n",
              "      <td>0</td>\n",
              "      <td>40</td>\n",
              "      <td>United-States</td>\n",
              "      <td>&lt;=50K</td>\n",
              "    </tr>\n",
              "    <tr>\n",
              "      <th>4</th>\n",
              "      <td>Dick Honnan</td>\n",
              "      <td>2051-09-16</td>\n",
              "      <td>220-93-3811</td>\n",
              "      <td>75387</td>\n",
              "      <td>28</td>\n",
              "      <td>Private</td>\n",
              "      <td>338409</td>\n",
              "      <td>Bachelors</td>\n",
              "      <td>13</td>\n",
              "      <td>Married-civ-spouse</td>\n",
              "      <td>Prof-specialty</td>\n",
              "      <td>Wife</td>\n",
              "      <td>Black</td>\n",
              "      <td>Female</td>\n",
              "      <td>0</td>\n",
              "      <td>0</td>\n",
              "      <td>40</td>\n",
              "      <td>Cuba</td>\n",
              "      <td>&lt;=50K</td>\n",
              "    </tr>\n",
              "    <tr>\n",
              "      <th>5</th>\n",
              "      <td>Allene Raff</td>\n",
              "      <td>2001-08-02</td>\n",
              "      <td>535-53-2336</td>\n",
              "      <td>9820</td>\n",
              "      <td>37</td>\n",
              "      <td>Private</td>\n",
              "      <td>284582</td>\n",
              "      <td>Masters</td>\n",
              "      <td>14</td>\n",
              "      <td>Married-civ-spouse</td>\n",
              "      <td>Exec-managerial</td>\n",
              "      <td>Wife</td>\n",
              "      <td>White</td>\n",
              "      <td>Female</td>\n",
              "      <td>0</td>\n",
              "      <td>0</td>\n",
              "      <td>40</td>\n",
              "      <td>United-States</td>\n",
              "      <td>&lt;=50K</td>\n",
              "    </tr>\n",
              "    <tr>\n",
              "      <th>6</th>\n",
              "      <td>Clevie Schimoni</td>\n",
              "      <td>1989-10-17</td>\n",
              "      <td>787-78-1258</td>\n",
              "      <td>87125</td>\n",
              "      <td>49</td>\n",
              "      <td>Private</td>\n",
              "      <td>160187</td>\n",
              "      <td>9th</td>\n",
              "      <td>5</td>\n",
              "      <td>Married-spouse-absent</td>\n",
              "      <td>Other-service</td>\n",
              "      <td>Not-in-family</td>\n",
              "      <td>Black</td>\n",
              "      <td>Female</td>\n",
              "      <td>0</td>\n",
              "      <td>0</td>\n",
              "      <td>16</td>\n",
              "      <td>Jamaica</td>\n",
              "      <td>&lt;=50K</td>\n",
              "    </tr>\n",
              "    <tr>\n",
              "      <th>7</th>\n",
              "      <td>Erhard Nesbeth</td>\n",
              "      <td>1971-07-25</td>\n",
              "      <td>208-67-0874</td>\n",
              "      <td>60887</td>\n",
              "      <td>52</td>\n",
              "      <td>Self-emp-not-inc</td>\n",
              "      <td>209642</td>\n",
              "      <td>HS-grad</td>\n",
              "      <td>9</td>\n",
              "      <td>Married-civ-spouse</td>\n",
              "      <td>Exec-managerial</td>\n",
              "      <td>Husband</td>\n",
              "      <td>White</td>\n",
              "      <td>Male</td>\n",
              "      <td>0</td>\n",
              "      <td>0</td>\n",
              "      <td>45</td>\n",
              "      <td>United-States</td>\n",
              "      <td>&gt;50K</td>\n",
              "    </tr>\n",
              "    <tr>\n",
              "      <th>8</th>\n",
              "      <td>Hedvige Fairpo</td>\n",
              "      <td>2001-08-10</td>\n",
              "      <td>691-69-7317</td>\n",
              "      <td>81548</td>\n",
              "      <td>31</td>\n",
              "      <td>Private</td>\n",
              "      <td>45781</td>\n",
              "      <td>Masters</td>\n",
              "      <td>14</td>\n",
              "      <td>Never-married</td>\n",
              "      <td>Prof-specialty</td>\n",
              "      <td>Not-in-family</td>\n",
              "      <td>White</td>\n",
              "      <td>Female</td>\n",
              "      <td>14084</td>\n",
              "      <td>0</td>\n",
              "      <td>50</td>\n",
              "      <td>United-States</td>\n",
              "      <td>&gt;50K</td>\n",
              "    </tr>\n",
              "    <tr>\n",
              "      <th>9</th>\n",
              "      <td>Kally Ayers</td>\n",
              "      <td>1998-07-31</td>\n",
              "      <td>632-53-4141</td>\n",
              "      <td>51592</td>\n",
              "      <td>42</td>\n",
              "      <td>Private</td>\n",
              "      <td>159449</td>\n",
              "      <td>Bachelors</td>\n",
              "      <td>13</td>\n",
              "      <td>Married-civ-spouse</td>\n",
              "      <td>Exec-managerial</td>\n",
              "      <td>Husband</td>\n",
              "      <td>White</td>\n",
              "      <td>Male</td>\n",
              "      <td>5178</td>\n",
              "      <td>0</td>\n",
              "      <td>40</td>\n",
              "      <td>United-States</td>\n",
              "      <td>&gt;50K</td>\n",
              "    </tr>\n",
              "  </tbody>\n",
              "</table>\n",
              "</div>"
            ],
            "text/plain": [
              "               Name        DOB  ...        Country  Target\n",
              "0  Karrie Trusslove 2067-09-07  ...  United-States   <=50K\n",
              "1  Brandise Tripony 1988-06-07  ...  United-States   <=50K\n",
              "2     Brenn McNeely 1991-08-06  ...  United-States   <=50K\n",
              "3       Dorry Poter 2009-04-06  ...  United-States   <=50K\n",
              "4       Dick Honnan 2051-09-16  ...           Cuba   <=50K\n",
              "5       Allene Raff 2001-08-02  ...  United-States   <=50K\n",
              "6   Clevie Schimoni 1989-10-17  ...        Jamaica   <=50K\n",
              "7    Erhard Nesbeth 1971-07-25  ...  United-States    >50K\n",
              "8    Hedvige Fairpo 2001-08-10  ...  United-States    >50K\n",
              "9       Kally Ayers 1998-07-31  ...  United-States    >50K\n",
              "\n",
              "[10 rows x 19 columns]"
            ]
          },
          "metadata": {
            "tags": []
          }
        }
      ]
    },
    {
      "cell_type": "markdown",
      "metadata": {
        "id": "y1VbuIX-cTZ6"
      },
      "source": [
        "## Collaboration Statement\n",
        "\n",
        "**You are expected to work indepdently on this assignment.** Everyone should write their *own code and responses*. You may collaborate with a classmate through *high level* discussions (only). To the extent that you do so, please describe this in the collaboration statment below."
      ]
    },
    {
      "cell_type": "code",
      "metadata": {
        "id": "I6GDhy5BcTZ6"
      },
      "source": [
        "# In this cell (in markdown or a comment) write your collaboration statement"
      ],
      "execution_count": null,
      "outputs": []
    },
    {
      "cell_type": "markdown",
      "metadata": {
        "id": "McRqDIzTcTZ6"
      },
      "source": [
        "### Question 1 (1 point)"
      ]
    },
    {
      "cell_type": "markdown",
      "metadata": {
        "id": "9recYvAScTZ7"
      },
      "source": [
        "Write code to answer the following query:\n",
        "\n",
        "`For each marital status in the census data, how many participants had that status?`\n",
        "\n",
        "*Note*: \"marital status\" is misspelled as `Martial Status` in the column names.\n",
        "\n",
        "*Hint*: use `unique()` to obtain the set of unique values in a column, and use `shape[0]` to count the number of rows in a dataframe."
      ]
    },
    {
      "cell_type": "code",
      "metadata": {
        "colab": {
          "base_uri": "https://localhost:8080/"
        },
        "id": "m9hnEY-tcTZ7",
        "outputId": "1f63594b-e465-4dee-a203-365fc833abaa"
      },
      "source": [
        "adult_data['Martial Status'].value_counts()"
      ],
      "execution_count": 9,
      "outputs": [
        {
          "output_type": "execute_result",
          "data": {
            "text/plain": [
              "Married-civ-spouse       14976\n",
              "Never-married            10683\n",
              "Divorced                  4443\n",
              "Separated                 1025\n",
              "Widowed                    993\n",
              "Married-spouse-absent      418\n",
              "Married-AF-spouse           23\n",
              "Name: Martial Status, dtype: int64"
            ]
          },
          "metadata": {
            "tags": []
          },
          "execution_count": 9
        }
      ]
    },
    {
      "cell_type": "markdown",
      "metadata": {
        "id": "dAWbkyUScTZ8"
      },
      "source": [
        "### Question 2 (3 points)\n",
        "\n",
        "Write code to return a differentially private version of your result from the last question. Use the definition of `laplace_mech`."
      ]
    },
    {
      "cell_type": "code",
      "metadata": {
        "colab": {
          "base_uri": "https://localhost:8080/"
        },
        "id": "5egT2cXBcTZ8",
        "outputId": "0b90a43f-d102-48b1-81a3-ef8b002342f5"
      },
      "source": [
        "sensitivity = 1 # It is a counting query\n",
        "epsilon = 0.1 # Parallel composition. The whole marital status column is divided into chuncks on which we call our DP mechanism (laplace_mech)\n",
        "for status in adult_data['Martial Status'].unique():\n",
        "    print('%s: %d' % (status, laplace_mech(adult_data['Martial Status'].value_counts().loc[status], sensitivity, epsilon)))"
      ],
      "execution_count": 11,
      "outputs": [
        {
          "output_type": "stream",
          "text": [
            "Never-married: 10650\n",
            "Married-civ-spouse: 14970\n",
            "Divorced: 4443\n",
            "Married-spouse-absent: 404\n",
            "Separated: 1020\n",
            "Married-AF-spouse: 25\n",
            "Widowed: 997\n"
          ],
          "name": "stdout"
        }
      ]
    },
    {
      "cell_type": "markdown",
      "metadata": {
        "id": "WkhSTTz5cTZ9"
      },
      "source": [
        "### Question 3 (3 points)\n",
        "\n",
        "In the cell below, answer the following in 3-5 sentences:\n",
        "- What is the privacy cost of your answer to the last question, and why?\n",
        "- Does it violate privacy to release the set of unique marital status categories (i.e. the \"histogram bin labels\"), as we do here? Why or why not? \n",
        "- Is the answer to the above point the same for every dataset?"
      ]
    },
    {
      "cell_type": "markdown",
      "metadata": {
        "id": "wNmHMQWScTZ9"
      },
      "source": [
        "- The privacy cost is equal to the value of epsilon that I set initially (0.1) because it is a parallel composition. The whole marital status column is divided into chuncks on which we call our DP mechanism (laplace_mech)\n",
        "- I think releasing the set of unique marital status categories does not violate privacy because it is not sensitive information.\n",
        "- It could violate if we only had single entries for any of these categories or if we did not have any instances of one of the possible marital statuses (which would mean any person in the dataset definitely does not have that status)."
      ]
    },
    {
      "cell_type": "markdown",
      "metadata": {
        "id": "XL-fHGe2cTZ9"
      },
      "source": [
        "### Question 4 (5 points)\n",
        "\n",
        "Fill in the following code block to produce graphs of the percent error introduced for each count. Your code should compute 100 differentially private answers for each marital status, and compute the percent error of those answers. The remaining code will plot histograms of the results for each status."
      ]
    },
    {
      "cell_type": "code",
      "metadata": {
        "colab": {
          "base_uri": "https://localhost:8080/",
          "height": 297
        },
        "id": "FQh_r0h-cTZ-",
        "outputId": "b1d1c8ff-bdf8-45c1-8956-bf72d6aaf5bd"
      },
      "source": [
        "# Here I assume that we want to see the impact of the DP mechanism on the \n",
        "# original values in a larger scale (on average). Therefore, I do not consider \n",
        "# it as a sequential composition and did not divide the value of epsilon for \n",
        "# each query.\n",
        "fig = plt.figure()\n",
        "\n",
        "dom = adult_data['Martial Status'].unique()\n",
        "for status,num in zip(dom, range(1, len(dom)+1)):\n",
        "  # Repeating the original value 100 times to produce a vector of length 100\n",
        "  orig_vals = [adult_data['Martial Status'].value_counts().loc[status]] * 100\n",
        "  errors = [pct_error(x, laplace_mech(x, sensitivity, epsilon)) for x in orig_vals]\n",
        "  ax = fig.add_subplot(4,2,num)\n",
        "  ax.hist(errors, bins=10)\n",
        "  ax.set_title(status)\n",
        "\n",
        "plt.tight_layout()\n",
        "plt.show()"
      ],
      "execution_count": 13,
      "outputs": [
        {
          "output_type": "display_data",
          "data": {
            "image/png": "[encoded data removed]",
            "text/plain": [
              "<Figure size 432x288 with 7 Axes>"
            ]
          },
          "metadata": {
            "tags": []
          }
        }
      ]
    },
    {
      "cell_type": "markdown",
      "metadata": {
        "id": "yvG2UYDKcTZ-"
      },
      "source": [
        "### Question 5 (3 points)\n",
        "\n",
        "In 3-5 sentences, answer the following:\n",
        "- Which marital status tends to have the largest error? Which one has the smallest error?\n",
        "- What is the reason for this discrepency?\n",
        "- Describe a rule of thumb for deciding when a differentially private counting query will yield an accurate result."
      ]
    },
    {
      "cell_type": "markdown",
      "metadata": {
        "id": "EmtAOuJXcTZ-"
      },
      "source": [
        "- *Married-AF-spouse* has the largest values of error and *Married-civ-spouse* has the smallest values.\n",
        "- This discrepency is due to different values ranges of the number of individuals having each of those statuses. If the number increases, the the laplace mechanism would have lower impact on the value. The larger values are less impacted and the error would be also divided by a larger number and percentage seems less.\n",
        "- While we may not (and are not supposed to!) get accurate results from DP queries, a rule of thumb to get meaningful and usable results could be to make sure the values are larger enough than the noise that we add."
      ]
    },
    {
      "cell_type": "markdown",
      "metadata": {
        "id": "uST8pOy7cTZ-"
      },
      "source": [
        "### Question 6 (2 points)\n",
        "\n",
        "Build a [contingency table](https://en.wikipedia.org/wiki/Contingency_table) between the `Martial Status` and `Sex` columns of the `adult_data` dataframe.\n",
        "\n",
        "*Note*: \"marital status\" is misspelled as `Martial Status` in the column names.\n",
        "\n",
        "*Hint*: use `pd.crosstab(..., ...)` (documentation [here](https://pandas.pydata.org/pandas-docs/stable/generated/pandas.crosstab.html))."
      ]
    },
    {
      "cell_type": "code",
      "metadata": {
        "colab": {
          "base_uri": "https://localhost:8080/",
          "height": 297
        },
        "id": "TP_we8RrcTZ_",
        "outputId": "0d4cfdce-15ee-499c-dddf-268fcb5867f6"
      },
      "source": [
        "xdf = pd.crosstab(adult_data['Martial Status'], adult_data['Sex'])\n",
        "xdf"
      ],
      "execution_count": 17,
      "outputs": [
        {
          "output_type": "execute_result",
          "data": {
            "text/html": [
              "<div>\n",
              "<style scoped>\n",
              "    .dataframe tbody tr th:only-of-type {\n",
              "        vertical-align: middle;\n",
              "    }\n",
              "\n",
              "    .dataframe tbody tr th {\n",
              "        vertical-align: top;\n",
              "    }\n",
              "\n",
              "    .dataframe thead th {\n",
              "        text-align: right;\n",
              "    }\n",
              "</style>\n",
              "<table border=\"1\" class=\"dataframe\">\n",
              "  <thead>\n",
              "    <tr style=\"text-align: right;\">\n",
              "      <th>Sex</th>\n",
              "      <th>Female</th>\n",
              "      <th>Male</th>\n",
              "    </tr>\n",
              "    <tr>\n",
              "      <th>Martial Status</th>\n",
              "      <th></th>\n",
              "      <th></th>\n",
              "    </tr>\n",
              "  </thead>\n",
              "  <tbody>\n",
              "    <tr>\n",
              "      <th>Divorced</th>\n",
              "      <td>2672</td>\n",
              "      <td>1771</td>\n",
              "    </tr>\n",
              "    <tr>\n",
              "      <th>Married-AF-spouse</th>\n",
              "      <td>14</td>\n",
              "      <td>9</td>\n",
              "    </tr>\n",
              "    <tr>\n",
              "      <th>Married-civ-spouse</th>\n",
              "      <td>1657</td>\n",
              "      <td>13319</td>\n",
              "    </tr>\n",
              "    <tr>\n",
              "      <th>Married-spouse-absent</th>\n",
              "      <td>205</td>\n",
              "      <td>213</td>\n",
              "    </tr>\n",
              "    <tr>\n",
              "      <th>Never-married</th>\n",
              "      <td>4767</td>\n",
              "      <td>5916</td>\n",
              "    </tr>\n",
              "    <tr>\n",
              "      <th>Separated</th>\n",
              "      <td>631</td>\n",
              "      <td>394</td>\n",
              "    </tr>\n",
              "    <tr>\n",
              "      <th>Widowed</th>\n",
              "      <td>825</td>\n",
              "      <td>168</td>\n",
              "    </tr>\n",
              "  </tbody>\n",
              "</table>\n",
              "</div>"
            ],
            "text/plain": [
              "Sex                    Female   Male\n",
              "Martial Status                      \n",
              "Divorced                 2672   1771\n",
              "Married-AF-spouse          14      9\n",
              "Married-civ-spouse       1657  13319\n",
              "Married-spouse-absent     205    213\n",
              "Never-married            4767   5916\n",
              "Separated                 631    394\n",
              "Widowed                   825    168"
            ]
          },
          "metadata": {
            "tags": []
          },
          "execution_count": 17
        }
      ]
    },
    {
      "cell_type": "markdown",
      "metadata": {
        "id": "T4DgZVzzcTZ_"
      },
      "source": [
        "### Question 7 (3 points)\n",
        "\n",
        "Write code to build a differentially private version of your result from the last question."
      ]
    },
    {
      "cell_type": "code",
      "metadata": {
        "colab": {
          "base_uri": "https://localhost:8080/",
          "height": 297
        },
        "id": "JhJlpL0GcTZ_",
        "outputId": "1c0b8d00-b48e-4bfa-aedc-2067e1ccebb8"
      },
      "source": [
        "# We use the laplace mechanism that is defined earlier to build differentially \n",
        "# private version of the original results\n",
        "for col in xdf.columns:\n",
        "  xdf['DP-'+col.__str__()] = xdf.apply(\\\n",
        "    lambda row : int(round(laplace_mech(row[col], sensitivity, epsilon))), axis = 1)\n",
        "xdf"
      ],
      "execution_count": 18,
      "outputs": [
        {
          "output_type": "execute_result",
          "data": {
            "text/html": [
              "<div>\n",
              "<style scoped>\n",
              "    .dataframe tbody tr th:only-of-type {\n",
              "        vertical-align: middle;\n",
              "    }\n",
              "\n",
              "    .dataframe tbody tr th {\n",
              "        vertical-align: top;\n",
              "    }\n",
              "\n",
              "    .dataframe thead th {\n",
              "        text-align: right;\n",
              "    }\n",
              "</style>\n",
              "<table border=\"1\" class=\"dataframe\">\n",
              "  <thead>\n",
              "    <tr style=\"text-align: right;\">\n",
              "      <th>Sex</th>\n",
              "      <th>Female</th>\n",
              "      <th>Male</th>\n",
              "      <th>DP-Female</th>\n",
              "      <th>DP-Male</th>\n",
              "    </tr>\n",
              "    <tr>\n",
              "      <th>Martial Status</th>\n",
              "      <th></th>\n",
              "      <th></th>\n",
              "      <th></th>\n",
              "      <th></th>\n",
              "    </tr>\n",
              "  </thead>\n",
              "  <tbody>\n",
              "    <tr>\n",
              "      <th>Divorced</th>\n",
              "      <td>2672</td>\n",
              "      <td>1771</td>\n",
              "      <td>2677</td>\n",
              "      <td>1790</td>\n",
              "    </tr>\n",
              "    <tr>\n",
              "      <th>Married-AF-spouse</th>\n",
              "      <td>14</td>\n",
              "      <td>9</td>\n",
              "      <td>8</td>\n",
              "      <td>20</td>\n",
              "    </tr>\n",
              "    <tr>\n",
              "      <th>Married-civ-spouse</th>\n",
              "      <td>1657</td>\n",
              "      <td>13319</td>\n",
              "      <td>1652</td>\n",
              "      <td>13327</td>\n",
              "    </tr>\n",
              "    <tr>\n",
              "      <th>Married-spouse-absent</th>\n",
              "      <td>205</td>\n",
              "      <td>213</td>\n",
              "      <td>203</td>\n",
              "      <td>178</td>\n",
              "    </tr>\n",
              "    <tr>\n",
              "      <th>Never-married</th>\n",
              "      <td>4767</td>\n",
              "      <td>5916</td>\n",
              "      <td>4765</td>\n",
              "      <td>5904</td>\n",
              "    </tr>\n",
              "    <tr>\n",
              "      <th>Separated</th>\n",
              "      <td>631</td>\n",
              "      <td>394</td>\n",
              "      <td>631</td>\n",
              "      <td>390</td>\n",
              "    </tr>\n",
              "    <tr>\n",
              "      <th>Widowed</th>\n",
              "      <td>825</td>\n",
              "      <td>168</td>\n",
              "      <td>803</td>\n",
              "      <td>168</td>\n",
              "    </tr>\n",
              "  </tbody>\n",
              "</table>\n",
              "</div>"
            ],
            "text/plain": [
              "Sex                    Female   Male  DP-Female  DP-Male\n",
              "Martial Status                                          \n",
              "Divorced                 2672   1771       2677     1790\n",
              "Married-AF-spouse          14      9          8       20\n",
              "Married-civ-spouse       1657  13319       1652    13327\n",
              "Married-spouse-absent     205    213        203      178\n",
              "Never-married            4767   5916       4765     5904\n",
              "Separated                 631    394        631      390\n",
              "Widowed                   825    168        803      168"
            ]
          },
          "metadata": {
            "tags": []
          },
          "execution_count": 18
        }
      ]
    },
    {
      "cell_type": "markdown",
      "metadata": {
        "id": "saLJ3usEcTaA"
      },
      "source": [
        "### Question 8 (5 points)\n",
        "\n",
        "Write code to display a table containing percent errors for each of the cells in your answer to the last question."
      ]
    },
    {
      "cell_type": "code",
      "metadata": {
        "colab": {
          "base_uri": "https://localhost:8080/",
          "height": 297
        },
        "id": "W0MV_YBicTaA",
        "outputId": "deb16039-5306-4b39-886a-4857df1a3db2"
      },
      "source": [
        "xdf['DP-F-error'] = xdf.apply(lambda row : pct_error(row['Female'], row['DP-Female']), axis = 1)\n",
        "xdf['DP-M-error'] = xdf.apply(lambda row : pct_error(row['Male'], row['DP-Male']), axis = 1)\n",
        "xdf.round(decimals=2)"
      ],
      "execution_count": 19,
      "outputs": [
        {
          "output_type": "execute_result",
          "data": {
            "text/html": [
              "<div>\n",
              "<style scoped>\n",
              "    .dataframe tbody tr th:only-of-type {\n",
              "        vertical-align: middle;\n",
              "    }\n",
              "\n",
              "    .dataframe tbody tr th {\n",
              "        vertical-align: top;\n",
              "    }\n",
              "\n",
              "    .dataframe thead th {\n",
              "        text-align: right;\n",
              "    }\n",
              "</style>\n",
              "<table border=\"1\" class=\"dataframe\">\n",
              "  <thead>\n",
              "    <tr style=\"text-align: right;\">\n",
              "      <th>Sex</th>\n",
              "      <th>Female</th>\n",
              "      <th>Male</th>\n",
              "      <th>DP-Female</th>\n",
              "      <th>DP-Male</th>\n",
              "      <th>DP-F-error</th>\n",
              "      <th>DP-M-error</th>\n",
              "    </tr>\n",
              "    <tr>\n",
              "      <th>Martial Status</th>\n",
              "      <th></th>\n",
              "      <th></th>\n",
              "      <th></th>\n",
              "      <th></th>\n",
              "      <th></th>\n",
              "      <th></th>\n",
              "    </tr>\n",
              "  </thead>\n",
              "  <tbody>\n",
              "    <tr>\n",
              "      <th>Divorced</th>\n",
              "      <td>2672</td>\n",
              "      <td>1771</td>\n",
              "      <td>2677</td>\n",
              "      <td>1790</td>\n",
              "      <td>0.19</td>\n",
              "      <td>1.07</td>\n",
              "    </tr>\n",
              "    <tr>\n",
              "      <th>Married-AF-spouse</th>\n",
              "      <td>14</td>\n",
              "      <td>9</td>\n",
              "      <td>8</td>\n",
              "      <td>20</td>\n",
              "      <td>42.86</td>\n",
              "      <td>122.22</td>\n",
              "    </tr>\n",
              "    <tr>\n",
              "      <th>Married-civ-spouse</th>\n",
              "      <td>1657</td>\n",
              "      <td>13319</td>\n",
              "      <td>1652</td>\n",
              "      <td>13327</td>\n",
              "      <td>0.30</td>\n",
              "      <td>0.06</td>\n",
              "    </tr>\n",
              "    <tr>\n",
              "      <th>Married-spouse-absent</th>\n",
              "      <td>205</td>\n",
              "      <td>213</td>\n",
              "      <td>203</td>\n",
              "      <td>178</td>\n",
              "      <td>0.98</td>\n",
              "      <td>16.43</td>\n",
              "    </tr>\n",
              "    <tr>\n",
              "      <th>Never-married</th>\n",
              "      <td>4767</td>\n",
              "      <td>5916</td>\n",
              "      <td>4765</td>\n",
              "      <td>5904</td>\n",
              "      <td>0.04</td>\n",
              "      <td>0.20</td>\n",
              "    </tr>\n",
              "    <tr>\n",
              "      <th>Separated</th>\n",
              "      <td>631</td>\n",
              "      <td>394</td>\n",
              "      <td>631</td>\n",
              "      <td>390</td>\n",
              "      <td>0.00</td>\n",
              "      <td>1.02</td>\n",
              "    </tr>\n",
              "    <tr>\n",
              "      <th>Widowed</th>\n",
              "      <td>825</td>\n",
              "      <td>168</td>\n",
              "      <td>803</td>\n",
              "      <td>168</td>\n",
              "      <td>2.67</td>\n",
              "      <td>0.00</td>\n",
              "    </tr>\n",
              "  </tbody>\n",
              "</table>\n",
              "</div>"
            ],
            "text/plain": [
              "Sex                    Female   Male  ...  DP-F-error  DP-M-error\n",
              "Martial Status                        ...                        \n",
              "Divorced                 2672   1771  ...        0.19        1.07\n",
              "Married-AF-spouse          14      9  ...       42.86      122.22\n",
              "Married-civ-spouse       1657  13319  ...        0.30        0.06\n",
              "Married-spouse-absent     205    213  ...        0.98       16.43\n",
              "Never-married            4767   5916  ...        0.04        0.20\n",
              "Separated                 631    394  ...        0.00        1.02\n",
              "Widowed                   825    168  ...        2.67        0.00\n",
              "\n",
              "[7 rows x 6 columns]"
            ]
          },
          "metadata": {
            "tags": []
          },
          "execution_count": 19
        }
      ]
    },
    {
      "cell_type": "markdown",
      "metadata": {
        "id": "Bd293CgkcTaB"
      },
      "source": [
        "### Question 9 (3 points)\n",
        "\n",
        "In 3-5 sentences, answer the following:\n",
        "- What is the privacy cost of your answer to Question 7?\n",
        "- For which cells does your solution produce accurate results? For which cells does it produce results with high error?"
      ]
    },
    {
      "cell_type": "markdown",
      "metadata": {
        "id": "DDHaIPZ4cTaB"
      },
      "source": [
        "- The privacy cost is equal to the value of epsilon which I have set it as 0.1. Because the query is parallel and does not ask for specific entries multiple times, the total cost would be still equal to epsilon.\n",
        "- As it can be seen in the table above, in cells with lower number (e.g. Males that have the status of *Married-AF-spouse*) the added noise has a larger impact and may cause a considerable error percentage while the larger values (e.g. Females that has the status of *Never-married*) are less affected."
      ]
    },
    {
      "cell_type": "markdown",
      "metadata": {
        "id": "MyilKynocTaB"
      },
      "source": [
        "### Question 10 (5 points)\n",
        "\n",
        "Write code to produce a differentially private contingency table for three variables: `Martial Status`, `Sex`, and `Education`. Also write code to display the percent error for each cell in your table."
      ]
    },
    {
      "cell_type": "code",
      "metadata": {
        "colab": {
          "base_uri": "https://localhost:8080/",
          "height": 1000
        },
        "id": "WfUOssW1cTaB",
        "outputId": "310a282e-f369-47ec-c2dc-76332f4b432b"
      },
      "source": [
        "tabs = pd.crosstab([adult_data['Martial Status'], adult_data['Sex']], adult_data['Education'])\n",
        "for col in tabs.columns:\n",
        "  tabs['DP-'+col.__str__()] = tabs.apply(lambda row : int(round(laplace_mech(row[col], sensitivity, epsilon))), axis = 1)\n",
        "display(tabs)\n",
        "for col in tabs.columns[:int(len(tabs.columns)/2)]:\n",
        "  tabs['DP-'+col.__str__()+'-error'] = tabs.apply(lambda row : pct_error(row[col], row['DP-'+col]), axis = 1)\n",
        "errors = tabs[tabs.columns[2*int(len(tabs.columns)/3):]].round(decimals=2)\n",
        "display(errors)\n",
        "# Because some original values are zero, the percentage of their error would be infinity (inf) because it divides the error by the original number"
      ],
      "execution_count": 20,
      "outputs": [
        {
          "output_type": "display_data",
          "data": {
            "text/html": [
              "<div>\n",
              "<style scoped>\n",
              "    .dataframe tbody tr th:only-of-type {\n",
              "        vertical-align: middle;\n",
              "    }\n",
              "\n",
              "    .dataframe tbody tr th {\n",
              "        vertical-align: top;\n",
              "    }\n",
              "\n",
              "    .dataframe thead th {\n",
              "        text-align: right;\n",
              "    }\n",
              "</style>\n",
              "<table border=\"1\" class=\"dataframe\">\n",
              "  <thead>\n",
              "    <tr style=\"text-align: right;\">\n",
              "      <th></th>\n",
              "      <th>Education</th>\n",
              "      <th>10th</th>\n",
              "      <th>11th</th>\n",
              "      <th>12th</th>\n",
              "      <th>1st-4th</th>\n",
              "      <th>5th-6th</th>\n",
              "      <th>7th-8th</th>\n",
              "      <th>9th</th>\n",
              "      <th>Assoc-acdm</th>\n",
              "      <th>Assoc-voc</th>\n",
              "      <th>Bachelors</th>\n",
              "      <th>Doctorate</th>\n",
              "      <th>HS-grad</th>\n",
              "      <th>Masters</th>\n",
              "      <th>Preschool</th>\n",
              "      <th>Prof-school</th>\n",
              "      <th>Some-college</th>\n",
              "      <th>DP-10th</th>\n",
              "      <th>DP-11th</th>\n",
              "      <th>DP-12th</th>\n",
              "      <th>DP-1st-4th</th>\n",
              "      <th>DP-5th-6th</th>\n",
              "      <th>DP-7th-8th</th>\n",
              "      <th>DP-9th</th>\n",
              "      <th>DP-Assoc-acdm</th>\n",
              "      <th>DP-Assoc-voc</th>\n",
              "      <th>DP-Bachelors</th>\n",
              "      <th>DP-Doctorate</th>\n",
              "      <th>DP-HS-grad</th>\n",
              "      <th>DP-Masters</th>\n",
              "      <th>DP-Preschool</th>\n",
              "      <th>DP-Prof-school</th>\n",
              "      <th>DP-Some-college</th>\n",
              "    </tr>\n",
              "    <tr>\n",
              "      <th>Martial Status</th>\n",
              "      <th>Sex</th>\n",
              "      <th></th>\n",
              "      <th></th>\n",
              "      <th></th>\n",
              "      <th></th>\n",
              "      <th></th>\n",
              "      <th></th>\n",
              "      <th></th>\n",
              "      <th></th>\n",
              "      <th></th>\n",
              "      <th></th>\n",
              "      <th></th>\n",
              "      <th></th>\n",
              "      <th></th>\n",
              "      <th></th>\n",
              "      <th></th>\n",
              "      <th></th>\n",
              "      <th></th>\n",
              "      <th></th>\n",
              "      <th></th>\n",
              "      <th></th>\n",
              "      <th></th>\n",
              "      <th></th>\n",
              "      <th></th>\n",
              "      <th></th>\n",
              "      <th></th>\n",
              "      <th></th>\n",
              "      <th></th>\n",
              "      <th></th>\n",
              "      <th></th>\n",
              "      <th></th>\n",
              "      <th></th>\n",
              "      <th></th>\n",
              "    </tr>\n",
              "  </thead>\n",
              "  <tbody>\n",
              "    <tr>\n",
              "      <th rowspan=\"2\" valign=\"top\">Divorced</th>\n",
              "      <th>Female</th>\n",
              "      <td>67</td>\n",
              "      <td>79</td>\n",
              "      <td>17</td>\n",
              "      <td>5</td>\n",
              "      <td>10</td>\n",
              "      <td>33</td>\n",
              "      <td>35</td>\n",
              "      <td>136</td>\n",
              "      <td>153</td>\n",
              "      <td>295</td>\n",
              "      <td>20</td>\n",
              "      <td>937</td>\n",
              "      <td>153</td>\n",
              "      <td>0</td>\n",
              "      <td>21</td>\n",
              "      <td>711</td>\n",
              "      <td>57</td>\n",
              "      <td>97</td>\n",
              "      <td>48</td>\n",
              "      <td>-2</td>\n",
              "      <td>16</td>\n",
              "      <td>26</td>\n",
              "      <td>16</td>\n",
              "      <td>132</td>\n",
              "      <td>149</td>\n",
              "      <td>264</td>\n",
              "      <td>78</td>\n",
              "      <td>913</td>\n",
              "      <td>153</td>\n",
              "      <td>-4</td>\n",
              "      <td>31</td>\n",
              "      <td>726</td>\n",
              "    </tr>\n",
              "    <tr>\n",
              "      <th>Male</th>\n",
              "      <td>53</td>\n",
              "      <td>51</td>\n",
              "      <td>22</td>\n",
              "      <td>5</td>\n",
              "      <td>10</td>\n",
              "      <td>40</td>\n",
              "      <td>29</td>\n",
              "      <td>67</td>\n",
              "      <td>81</td>\n",
              "      <td>251</td>\n",
              "      <td>13</td>\n",
              "      <td>676</td>\n",
              "      <td>80</td>\n",
              "      <td>1</td>\n",
              "      <td>34</td>\n",
              "      <td>358</td>\n",
              "      <td>43</td>\n",
              "      <td>44</td>\n",
              "      <td>19</td>\n",
              "      <td>-5</td>\n",
              "      <td>6</td>\n",
              "      <td>42</td>\n",
              "      <td>43</td>\n",
              "      <td>72</td>\n",
              "      <td>74</td>\n",
              "      <td>253</td>\n",
              "      <td>28</td>\n",
              "      <td>713</td>\n",
              "      <td>53</td>\n",
              "      <td>29</td>\n",
              "      <td>37</td>\n",
              "      <td>349</td>\n",
              "    </tr>\n",
              "    <tr>\n",
              "      <th rowspan=\"2\" valign=\"top\">Married-AF-spouse</th>\n",
              "      <th>Female</th>\n",
              "      <td>0</td>\n",
              "      <td>0</td>\n",
              "      <td>0</td>\n",
              "      <td>0</td>\n",
              "      <td>0</td>\n",
              "      <td>0</td>\n",
              "      <td>0</td>\n",
              "      <td>2</td>\n",
              "      <td>0</td>\n",
              "      <td>2</td>\n",
              "      <td>0</td>\n",
              "      <td>8</td>\n",
              "      <td>0</td>\n",
              "      <td>0</td>\n",
              "      <td>0</td>\n",
              "      <td>2</td>\n",
              "      <td>8</td>\n",
              "      <td>-3</td>\n",
              "      <td>2</td>\n",
              "      <td>-3</td>\n",
              "      <td>30</td>\n",
              "      <td>-4</td>\n",
              "      <td>2</td>\n",
              "      <td>21</td>\n",
              "      <td>9</td>\n",
              "      <td>-9</td>\n",
              "      <td>9</td>\n",
              "      <td>-3</td>\n",
              "      <td>-3</td>\n",
              "      <td>12</td>\n",
              "      <td>-5</td>\n",
              "      <td>1</td>\n",
              "    </tr>\n",
              "    <tr>\n",
              "      <th>Male</th>\n",
              "      <td>0</td>\n",
              "      <td>0</td>\n",
              "      <td>0</td>\n",
              "      <td>0</td>\n",
              "      <td>0</td>\n",
              "      <td>0</td>\n",
              "      <td>0</td>\n",
              "      <td>0</td>\n",
              "      <td>1</td>\n",
              "      <td>2</td>\n",
              "      <td>0</td>\n",
              "      <td>5</td>\n",
              "      <td>0</td>\n",
              "      <td>0</td>\n",
              "      <td>0</td>\n",
              "      <td>1</td>\n",
              "      <td>-41</td>\n",
              "      <td>-8</td>\n",
              "      <td>-1</td>\n",
              "      <td>-1</td>\n",
              "      <td>19</td>\n",
              "      <td>1</td>\n",
              "      <td>4</td>\n",
              "      <td>11</td>\n",
              "      <td>1</td>\n",
              "      <td>25</td>\n",
              "      <td>-32</td>\n",
              "      <td>16</td>\n",
              "      <td>-47</td>\n",
              "      <td>6</td>\n",
              "      <td>-1</td>\n",
              "      <td>1</td>\n",
              "    </tr>\n",
              "    <tr>\n",
              "      <th rowspan=\"2\" valign=\"top\">Married-civ-spouse</th>\n",
              "      <th>Female</th>\n",
              "      <td>33</td>\n",
              "      <td>35</td>\n",
              "      <td>20</td>\n",
              "      <td>6</td>\n",
              "      <td>18</td>\n",
              "      <td>23</td>\n",
              "      <td>22</td>\n",
              "      <td>77</td>\n",
              "      <td>93</td>\n",
              "      <td>311</td>\n",
              "      <td>20</td>\n",
              "      <td>533</td>\n",
              "      <td>113</td>\n",
              "      <td>3</td>\n",
              "      <td>27</td>\n",
              "      <td>323</td>\n",
              "      <td>41</td>\n",
              "      <td>38</td>\n",
              "      <td>15</td>\n",
              "      <td>-12</td>\n",
              "      <td>18</td>\n",
              "      <td>41</td>\n",
              "      <td>14</td>\n",
              "      <td>69</td>\n",
              "      <td>93</td>\n",
              "      <td>306</td>\n",
              "      <td>31</td>\n",
              "      <td>552</td>\n",
              "      <td>139</td>\n",
              "      <td>16</td>\n",
              "      <td>24</td>\n",
              "      <td>318</td>\n",
              "    </tr>\n",
              "    <tr>\n",
              "      <th>Male</th>\n",
              "      <td>316</td>\n",
              "      <td>319</td>\n",
              "      <td>110</td>\n",
              "      <td>75</td>\n",
              "      <td>154</td>\n",
              "      <td>336</td>\n",
              "      <td>208</td>\n",
              "      <td>383</td>\n",
              "      <td>596</td>\n",
              "      <td>2457</td>\n",
              "      <td>266</td>\n",
              "      <td>4312</td>\n",
              "      <td>890</td>\n",
              "      <td>17</td>\n",
              "      <td>385</td>\n",
              "      <td>2495</td>\n",
              "      <td>314</td>\n",
              "      <td>309</td>\n",
              "      <td>125</td>\n",
              "      <td>85</td>\n",
              "      <td>195</td>\n",
              "      <td>324</td>\n",
              "      <td>233</td>\n",
              "      <td>400</td>\n",
              "      <td>588</td>\n",
              "      <td>2458</td>\n",
              "      <td>259</td>\n",
              "      <td>4318</td>\n",
              "      <td>890</td>\n",
              "      <td>6</td>\n",
              "      <td>383</td>\n",
              "      <td>2495</td>\n",
              "    </tr>\n",
              "    <tr>\n",
              "      <th rowspan=\"2\" valign=\"top\">Married-spouse-absent</th>\n",
              "      <th>Female</th>\n",
              "      <td>7</td>\n",
              "      <td>7</td>\n",
              "      <td>4</td>\n",
              "      <td>3</td>\n",
              "      <td>5</td>\n",
              "      <td>6</td>\n",
              "      <td>3</td>\n",
              "      <td>8</td>\n",
              "      <td>8</td>\n",
              "      <td>32</td>\n",
              "      <td>3</td>\n",
              "      <td>63</td>\n",
              "      <td>9</td>\n",
              "      <td>0</td>\n",
              "      <td>1</td>\n",
              "      <td>46</td>\n",
              "      <td>-3</td>\n",
              "      <td>10</td>\n",
              "      <td>2</td>\n",
              "      <td>-2</td>\n",
              "      <td>4</td>\n",
              "      <td>38</td>\n",
              "      <td>16</td>\n",
              "      <td>3</td>\n",
              "      <td>13</td>\n",
              "      <td>48</td>\n",
              "      <td>1</td>\n",
              "      <td>105</td>\n",
              "      <td>16</td>\n",
              "      <td>1</td>\n",
              "      <td>-9</td>\n",
              "      <td>40</td>\n",
              "    </tr>\n",
              "    <tr>\n",
              "      <th>Male</th>\n",
              "      <td>8</td>\n",
              "      <td>12</td>\n",
              "      <td>4</td>\n",
              "      <td>9</td>\n",
              "      <td>15</td>\n",
              "      <td>8</td>\n",
              "      <td>6</td>\n",
              "      <td>4</td>\n",
              "      <td>5</td>\n",
              "      <td>36</td>\n",
              "      <td>4</td>\n",
              "      <td>58</td>\n",
              "      <td>8</td>\n",
              "      <td>4</td>\n",
              "      <td>2</td>\n",
              "      <td>30</td>\n",
              "      <td>27</td>\n",
              "      <td>10</td>\n",
              "      <td>19</td>\n",
              "      <td>11</td>\n",
              "      <td>16</td>\n",
              "      <td>0</td>\n",
              "      <td>21</td>\n",
              "      <td>-7</td>\n",
              "      <td>21</td>\n",
              "      <td>44</td>\n",
              "      <td>-11</td>\n",
              "      <td>30</td>\n",
              "      <td>19</td>\n",
              "      <td>2</td>\n",
              "      <td>11</td>\n",
              "      <td>7</td>\n",
              "    </tr>\n",
              "    <tr>\n",
              "      <th rowspan=\"2\" valign=\"top\">Never-married</th>\n",
              "      <th>Female</th>\n",
              "      <td>128</td>\n",
              "      <td>248</td>\n",
              "      <td>84</td>\n",
              "      <td>12</td>\n",
              "      <td>29</td>\n",
              "      <td>34</td>\n",
              "      <td>50</td>\n",
              "      <td>161</td>\n",
              "      <td>178</td>\n",
              "      <td>869</td>\n",
              "      <td>35</td>\n",
              "      <td>1235</td>\n",
              "      <td>216</td>\n",
              "      <td>10</td>\n",
              "      <td>37</td>\n",
              "      <td>1441</td>\n",
              "      <td>127</td>\n",
              "      <td>248</td>\n",
              "      <td>73</td>\n",
              "      <td>14</td>\n",
              "      <td>16</td>\n",
              "      <td>38</td>\n",
              "      <td>54</td>\n",
              "      <td>170</td>\n",
              "      <td>176</td>\n",
              "      <td>861</td>\n",
              "      <td>29</td>\n",
              "      <td>1240</td>\n",
              "      <td>204</td>\n",
              "      <td>4</td>\n",
              "      <td>35</td>\n",
              "      <td>1434</td>\n",
              "    </tr>\n",
              "    <tr>\n",
              "      <th>Male</th>\n",
              "      <td>233</td>\n",
              "      <td>338</td>\n",
              "      <td>148</td>\n",
              "      <td>27</td>\n",
              "      <td>60</td>\n",
              "      <td>79</td>\n",
              "      <td>105</td>\n",
              "      <td>176</td>\n",
              "      <td>184</td>\n",
              "      <td>926</td>\n",
              "      <td>38</td>\n",
              "      <td>1854</td>\n",
              "      <td>188</td>\n",
              "      <td>12</td>\n",
              "      <td>56</td>\n",
              "      <td>1492</td>\n",
              "      <td>240</td>\n",
              "      <td>339</td>\n",
              "      <td>160</td>\n",
              "      <td>31</td>\n",
              "      <td>61</td>\n",
              "      <td>75</td>\n",
              "      <td>95</td>\n",
              "      <td>182</td>\n",
              "      <td>182</td>\n",
              "      <td>897</td>\n",
              "      <td>20</td>\n",
              "      <td>1853</td>\n",
              "      <td>178</td>\n",
              "      <td>23</td>\n",
              "      <td>60</td>\n",
              "      <td>1512</td>\n",
              "    </tr>\n",
              "    <tr>\n",
              "      <th rowspan=\"2\" valign=\"top\">Separated</th>\n",
              "      <th>Female</th>\n",
              "      <td>31</td>\n",
              "      <td>28</td>\n",
              "      <td>12</td>\n",
              "      <td>5</td>\n",
              "      <td>11</td>\n",
              "      <td>13</td>\n",
              "      <td>17</td>\n",
              "      <td>16</td>\n",
              "      <td>29</td>\n",
              "      <td>46</td>\n",
              "      <td>4</td>\n",
              "      <td>270</td>\n",
              "      <td>14</td>\n",
              "      <td>1</td>\n",
              "      <td>3</td>\n",
              "      <td>131</td>\n",
              "      <td>37</td>\n",
              "      <td>23</td>\n",
              "      <td>1</td>\n",
              "      <td>29</td>\n",
              "      <td>4</td>\n",
              "      <td>23</td>\n",
              "      <td>16</td>\n",
              "      <td>5</td>\n",
              "      <td>37</td>\n",
              "      <td>55</td>\n",
              "      <td>-18</td>\n",
              "      <td>291</td>\n",
              "      <td>-8</td>\n",
              "      <td>10</td>\n",
              "      <td>16</td>\n",
              "      <td>140</td>\n",
              "    </tr>\n",
              "    <tr>\n",
              "      <th>Male</th>\n",
              "      <td>18</td>\n",
              "      <td>20</td>\n",
              "      <td>2</td>\n",
              "      <td>4</td>\n",
              "      <td>7</td>\n",
              "      <td>10</td>\n",
              "      <td>16</td>\n",
              "      <td>14</td>\n",
              "      <td>13</td>\n",
              "      <td>46</td>\n",
              "      <td>3</td>\n",
              "      <td>136</td>\n",
              "      <td>11</td>\n",
              "      <td>0</td>\n",
              "      <td>5</td>\n",
              "      <td>89</td>\n",
              "      <td>19</td>\n",
              "      <td>51</td>\n",
              "      <td>-1</td>\n",
              "      <td>-21</td>\n",
              "      <td>3</td>\n",
              "      <td>7</td>\n",
              "      <td>8</td>\n",
              "      <td>23</td>\n",
              "      <td>20</td>\n",
              "      <td>50</td>\n",
              "      <td>1</td>\n",
              "      <td>145</td>\n",
              "      <td>0</td>\n",
              "      <td>25</td>\n",
              "      <td>-28</td>\n",
              "      <td>97</td>\n",
              "    </tr>\n",
              "    <tr>\n",
              "      <th rowspan=\"2\" valign=\"top\">Widowed</th>\n",
              "      <th>Female</th>\n",
              "      <td>29</td>\n",
              "      <td>35</td>\n",
              "      <td>7</td>\n",
              "      <td>15</td>\n",
              "      <td>11</td>\n",
              "      <td>51</td>\n",
              "      <td>17</td>\n",
              "      <td>21</td>\n",
              "      <td>39</td>\n",
              "      <td>64</td>\n",
              "      <td>4</td>\n",
              "      <td>344</td>\n",
              "      <td>31</td>\n",
              "      <td>2</td>\n",
              "      <td>3</td>\n",
              "      <td>152</td>\n",
              "      <td>66</td>\n",
              "      <td>45</td>\n",
              "      <td>29</td>\n",
              "      <td>28</td>\n",
              "      <td>18</td>\n",
              "      <td>48</td>\n",
              "      <td>34</td>\n",
              "      <td>20</td>\n",
              "      <td>29</td>\n",
              "      <td>69</td>\n",
              "      <td>5</td>\n",
              "      <td>331</td>\n",
              "      <td>27</td>\n",
              "      <td>5</td>\n",
              "      <td>16</td>\n",
              "      <td>156</td>\n",
              "    </tr>\n",
              "    <tr>\n",
              "      <th>Male</th>\n",
              "      <td>10</td>\n",
              "      <td>3</td>\n",
              "      <td>3</td>\n",
              "      <td>2</td>\n",
              "      <td>3</td>\n",
              "      <td>13</td>\n",
              "      <td>6</td>\n",
              "      <td>2</td>\n",
              "      <td>2</td>\n",
              "      <td>18</td>\n",
              "      <td>3</td>\n",
              "      <td>70</td>\n",
              "      <td>10</td>\n",
              "      <td>1</td>\n",
              "      <td>2</td>\n",
              "      <td>20</td>\n",
              "      <td>15</td>\n",
              "      <td>5</td>\n",
              "      <td>8</td>\n",
              "      <td>6</td>\n",
              "      <td>-1</td>\n",
              "      <td>14</td>\n",
              "      <td>7</td>\n",
              "      <td>7</td>\n",
              "      <td>5</td>\n",
              "      <td>14</td>\n",
              "      <td>-1</td>\n",
              "      <td>78</td>\n",
              "      <td>15</td>\n",
              "      <td>15</td>\n",
              "      <td>6</td>\n",
              "      <td>20</td>\n",
              "    </tr>\n",
              "  </tbody>\n",
              "</table>\n",
              "</div>"
            ],
            "text/plain": [
              "Education                     10th  11th  ...  DP-Prof-school  DP-Some-college\n",
              "Martial Status        Sex                 ...                                 \n",
              "Divorced              Female    67    79  ...              31              726\n",
              "                      Male      53    51  ...              37              349\n",
              "Married-AF-spouse     Female     0     0  ...              -5                1\n",
              "                      Male       0     0  ...              -1                1\n",
              "Married-civ-spouse    Female    33    35  ...              24              318\n",
              "                      Male     316   319  ...             383             2495\n",
              "Married-spouse-absent Female     7     7  ...              -9               40\n",
              "                      Male       8    12  ...              11                7\n",
              "Never-married         Female   128   248  ...              35             1434\n",
              "                      Male     233   338  ...              60             1512\n",
              "Separated             Female    31    28  ...              16              140\n",
              "                      Male      18    20  ...             -28               97\n",
              "Widowed               Female    29    35  ...              16              156\n",
              "                      Male      10     3  ...               6               20\n",
              "\n",
              "[14 rows x 32 columns]"
            ]
          },
          "metadata": {
            "tags": []
          }
        },
        {
          "output_type": "stream",
          "text": [
            "/usr/local/lib/python3.7/dist-packages/ipykernel_launcher.py:22: RuntimeWarning: divide by zero encountered in long_scalars\n",
            "/usr/local/lib/python3.7/dist-packages/ipykernel_launcher.py:22: RuntimeWarning: divide by zero encountered in double_scalars\n"
          ],
          "name": "stderr"
        },
        {
          "output_type": "display_data",
          "data": {
            "text/html": [
              "<div>\n",
              "<style scoped>\n",
              "    .dataframe tbody tr th:only-of-type {\n",
              "        vertical-align: middle;\n",
              "    }\n",
              "\n",
              "    .dataframe tbody tr th {\n",
              "        vertical-align: top;\n",
              "    }\n",
              "\n",
              "    .dataframe thead th {\n",
              "        text-align: right;\n",
              "    }\n",
              "</style>\n",
              "<table border=\"1\" class=\"dataframe\">\n",
              "  <thead>\n",
              "    <tr style=\"text-align: right;\">\n",
              "      <th></th>\n",
              "      <th>Education</th>\n",
              "      <th>DP-10th-error</th>\n",
              "      <th>DP-11th-error</th>\n",
              "      <th>DP-12th-error</th>\n",
              "      <th>DP-1st-4th-error</th>\n",
              "      <th>DP-5th-6th-error</th>\n",
              "      <th>DP-7th-8th-error</th>\n",
              "      <th>DP-9th-error</th>\n",
              "      <th>DP-Assoc-acdm-error</th>\n",
              "      <th>DP-Assoc-voc-error</th>\n",
              "      <th>DP-Bachelors-error</th>\n",
              "      <th>DP-Doctorate-error</th>\n",
              "      <th>DP-HS-grad-error</th>\n",
              "      <th>DP-Masters-error</th>\n",
              "      <th>DP-Preschool-error</th>\n",
              "      <th>DP-Prof-school-error</th>\n",
              "      <th>DP-Some-college-error</th>\n",
              "    </tr>\n",
              "    <tr>\n",
              "      <th>Martial Status</th>\n",
              "      <th>Sex</th>\n",
              "      <th></th>\n",
              "      <th></th>\n",
              "      <th></th>\n",
              "      <th></th>\n",
              "      <th></th>\n",
              "      <th></th>\n",
              "      <th></th>\n",
              "      <th></th>\n",
              "      <th></th>\n",
              "      <th></th>\n",
              "      <th></th>\n",
              "      <th></th>\n",
              "      <th></th>\n",
              "      <th></th>\n",
              "      <th></th>\n",
              "      <th></th>\n",
              "    </tr>\n",
              "  </thead>\n",
              "  <tbody>\n",
              "    <tr>\n",
              "      <th rowspan=\"2\" valign=\"top\">Divorced</th>\n",
              "      <th>Female</th>\n",
              "      <td>14.93</td>\n",
              "      <td>22.78</td>\n",
              "      <td>182.35</td>\n",
              "      <td>140.00</td>\n",
              "      <td>60.00</td>\n",
              "      <td>21.21</td>\n",
              "      <td>54.29</td>\n",
              "      <td>2.94</td>\n",
              "      <td>2.61</td>\n",
              "      <td>10.51</td>\n",
              "      <td>290.00</td>\n",
              "      <td>2.56</td>\n",
              "      <td>0.00</td>\n",
              "      <td>inf</td>\n",
              "      <td>47.62</td>\n",
              "      <td>2.11</td>\n",
              "    </tr>\n",
              "    <tr>\n",
              "      <th>Male</th>\n",
              "      <td>18.87</td>\n",
              "      <td>13.73</td>\n",
              "      <td>13.64</td>\n",
              "      <td>200.00</td>\n",
              "      <td>40.00</td>\n",
              "      <td>5.00</td>\n",
              "      <td>48.28</td>\n",
              "      <td>7.46</td>\n",
              "      <td>8.64</td>\n",
              "      <td>0.80</td>\n",
              "      <td>115.38</td>\n",
              "      <td>5.47</td>\n",
              "      <td>33.75</td>\n",
              "      <td>2800.00</td>\n",
              "      <td>8.82</td>\n",
              "      <td>2.51</td>\n",
              "    </tr>\n",
              "    <tr>\n",
              "      <th rowspan=\"2\" valign=\"top\">Married-AF-spouse</th>\n",
              "      <th>Female</th>\n",
              "      <td>inf</td>\n",
              "      <td>inf</td>\n",
              "      <td>inf</td>\n",
              "      <td>inf</td>\n",
              "      <td>inf</td>\n",
              "      <td>inf</td>\n",
              "      <td>inf</td>\n",
              "      <td>950.00</td>\n",
              "      <td>inf</td>\n",
              "      <td>550.00</td>\n",
              "      <td>inf</td>\n",
              "      <td>137.50</td>\n",
              "      <td>inf</td>\n",
              "      <td>inf</td>\n",
              "      <td>inf</td>\n",
              "      <td>50.00</td>\n",
              "    </tr>\n",
              "    <tr>\n",
              "      <th>Male</th>\n",
              "      <td>inf</td>\n",
              "      <td>inf</td>\n",
              "      <td>inf</td>\n",
              "      <td>inf</td>\n",
              "      <td>inf</td>\n",
              "      <td>inf</td>\n",
              "      <td>inf</td>\n",
              "      <td>inf</td>\n",
              "      <td>0.00</td>\n",
              "      <td>1150.00</td>\n",
              "      <td>inf</td>\n",
              "      <td>220.00</td>\n",
              "      <td>inf</td>\n",
              "      <td>inf</td>\n",
              "      <td>inf</td>\n",
              "      <td>0.00</td>\n",
              "    </tr>\n",
              "    <tr>\n",
              "      <th rowspan=\"2\" valign=\"top\">Married-civ-spouse</th>\n",
              "      <th>Female</th>\n",
              "      <td>24.24</td>\n",
              "      <td>8.57</td>\n",
              "      <td>25.00</td>\n",
              "      <td>300.00</td>\n",
              "      <td>0.00</td>\n",
              "      <td>78.26</td>\n",
              "      <td>36.36</td>\n",
              "      <td>10.39</td>\n",
              "      <td>0.00</td>\n",
              "      <td>1.61</td>\n",
              "      <td>55.00</td>\n",
              "      <td>3.56</td>\n",
              "      <td>23.01</td>\n",
              "      <td>433.33</td>\n",
              "      <td>11.11</td>\n",
              "      <td>1.55</td>\n",
              "    </tr>\n",
              "    <tr>\n",
              "      <th>Male</th>\n",
              "      <td>0.63</td>\n",
              "      <td>3.13</td>\n",
              "      <td>13.64</td>\n",
              "      <td>13.33</td>\n",
              "      <td>26.62</td>\n",
              "      <td>3.57</td>\n",
              "      <td>12.02</td>\n",
              "      <td>4.44</td>\n",
              "      <td>1.34</td>\n",
              "      <td>0.04</td>\n",
              "      <td>2.63</td>\n",
              "      <td>0.14</td>\n",
              "      <td>0.00</td>\n",
              "      <td>64.71</td>\n",
              "      <td>0.52</td>\n",
              "      <td>0.00</td>\n",
              "    </tr>\n",
              "    <tr>\n",
              "      <th rowspan=\"2\" valign=\"top\">Married-spouse-absent</th>\n",
              "      <th>Female</th>\n",
              "      <td>142.86</td>\n",
              "      <td>42.86</td>\n",
              "      <td>50.00</td>\n",
              "      <td>166.67</td>\n",
              "      <td>20.00</td>\n",
              "      <td>533.33</td>\n",
              "      <td>433.33</td>\n",
              "      <td>62.50</td>\n",
              "      <td>62.50</td>\n",
              "      <td>50.00</td>\n",
              "      <td>66.67</td>\n",
              "      <td>66.67</td>\n",
              "      <td>77.78</td>\n",
              "      <td>inf</td>\n",
              "      <td>1000.00</td>\n",
              "      <td>13.04</td>\n",
              "    </tr>\n",
              "    <tr>\n",
              "      <th>Male</th>\n",
              "      <td>237.50</td>\n",
              "      <td>16.67</td>\n",
              "      <td>375.00</td>\n",
              "      <td>22.22</td>\n",
              "      <td>6.67</td>\n",
              "      <td>100.00</td>\n",
              "      <td>250.00</td>\n",
              "      <td>275.00</td>\n",
              "      <td>320.00</td>\n",
              "      <td>22.22</td>\n",
              "      <td>375.00</td>\n",
              "      <td>48.28</td>\n",
              "      <td>137.50</td>\n",
              "      <td>50.00</td>\n",
              "      <td>450.00</td>\n",
              "      <td>76.67</td>\n",
              "    </tr>\n",
              "    <tr>\n",
              "      <th rowspan=\"2\" valign=\"top\">Never-married</th>\n",
              "      <th>Female</th>\n",
              "      <td>0.78</td>\n",
              "      <td>0.00</td>\n",
              "      <td>13.10</td>\n",
              "      <td>16.67</td>\n",
              "      <td>44.83</td>\n",
              "      <td>11.76</td>\n",
              "      <td>8.00</td>\n",
              "      <td>5.59</td>\n",
              "      <td>1.12</td>\n",
              "      <td>0.92</td>\n",
              "      <td>17.14</td>\n",
              "      <td>0.40</td>\n",
              "      <td>5.56</td>\n",
              "      <td>60.00</td>\n",
              "      <td>5.41</td>\n",
              "      <td>0.49</td>\n",
              "    </tr>\n",
              "    <tr>\n",
              "      <th>Male</th>\n",
              "      <td>3.00</td>\n",
              "      <td>0.30</td>\n",
              "      <td>8.11</td>\n",
              "      <td>14.81</td>\n",
              "      <td>1.67</td>\n",
              "      <td>5.06</td>\n",
              "      <td>9.52</td>\n",
              "      <td>3.41</td>\n",
              "      <td>1.09</td>\n",
              "      <td>3.13</td>\n",
              "      <td>47.37</td>\n",
              "      <td>0.05</td>\n",
              "      <td>5.32</td>\n",
              "      <td>91.67</td>\n",
              "      <td>7.14</td>\n",
              "      <td>1.34</td>\n",
              "    </tr>\n",
              "    <tr>\n",
              "      <th rowspan=\"2\" valign=\"top\">Separated</th>\n",
              "      <th>Female</th>\n",
              "      <td>19.35</td>\n",
              "      <td>17.86</td>\n",
              "      <td>91.67</td>\n",
              "      <td>480.00</td>\n",
              "      <td>63.64</td>\n",
              "      <td>76.92</td>\n",
              "      <td>5.88</td>\n",
              "      <td>68.75</td>\n",
              "      <td>27.59</td>\n",
              "      <td>19.57</td>\n",
              "      <td>550.00</td>\n",
              "      <td>7.78</td>\n",
              "      <td>157.14</td>\n",
              "      <td>900.00</td>\n",
              "      <td>433.33</td>\n",
              "      <td>6.87</td>\n",
              "    </tr>\n",
              "    <tr>\n",
              "      <th>Male</th>\n",
              "      <td>5.56</td>\n",
              "      <td>155.00</td>\n",
              "      <td>150.00</td>\n",
              "      <td>625.00</td>\n",
              "      <td>57.14</td>\n",
              "      <td>30.00</td>\n",
              "      <td>50.00</td>\n",
              "      <td>64.29</td>\n",
              "      <td>53.85</td>\n",
              "      <td>8.70</td>\n",
              "      <td>66.67</td>\n",
              "      <td>6.62</td>\n",
              "      <td>100.00</td>\n",
              "      <td>inf</td>\n",
              "      <td>660.00</td>\n",
              "      <td>8.99</td>\n",
              "    </tr>\n",
              "    <tr>\n",
              "      <th rowspan=\"2\" valign=\"top\">Widowed</th>\n",
              "      <th>Female</th>\n",
              "      <td>127.59</td>\n",
              "      <td>28.57</td>\n",
              "      <td>314.29</td>\n",
              "      <td>86.67</td>\n",
              "      <td>63.64</td>\n",
              "      <td>5.88</td>\n",
              "      <td>100.00</td>\n",
              "      <td>4.76</td>\n",
              "      <td>25.64</td>\n",
              "      <td>7.81</td>\n",
              "      <td>25.00</td>\n",
              "      <td>3.78</td>\n",
              "      <td>12.90</td>\n",
              "      <td>150.00</td>\n",
              "      <td>433.33</td>\n",
              "      <td>2.63</td>\n",
              "    </tr>\n",
              "    <tr>\n",
              "      <th>Male</th>\n",
              "      <td>50.00</td>\n",
              "      <td>66.67</td>\n",
              "      <td>166.67</td>\n",
              "      <td>200.00</td>\n",
              "      <td>133.33</td>\n",
              "      <td>7.69</td>\n",
              "      <td>16.67</td>\n",
              "      <td>250.00</td>\n",
              "      <td>150.00</td>\n",
              "      <td>22.22</td>\n",
              "      <td>133.33</td>\n",
              "      <td>11.43</td>\n",
              "      <td>50.00</td>\n",
              "      <td>1400.00</td>\n",
              "      <td>200.00</td>\n",
              "      <td>0.00</td>\n",
              "    </tr>\n",
              "  </tbody>\n",
              "</table>\n",
              "</div>"
            ],
            "text/plain": [
              "Education                     DP-10th-error  ...  DP-Some-college-error\n",
              "Martial Status        Sex                    ...                       \n",
              "Divorced              Female          14.93  ...                   2.11\n",
              "                      Male            18.87  ...                   2.51\n",
              "Married-AF-spouse     Female            inf  ...                  50.00\n",
              "                      Male              inf  ...                   0.00\n",
              "Married-civ-spouse    Female          24.24  ...                   1.55\n",
              "                      Male             0.63  ...                   0.00\n",
              "Married-spouse-absent Female         142.86  ...                  13.04\n",
              "                      Male           237.50  ...                  76.67\n",
              "Never-married         Female           0.78  ...                   0.49\n",
              "                      Male             3.00  ...                   1.34\n",
              "Separated             Female          19.35  ...                   6.87\n",
              "                      Male             5.56  ...                   8.99\n",
              "Widowed               Female         127.59  ...                   2.63\n",
              "                      Male            50.00  ...                   0.00\n",
              "\n",
              "[14 rows x 16 columns]"
            ]
          },
          "metadata": {
            "tags": []
          }
        }
      ]
    },
    {
      "cell_type": "markdown",
      "metadata": {
        "id": "3IOru0FecTaC"
      },
      "source": [
        "### Question 11 (5 points)\n",
        "\n",
        "In 5-10 sentences, answer the following:\n",
        "- What is the privacy cost of your differentially private contingency table in Question 10? Why?\n",
        "- The contingency table in the last question contains 3 variables, compared to 2 in the table from earlier. Is the privacy cost for the table in Question 10 different from the privacy cost in Question 7? Why or why not?\n",
        "- In general, what is the effect of the number of variables in a single contingency on **privacy cost**? Why is this the case?\n",
        "- In general, what is the effect of the number of variables in a single contingency on **accuracy**? Why is this the case?"
      ]
    },
    {
      "cell_type": "markdown",
      "metadata": {
        "id": "EYKpjsexmMnU"
      },
      "source": [
        "- The privacy cost is equal to the epsilon that I set as 0.1 earlier because the queries are disjoint and are counting different parts of the same dataset which makes it a parallel composition.\n",
        "- No the privacy cost is the same and is equal to the epsilon that I have chosen. Because the whole dataset is divided into several disjoint chunks of data and we perform the same queries on different chunks and each individual can be in exactly one of these chunks and will be queried only once in both questions.\n",
        "- In general, it does not affect the privacy cost because it only divides the dataset into smaller disjoint chunks each of which contain none or several individual data, but no one belongs to multiple chunks to be queried multiple times.\n",
        "- Increasing variables (from 2 to 3 in this case) causes each cell to have smaller values, thus being prone to be impacted more by the added noise. So in general, more variables may reduce the accuracy."
      ]
    },
    {
      "cell_type": "markdown",
      "metadata": {
        "id": "T6uJvmJ6cTaC"
      },
      "source": [
        "### Question 12 (2 points)\n",
        "\n",
        "Define a function `z_clip` that clips elements of its input to lie below `b`. You may assume that no input will be less than 0."
      ]
    },
    {
      "cell_type": "code",
      "metadata": {
        "id": "ETPiUPoBcTaC"
      },
      "source": [
        "def z_clip(xs, b):\n",
        "  return [min(x, b) for x in xs]"
      ],
      "execution_count": 24,
      "outputs": []
    },
    {
      "cell_type": "markdown",
      "metadata": {
        "id": "NTCIQnsAcTaD"
      },
      "source": [
        "### Question 13 (3 points)\n",
        "\n",
        "Write code to (1) clip the values of the `Capital Gain` column of the dataset, and (2) compute the average of the clipped values. Run your code for various values of the clipping parameter `b`."
      ]
    },
    {
      "cell_type": "code",
      "metadata": {
        "colab": {
          "base_uri": "https://localhost:8080/"
        },
        "id": "P0Lwh4rWcTaD",
        "outputId": "5096bbe2-6d40-427a-831e-58d5b7d25f0b"
      },
      "source": [
        "cg = adult_data['Capital Gain']\n",
        "print('Average of original values: %.2f\\n' % np.mean(cg))\n",
        "bs = [100, 200, 500, 1000, 2000, 5000, 10000, 20000, 50000, 90000, 99998, 100000, 200000]\n",
        "for b in bs:\n",
        "  print('Average clipped values for b=%d: ' % b, np.mean(z_clip(cg, b)).round(decimals=2))\n",
        "print('\\nSensitivity at b=99999: %.2f' % ((max(cg)-min(cg))/len(cg)))"
      ],
      "execution_count": 45,
      "outputs": [
        {
          "output_type": "stream",
          "text": [
            "Average of original values: 1077.65\n",
            "\n",
            "Average clipped values for b=100:  8.33\n",
            "Average clipped values for b=200:  16.64\n",
            "Average clipped values for b=500:  41.57\n",
            "Average clipped values for b=1000:  82.64\n",
            "Average clipped values for b=2000:  162.44\n",
            "Average clipped values for b=5000:  352.41\n",
            "Average clipped values for b=10000:  526.56\n",
            "Average clipped values for b=20000:  672.84\n",
            "Average clipped values for b=50000:  833.5\n",
            "Average clipped values for b=90000:  1028.82\n",
            "Average clipped values for b=99998:  1077.64\n",
            "Average clipped values for b=100000:  1077.65\n",
            "Average clipped values for b=200000:  1077.65\n",
            "\n",
            "Sensitivity at b=99999: 3.07\n"
          ],
          "name": "stdout"
        }
      ]
    },
    {
      "cell_type": "markdown",
      "metadata": {
        "id": "EqFTDzJNcTaD"
      },
      "source": [
        "### Question 14 (5 points)\n",
        "\n",
        "Write code to return the differentially private average of `Capital Gain` parameterized by the clipping parameter `b`. Run your code for various values of `b` and determine the error introduced for each value of `b`. \n",
        "\n",
        "*Note*: Your output should look something like the triple ('b', 'answer', 'pct_error')."
      ]
    },
    {
      "cell_type": "code",
      "metadata": {
        "colab": {
          "base_uri": "https://localhost:8080/"
        },
        "id": "_OQlSMzXcTaD",
        "outputId": "a99a1f4c-566c-47de-93db-93220ff02cb2"
      },
      "source": [
        "# Here I assume that we want to see the impact of the DP mechanism on the \n",
        "# clipped values in a larger scale and as the parameter b changes. Therefore, \n",
        "# I do not consider it as a sequential composition and did not divide the value \n",
        "# of epsilon for each query.\n",
        "epsilon = 0.1\n",
        "cg_avg_orig = np.mean(cg)\n",
        "for b in bs:\n",
        "  clipped = z_clip(cg, b)\n",
        "  sensitivity = (max(clipped)-min(clipped)) / len(clipped) # Average query\n",
        "  print('> Sensitivity: %.2f' % sensitivity)\n",
        "  dp_value = laplace_mech(np.mean(clipped), sensitivity, epsilon)\n",
        "  print(tuple((b, dp_value.round(decimals=2), pct_error(cg_avg_orig, dp_value).round(decimals=2))))"
      ],
      "execution_count": 47,
      "outputs": [
        {
          "output_type": "stream",
          "text": [
            "> Sensitivity: 0.00\n",
            "(100, 8.33, 99.23)\n",
            "> Sensitivity: 0.01\n",
            "(200, 16.67, 98.45)\n",
            "> Sensitivity: 0.02\n",
            "(500, 41.29, 96.17)\n",
            "> Sensitivity: 0.03\n",
            "(1000, 83.73, 92.23)\n",
            "> Sensitivity: 0.06\n",
            "(2000, 162.94, 84.88)\n",
            "> Sensitivity: 0.15\n",
            "(5000, 343.95, 68.08)\n",
            "> Sensitivity: 0.31\n",
            "(10000, 524.79, 51.3)\n",
            "> Sensitivity: 0.61\n",
            "(20000, 675.88, 37.28)\n",
            "> Sensitivity: 1.54\n",
            "(50000, 829.78, 23.0)\n",
            "> Sensitivity: 2.76\n",
            "(90000, 1094.72, 1.58)\n",
            "> Sensitivity: 3.07\n",
            "(99998, 1074.06, 0.33)\n",
            "> Sensitivity: 3.07\n",
            "(100000, 1092.62, 1.39)\n",
            "> Sensitivity: 3.07\n",
            "(200000, 1112.64, 3.25)\n"
          ],
          "name": "stdout"
        }
      ]
    },
    {
      "cell_type": "markdown",
      "metadata": {
        "id": "K7w82UY4cTaE"
      },
      "source": [
        "### Question 15 (5 points)\n",
        "\n",
        "In 5-10 sentences, answer the following:\n",
        "\n",
        "- In Question 13, at approximately what value of the clipping parameter `b` does the clipped average approach the original (un-clipped) average?\n",
        "- What is the sensitivity of the clipped average at this value of `b`, and why?\n",
        "- In Question 14, at approximately what value of the clipping parameter `b` is the error minimized?\n",
        "- Which seems to be more important for accuracy - the value of `b` or the scale of the noise added? Why?\n",
        "- Do you think the answer to the previous point will be true for every dataset? Why or why not?"
      ]
    },
    {
      "cell_type": "markdown",
      "metadata": {
        "id": "tbNZ64T40j_d"
      },
      "source": [
        "- At b=99999 the clipped average approaches the original value because the maximum value in cg is 99999\n",
        "- The sensitivity at this value of b (as printed above) is equal to 3.07\n",
        "- After around b=90000 the error becomes mostly less than 10%\n",
        "- Both of them can be important depending on the range of values and their importance can change depending on how large the original value is. For larger values of average, the scale of noise becomes less important and clipping with a relatively small *b* can have large impact. For example, original average here is around 1000 and for *b=100*, the average of the clipped values (~8) is much more different from the original value and has larger impact compared to scale of noise. Moreover, *b* can affect the scale of noise because *b* may change the range of values, so the sensitivity (as printed for different values of *b* in the cell above).\n",
        "- No, again as stated above, depending on the range of values it may change."
      ]
    },
    {
      "cell_type": "markdown",
      "metadata": {
        "id": "cu7ieR6VcTaE"
      },
      "source": [
        "### Question 16 (10 points)\n",
        "\n",
        "Write a function `auto_avg` that returns the differentially private average of an array of values `xs`. Your function should **automatically** determine the clipping parameter `b`, and should enforce differential privacy for a **total** privacy cost of `epsilon`."
      ]
    },
    {
      "cell_type": "code",
      "metadata": {
        "id": "G6WGMSV2cTaF"
      },
      "source": [
        "def auto_avg(xs, epsilon):\n",
        "  # b_range_0 = [100, 1000, 10000, 100000, 1000000]\n",
        "  b_range = range(10000,200000,10000)\n",
        "  n = len(b_range)\n",
        "  epsilon_i = epsilon / n # It is a sequential composition\n",
        "  prev = 0\n",
        "  minimum_diff = 0\n",
        "  avg = 0\n",
        "  b_optim = b_range[-1]\n",
        "  for b in b_range:\n",
        "    clipped = z_clip(xs, b)\n",
        "    sensitivity = (max(clipped)-min(clipped)) / len(clipped) # Average query\n",
        "    dp = laplace_mech(np.mean(clipped), sensitivity, epsilon_i)\n",
        "    if minimum_diff == 0:\n",
        "      minimum_diff = dp-prev\n",
        "    if abs(dp-prev)<minimum_diff:\n",
        "      print('Average for b=%d: %.2f' % (b, dp))\n",
        "      minimum_diff = abs(dp-prev)\n",
        "      b_optim = b\n",
        "      avg = dp\n",
        "    prev = dp\n",
        "  print('The best clipping parameter b: ', b_optim)\n",
        "  return avg"
      ],
      "execution_count": 230,
      "outputs": []
    },
    {
      "cell_type": "code",
      "metadata": {
        "colab": {
          "base_uri": "https://localhost:8080/"
        },
        "id": "PVDhvomPvAFE",
        "outputId": "03e41db2-2a6f-441f-c469-3bd3a71a26c0"
      },
      "source": [
        "# Calculating the average for the previous problem (Capital Gain)\n",
        "print('{:.2f}'.format(auto_avg(cg, 10)))"
      ],
      "execution_count": 232,
      "outputs": [
        {
          "output_type": "stream",
          "text": [
            "Average for b=20000: 672.26\n",
            "Average for b=30000: 737.93\n",
            "Average for b=40000: 785.65\n",
            "Average for b=60000: 878.58\n",
            "Average for b=110000: 1080.37\n",
            "The best clipping parameter b:  110000\n",
            "1080.37\n"
          ],
          "name": "stdout"
        }
      ]
    },
    {
      "cell_type": "markdown",
      "metadata": {
        "id": "8w8zrMhwcTaF"
      },
      "source": [
        "### Question 17 (8 points)\n",
        "\n",
        "In 5-10 sentences, answer the following:\n",
        "- Summarize (1-2 sentences only) your approach in `auto_avg`.\n",
        "- Briefly argue that your implementation has privacy cost of `epsilon`.\n",
        "- How close is your function able to get to the \"best\" result you got in Question 14? What accounts for the difference?\n",
        "- Will your approach work well for **all** datasets? If not, describe a dataset for which it is likely to return very inaccurate results."
      ]
    },
    {
      "cell_type": "markdown",
      "metadata": {
        "id": "1zl1_GuB7Ucy"
      },
      "source": [
        "- This function iterates over a predefined set for values of *b* and calculates the DP average values and keeps track of the minimum difference between each step of *b* and returns the value of DP and prints the value of *b* for when this difference is minimum.\n",
        "- I perform multiple sequential queries to obtain the answers for differnet values of *b*. Therefore, the total epsilon should be divided to the number of queries (length of *b_range*), and then be used for generating noise so that the total epsilon becomes equal to he specified epsilon.\n",
        "- It is fairly close. The accuracy would depend on the range and values of *b* and the number of queries (*len(b_range)*). If we use *b_range_0* with fewer values and closer to the maximum value in the vector, the results might be more accurate.\n",
        "- No, here I assumed that I should not use the range of the actual data and write an approach without seeing the data, but still I knew that the data type is Capital Gain and approximately what range of values it may have (e.g. the steps of b). If we have less information about the data type, more queries with smaller steps and larger span of *b* would be required."
      ]
    },
    {
      "cell_type": "markdown",
      "metadata": {
        "id": "V4CdwiT2cTaF"
      },
      "source": [
        "### Question 18 (3 points)\n",
        "\n",
        "Consider the code below, which graphs the total privacy cost of an averaging attack under (1) sequential composition and (2) advanced composition, for values of `k` between 1 and 200."
      ]
    },
    {
      "cell_type": "code",
      "metadata": {
        "colab": {
          "base_uri": "https://localhost:8080/",
          "height": 262
        },
        "id": "99ljyErscTaF",
        "outputId": "2a2adfdf-f8f1-4c21-cade-4a045d2b6cbf"
      },
      "source": [
        "epsilon = .1\n",
        "delta_p = 1e-5\n",
        "\n",
        "def query():\n",
        "    return len(adult_data[adult_data['Martial Status'] == 'Divorced'])\n",
        "\n",
        "def avg_attack(k):\n",
        "    return np.mean([laplace_mech(query(), 1, epsilon) for i in range(k)])\n",
        "    \n",
        "xs = range(1, 200)\n",
        "privacy_cost_sequential = [k * epsilon for k in xs]\n",
        "privacy_cost_advanced = [2 * epsilon * np.sqrt(2 * k * np.log(1/delta_p)) for k in xs]\n",
        "\n",
        "plt.plot(xs, privacy_cost_sequential);\n",
        "plt.plot(xs, privacy_cost_advanced);"
      ],
      "execution_count": 233,
      "outputs": [
        {
          "output_type": "display_data",
          "data": {
            "image/png": "[encoded data removed]",
            "text/plain": [
              "<Figure size 432x288 with 1 Axes>"
            ]
          },
          "metadata": {
            "tags": []
          }
        }
      ]
    },
    {
      "cell_type": "markdown",
      "metadata": {
        "id": "9p0pD-f4cTaG"
      },
      "source": [
        "In 2-5 sentences, answer the following:\n",
        "- At approximately what point do the lines representing the two approaches cross? What does this mean about **which** composition technique should be used for an iterative algorithm?\n",
        "- The two lines represent **different** privacy costs for the **same** algorithm. How can both be correct?"
      ]
    },
    {
      "cell_type": "markdown",
      "metadata": {
        "id": "cbD7ffngGhmr"
      },
      "source": [
        "- The two lines cross approximately around 90. For values lower than 90, sequential composition and for higher values, advanced composition should be used.\n",
        "- This is because these are upper bounds for the privacy cost and sequential privacy provides a looser upper bound. This is especially considerable for higher values, in which advanced composition has a more realistic (lower) upper bound on the cost compared to a looser bound in sequential composition."
      ]
    },
    {
      "cell_type": "markdown",
      "metadata": {
        "id": "izcTrrfecTaG"
      },
      "source": [
        "### Question 19 (3 points)\n",
        "\n",
        "In the cell below, define a function that implements the vector version of the Laplace mechanism."
      ]
    },
    {
      "cell_type": "code",
      "metadata": {
        "id": "e9_dkLEXcTaG"
      },
      "source": [
        "def laplace_mech_vec(qs, sensitivity, epsilon):\n",
        "  noise = np.random.laplace(loc=0, scale=sensitivity / epsilon)\n",
        "  return [v + noise for v in qs] # This assures that the same value of noise would be added to all the elements"
      ],
      "execution_count": 234,
      "outputs": []
    },
    {
      "cell_type": "markdown",
      "metadata": {
        "id": "3joSbF5WcTaG"
      },
      "source": [
        "### Question 20 (3 points)\n",
        "\n",
        "In the cell below, define a function that implements the vector version of the Gaussian mechanism."
      ]
    },
    {
      "cell_type": "code",
      "metadata": {
        "id": "ph-cePYIcTaG"
      },
      "source": [
        "def gaussian_mech_vec(qs, sensitivity, epsilon, delta):\n",
        "  sigma = np.sqrt(2 * np.log(1.25 / delta)) * sensitivity / epsilon\n",
        "  noise = np.random.normal(loc=0, scale=sigma)\n",
        "  return [v + noise for v in qs] # This assures that the same value of noise would be added to all the elements"
      ],
      "execution_count": 235,
      "outputs": []
    },
    {
      "cell_type": "markdown",
      "metadata": {
        "id": "22-M6Mj8cTaH"
      },
      "source": [
        "### Question 21 (4 points)\n",
        "\n",
        "Consider the code below, which defines three average queries and runs them on `adult_data`."
      ]
    },
    {
      "cell_type": "code",
      "metadata": {
        "colab": {
          "base_uri": "https://localhost:8080/"
        },
        "id": "S5CkDYC2cTaH",
        "outputId": "8a228ee5-0a30-40ba-b33d-04baffea65f0"
      },
      "source": [
        "b_capgain = 3000\n",
        "b_year = 3000\n",
        "b_age = 3000\n",
        "\n",
        "n = len(adult_data)\n",
        "\n",
        "def query1():\n",
        "    return np.sum(z_clip(adult_data['Capital Gain'], b_capgain))/n\n",
        "\n",
        "def query2():\n",
        "    return np.sum(z_clip(adult_data['DOB'].dt.year, b_year))/n\n",
        "\n",
        "def query3():\n",
        "    return np.sum(z_clip(adult_data['Age'], b_age))/n\n",
        "\n",
        "def my_query():\n",
        "    return [query1(), query2(), query3()]\n",
        "\n",
        "my_query()"
      ],
      "execution_count": 242,
      "outputs": [
        {
          "output_type": "execute_result",
          "data": {
            "text/plain": [
              "[235.98968090660605, 2013.803599398053, 38.58164675532078]"
            ]
          },
          "metadata": {
            "tags": []
          },
          "execution_count": 242
        }
      ]
    },
    {
      "cell_type": "markdown",
      "metadata": {
        "id": "b-2YT0N4cTaH"
      },
      "source": [
        "In 2-5 sentences, answer the following:\n",
        "- What is the $L_1$ sensitivity of `my_query`, and why?\n",
        "- What is the $L_2$ sensitivity of `my_query`, and why?"
      ]
    },
    {
      "cell_type": "markdown",
      "metadata": {
        "id": "TwCq-7J9JVSq"
      },
      "source": [
        "- The $L_1$ sensitivity is equal to sum of elementwise sensitivities: $S_1$, $S_2$, and $S_3$.<br>\n",
        "$S_i=\\frac{max(values_i)-min(values_i)}{len(values_i)}$<br>\n",
        "For simplicity (because it seems like this based on the same values for clipping and *n*), if we assume all the values in the output of these queries are clipped (and have value) between 0 and 3000, then all the sensitivities would be equal to $\\frac{3000}{n}$ and the $L_1$ sensitivity would be equal to $\\frac{9000}{n}$. But, I will calculate the actual values in the cell below.\n",
        "- The $L_2$ sensitivity is equal to the square root of sum of elementwise sensitivities: $\\sqrt{S_1+S_2+S_3}$ (calculated below)"
      ]
    },
    {
      "cell_type": "code",
      "metadata": {
        "colab": {
          "base_uri": "https://localhost:8080/"
        },
        "id": "WAYZD91ZMKhG",
        "outputId": "e7f99419-628d-47b0-cdb5-8ac90f26a984"
      },
      "source": [
        "import math\n",
        "s1 = (max(z_clip(adult_data['Capital Gain'], b_capgain))-min(z_clip(adult_data['Capital Gain'], b_capgain)))/n\n",
        "s2 = (max(z_clip(adult_data['DOB'].dt.year, b_year))-min(z_clip(adult_data['DOB'].dt.year, b_year)))/n\n",
        "s3 = (max(z_clip(adult_data['Age'], b_age))-min(z_clip(adult_data['Age'], b_age)))/n\n",
        "l1_sensitivity = 9000/n\n",
        "l2_sensitivity = math.sqrt(9000/n)\n",
        "print('Precise L_1 sensitivity: %.3f' % (s1+s2+s3))\n",
        "print('Approximate L_1 sensitivity: %.3f' % l1_sensitivity)\n",
        "print('Precise L_2 sensitivity: %.3f' % math.sqrt(s1+s2+s3))\n",
        "print('Approximate L_2 sensitivity: %.3f' % l2_sensitivity)"
      ],
      "execution_count": 268,
      "outputs": [
        {
          "output_type": "stream",
          "text": [
            "Precise L_1 sensitivity: 0.097\n",
            "Approximate L_1 sensitivity: 0.276\n",
            "Precise L_2 sensitivity: 0.312\n",
            "Approximate L_2 sensitivity: 0.526\n"
          ],
          "name": "stdout"
        }
      ]
    },
    {
      "cell_type": "markdown",
      "metadata": {
        "id": "Y0UI5RXbcTaH"
      },
      "source": [
        "\n",
        "### Question 22 (6 points)\n",
        "\n",
        "In the cell below, write code to release the results of calling `my_query()` with differential privacy, without using sequential composition.\n",
        "\n",
        "*Hint*: use `laplace_mech_vec`, but be careful of sensitivity!"
      ]
    },
    {
      "cell_type": "code",
      "metadata": {
        "colab": {
          "base_uri": "https://localhost:8080/"
        },
        "id": "Au7vFJQGcTaI",
        "outputId": "2e4fde9b-bbcf-4062-c732-188e19106e51"
      },
      "source": [
        "# I set epsilon as 0.1 and use the approximate l1_sensitivity calculated in \n",
        "# the previous question because Laplace mechanism only uses L_1 sensitivity.\n",
        "# Also, this sensitivity would be used to generate a unique noise for all the \n",
        "# elements of the vector\n",
        "epsilon = 0.1\n",
        "laplace_mech_vec(my_query(), l1_sensitivity, epsilon)"
      ],
      "execution_count": 269,
      "outputs": [
        {
          "output_type": "execute_result",
          "data": {
            "text/plain": [
              "[232.16354057314288, 2009.9774590645898, 34.75550642185761]"
            ]
          },
          "metadata": {
            "tags": []
          },
          "execution_count": 269
        }
      ]
    },
    {
      "cell_type": "markdown",
      "metadata": {
        "id": "e7VMxdKGcTaI"
      },
      "source": [
        "### Question 23 (4 points)\n",
        "\n",
        "In 2-5 sentences, answer the following:\n",
        "- What is the total privacy cost of your answer to Question 22, and why?"
      ]
    },
    {
      "cell_type": "markdown",
      "metadata": {
        "id": "OZKFbpSsUQKZ"
      },
      "source": [
        "- The total privacy cost is equal to epsilon (0.1) because I did not use a sequential query and instead, used the three queries in a vector the sensitivity of which would be different from (larger than) the sensitivity of each individual query"
      ]
    },
    {
      "cell_type": "markdown",
      "metadata": {
        "id": "tDoa4907cTaI"
      },
      "source": [
        "### Question 24 (6 points)\n",
        "\n",
        "In the cell below, write code to release the results of `my_query()` with differential privacy, but using the Gaussian mechanism."
      ]
    },
    {
      "cell_type": "code",
      "metadata": {
        "colab": {
          "base_uri": "https://localhost:8080/"
        },
        "id": "o5EHidA2cTaI",
        "outputId": "0e492e02-4c42-48e0-8bef-123883bceec2"
      },
      "source": [
        "# Iset the values of epsilon and delta as before, but I use L_2 sensitivity here\n",
        "# that was calculated earlier. The Gaussian mechanism allows us to use either of\n",
        "# the L_1 or L_2 norms for calculating the sensitivity, but L_2 may have lower\n",
        "# values for larger numbers (because of the square root function).\n",
        "delta = 1e-5\n",
        "epsilon = 0.1\n",
        "gaussian_mech_vec(my_query(), l2_sensitivity, epsilon, delta)"
      ],
      "execution_count": 270,
      "outputs": [
        {
          "output_type": "execute_result",
          "data": {
            "text/plain": [
              "[215.34701701660458, 1993.1609355080514, 17.938982865319307]"
            ]
          },
          "metadata": {
            "tags": []
          },
          "execution_count": 270
        }
      ]
    },
    {
      "cell_type": "markdown",
      "metadata": {
        "id": "L1lmyQRBcTaI"
      },
      "source": [
        "### Extra Credit\n",
        "\n",
        "You may earn up to 10 points of extra credit on this homework by providing *narrated proofs* of the Sequential and Parallel Composition Theorems. You must prove the Theorems as they are stated on the class slides, following the same notation. Understanding that these proofs are well-known and you may look them up, I am requesting that you *narrate* your proof completely.  That is, for each step in the proof, provide narrative justification for this step. The proof of each Theorem will be graded on a 5 point scale.\n",
        "\n",
        "You should upload your proofs as a separate file. Please type your responses. You may use LaTeX or Word. The same collaboration guidelines apply here. You are required to work indepedently."
      ]
    },
    {
      "cell_type": "markdown",
      "metadata": {
        "id": "zdXTAKDGVdZi"
      },
      "source": [
        "A separate PDF file is submitted"
      ]
    }
  ]
}