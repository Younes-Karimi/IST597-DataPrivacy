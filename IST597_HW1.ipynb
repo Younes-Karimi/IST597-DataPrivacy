{
  "nbformat": 4,
  "nbformat_minor": 0,
  "metadata": {
    "colab": {
      "name": "IST597-HW1.ipynb",
      "provenance": [],
      "authorship_tag": "ABX9TyPt9Q3WZ4o0w66s1TRwblx/",
      "include_colab_link": true
    },
    "kernelspec": {
      "name": "python3",
      "display_name": "Python 3"
    }
  },
  "cells": [
    {
      "cell_type": "markdown",
      "metadata": {
        "id": "view-in-github",
        "colab_type": "text"
      },
      "source": [
        "<a href=\"https://colab.research.google.com/github/Younes-Karimi/IST597-DataPrivacy/blob/main/IST597_HW1.ipynb\" target=\"_parent\"><img src=\"https://colab.research.google.com/assets/colab-badge.svg\" alt=\"Open In Colab\"/></a>"
      ]
    },
    {
      "cell_type": "markdown",
      "metadata": {
        "id": "5GhW8mF8xtnq"
      },
      "source": [
        "<center><b>IST 597: Foundations of Data Privacy<br>\n",
        "Spring 2021<br>\n",
        "Homework #1<br>\n",
        "Maya Merhi and Younes Karimi\n",
        "\n",
        "---\n",
        "\n"
      ]
    },
    {
      "cell_type": "markdown",
      "metadata": {
        "id": "PSu5qIk326m_"
      },
      "source": [
        "# Homework Description"
      ]
    },
    {
      "cell_type": "markdown",
      "metadata": {
        "id": "RQl12eilxvG7"
      },
      "source": [
        "You will develop/implement a k-anonymization algorithm and demonstrate your implementation using the provided Adult dataset which is configured from the original [Adult dataset](http://archive.ics.uci.edu/ml/datasets/Adult) at the UCI data repository. Adult.tar is the categorical version of the dataset (with categorical attributes except age and encoded education) and Adult_numeric.tar is the numeric version of the dataset (with numeric attributes encoded from categorical attributes). The dataset directory also contains a sample descriptor file which you can modify, e.g. to add specifications of sensitive attributes for your testing purposes. If your algorithm assumes a total order for the attribute values, you can use the numeric version of the dataset. If your algorithm needs to use generalization hierarchy, you can use the provided hierarchy included in the dataset directory once you extract the dataset file Adult.tar or approach described in [Fung 2005](https://www.cs.sfu.ca/~wangk/pub/TDS_ICDE05.pdf).<br><br>\n",
        "<b>Your deliverable must include the following:</b><br>\n",
        "1. **Dataset analysis**: List the column names in the dataset. For each column, identify the type of information (string, integer, etc.) and present the basic descriptives (range of values, mean, frequencies, outliers or unique values, etc). Explain the utility of the data that you want to preserve after your anonymization process. For example, discuss what types of queries you want your anonymized data to support. Your anonymization approach should support your answer.<br>\n",
        "2. **Identification of sensitive information**: Based on the data analysis you did, identify the explicit identifiers, quasi-identifiers, sensitive attributes and non-sensitive attributes in the dataset. List these attributes with your reasons for your classification.<br>\n",
        "3. **Development of a k-anonymization approach**: Develop a k-anonymization algorithm for the dataset. You can use any technique or combination of algorithms discussed in the class (k-anonymity, l-diversity, t-closeness, etc.). See below for a list of recommended algorithms. You MUST explain what your developed algorithm does at each step and how it anonymizes your specific dataset with respect to the explicit identifiers, quasi-identifiers, sensitive attributes, and non-sensitive data. Your code should be self-explanatory with understandable variable names, function names and comments. You MUST explicitly mention the chosen values of k in k-anonymity, l in l-diversity and t in t-closeness as per your algorithm of choice. Please consider if any outliers are present in the data. Your goal is to identify a high(er) value of k.<br>\n",
        "4. **Analysis**: Explain how your solution impacts the utility of the dataset. Does it retain the original data distribution. Provide at least two queries as test examples to show the differences in utility before and after the anonymization."
      ]
    },
    {
      "cell_type": "markdown",
      "metadata": {
        "id": "njKPBfZO3GZv"
      },
      "source": [
        "# Import Datasets"
      ]
    },
    {
      "cell_type": "code",
      "metadata": {
        "id": "lz9IjgMU4HkY"
      },
      "source": [
        "# Import PyDrive and associated libraries.\n",
        "# This only needs to be done once per notebook.\n",
        "from pydrive.auth import GoogleAuth\n",
        "from pydrive.drive import GoogleDrive\n",
        "from google.colab import auth\n",
        "from oauth2client.client import GoogleCredentials\n",
        "\n",
        "# Authenticate and create the PyDrive client.\n",
        "# This only needs to be done once per notebook.\n",
        "auth.authenticate_user()\n",
        "gauth = GoogleAuth()\n",
        "gauth.credentials = GoogleCredentials.get_application_default()\n",
        "drive = GoogleDrive(gauth)\n",
        "\n",
        "# Download a file based on its name from Google Drive\n",
        "downloaded.GetContentFile('Adult.tar')\n",
        "downloaded.GetContentFile('Adult_numeric.tar')"
      ],
      "execution_count": 10,
      "outputs": []
    },
    {
      "cell_type": "code",
      "metadata": {
        "id": "JSXgTv3szAe4"
      },
      "source": [
        "import tarfile\n",
        "adult = tarfile.open('Adult.tar')\n",
        "adult.extractall()\n",
        "adult.close()\n",
        "adult_numeric = tarfile.open('Adult_numeric.tar')\n",
        "adult_numeric.extractall()\n",
        "adult_numeric.close()"
      ],
      "execution_count": 11,
      "outputs": []
    },
    {
      "cell_type": "markdown",
      "metadata": {
        "id": "F1Ka8JPy3aVT"
      },
      "source": [
        "# Dataset Analysis"
      ]
    },
    {
      "cell_type": "markdown",
      "metadata": {
        "id": "TxJLnseP3o_F"
      },
      "source": [
        "# Identification of Sensitive Information"
      ]
    },
    {
      "cell_type": "code",
      "metadata": {
        "id": "Lidu8hR-2v0D"
      },
      "source": [
        ""
      ],
      "execution_count": null,
      "outputs": []
    },
    {
      "cell_type": "markdown",
      "metadata": {
        "id": "l2ZWd8ws3vjh"
      },
      "source": [
        "# Development of a K-Anonymization Approach"
      ]
    },
    {
      "cell_type": "markdown",
      "metadata": {
        "id": "YdUGG8uT3vl-"
      },
      "source": [
        "# Analysis"
      ]
    },
    {
      "cell_type": "code",
      "metadata": {
        "id": "Qcj7H8Dj39Vi"
      },
      "source": [
        ""
      ],
      "execution_count": null,
      "outputs": []
    }
  ]
}