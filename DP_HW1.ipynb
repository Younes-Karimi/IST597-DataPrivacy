{
  "nbformat": 4,
  "nbformat_minor": 0,
  "metadata": {
    "colab": {
      "name": "DP_HW1.ipynb",
      "provenance": [],
      "include_colab_link": true
    },
    "kernelspec": {
      "name": "python3",
      "display_name": "Python 3"
    }
  },
  "cells": [
    {
      "cell_type": "markdown",
      "metadata": {
        "id": "view-in-github",
        "colab_type": "text"
      },
      "source": [
        "<a href=\"https://colab.research.google.com/github/Younes-Karimi/IST597-DataPrivacy/blob/main/DP_HW1.ipynb\" target=\"_parent\"><img src=\"https://colab.research.google.com/assets/colab-badge.svg\" alt=\"Open In Colab\"/></a>"
      ]
    },
    {
      "cell_type": "code",
      "metadata": {
        "colab": {
          "base_uri": "https://localhost:8080/"
        },
        "id": "RZRZmb_Pi1CA",
        "outputId": "66af836e-7a42-441f-b1f3-092f6bd955ff"
      },
      "source": [
        "import pandas as pd\n",
        "import numpy as np\n",
        "from google.colab import drive\n",
        "import matplotlib.pyplot as plt\n",
        "drive.mount('/content/drive')\n",
        "dir = '/content/drive/My Drive/data_privacy/Adult/'\n",
        "pd.options.mode.chained_assignment = None  # default='warn'"
      ],
      "execution_count": 45,
      "outputs": [
        {
          "output_type": "stream",
          "text": [
            "Drive already mounted at /content/drive; to attempt to forcibly remount, call drive.mount(\"/content/drive\", force_remount=True).\n"
          ],
          "name": "stdout"
        }
      ]
    },
    {
      "cell_type": "markdown",
      "metadata": {
        "id": "mTVr1wz1hVqQ"
      },
      "source": [
        "instead what i could do is generalize first and then do this method numerically, and then convery back to the category types"
      ]
    },
    {
      "cell_type": "markdown",
      "metadata": {
        "id": "k6IbXoG1i-d1"
      },
      "source": [
        "import data and rename - to _"
      ]
    },
    {
      "cell_type": "code",
      "metadata": {
        "id": "rGQEJXySi2qj"
      },
      "source": [
        "df = pd.read_table(dir+'dataset_full.txt', delim_whitespace=True, names=('age', 'education-num', 'work-class','marital-status','occupation','race','sex','native-country'))\n",
        "df = df.rename(columns={'education-num':'education_num','work-class':'work_class','marital-status':'marital_status','native-country':'native_country'})"
      ],
      "execution_count": 3,
      "outputs": []
    },
    {
      "cell_type": "code",
      "metadata": {
        "colab": {
          "base_uri": "https://localhost:8080/"
        },
        "id": "qjM72ISvjA0S",
        "outputId": "e1f81945-1a5a-4cfe-e415-152b71b617f2"
      },
      "source": [
        "df.columns"
      ],
      "execution_count": 4,
      "outputs": [
        {
          "output_type": "execute_result",
          "data": {
            "text/plain": [
              "Index(['age', 'education_num', 'work_class', 'marital_status', 'occupation',\n",
              "       'race', 'sex', 'native_country'],\n",
              "      dtype='object')"
            ]
          },
          "metadata": {
            "tags": []
          },
          "execution_count": 4
        }
      ]
    },
    {
      "cell_type": "markdown",
      "metadata": {
        "id": "uh7Zk80ujsX5"
      },
      "source": [
        "i am choosing age, native country, and marital status as the quasi-identifiers  that we want to generalize and occupation as the sensitive column"
      ]
    },
    {
      "cell_type": "markdown",
      "metadata": {
        "id": "-boqyA41kBdo"
      },
      "source": [
        "age and education num are numerical data and the rest are categorical data"
      ]
    },
    {
      "cell_type": "markdown",
      "metadata": {
        "id": "NV8iAlzWFRXp"
      },
      "source": [
        "# Dataset Analysis"
      ]
    },
    {
      "cell_type": "markdown",
      "metadata": {
        "id": "Bab5sQhEFdl3"
      },
      "source": [
        "List the column names in the dataset. For each column, identify the type of information (string, integer, etc.) and present the basic descriptives (range of values, mean, frequencies, outliers or unique values, etc). Explain the utility of the data that you want to preserve after your anonymization process. For example, discuss what types of queries you want your anonymized data to support. Your anonymization approach should support your answer."
      ]
    },
    {
      "cell_type": "code",
      "metadata": {
        "colab": {
          "base_uri": "https://localhost:8080/"
        },
        "id": "Eo_D6ZRtjhvZ",
        "outputId": "abdf8e3d-4526-4c43-908f-a145148c90c4"
      },
      "source": [
        "df.info()"
      ],
      "execution_count": 5,
      "outputs": [
        {
          "output_type": "stream",
          "text": [
            "<class 'pandas.core.frame.DataFrame'>\n",
            "Index: 30162 entries, e1 to e30162\n",
            "Data columns (total 8 columns):\n",
            " #   Column          Non-Null Count  Dtype \n",
            "---  ------          --------------  ----- \n",
            " 0   age             30162 non-null  int64 \n",
            " 1   education_num   30162 non-null  int64 \n",
            " 2   work_class      30162 non-null  object\n",
            " 3   marital_status  30162 non-null  object\n",
            " 4   occupation      30162 non-null  object\n",
            " 5   race            30162 non-null  object\n",
            " 6   sex             30162 non-null  object\n",
            " 7   native_country  30162 non-null  object\n",
            "dtypes: int64(2), object(6)\n",
            "memory usage: 2.1+ MB\n"
          ],
          "name": "stdout"
        }
      ]
    },
    {
      "cell_type": "markdown",
      "metadata": {
        "id": "sbV6FHVbFsZf"
      },
      "source": [
        "This dataset consists of 8 columns and 30162 entries as shown above. The first two columns, *age* and *education_num*, are integers while the rest of columns are objects and have categorical (string) values."
      ]
    },
    {
      "cell_type": "code",
      "metadata": {
        "colab": {
          "base_uri": "https://localhost:8080/"
        },
        "id": "kgIOmdOwHtXM",
        "outputId": "27eb9054-4a0a-4d87-956b-841a24952689"
      },
      "source": [
        "print('Min age: {}\\nMax age: {}'.format(df['age'].values.min(), df['age'].values.max()))\n",
        "print('Mean age: %.2f' % (df['age'].values.sum() / df['age'].values.size))\n",
        "print('\\nSorted unique values: \\n', np.sort(df['age'].unique()))\n",
        "print('\\nAge frequencies:\\n', df['age'].value_counts(sort=True))"
      ],
      "execution_count": 78,
      "outputs": [
        {
          "output_type": "stream",
          "text": [
            "Min age: 17\n",
            "Max age: 90\n",
            "Mean age: 38.44\n",
            "\n",
            "Sorted unique values: \n",
            " [17 18 19 20 21 22 23 24 25 26 27 28 29 30 31 32 33 34 35 36 37 38 39 40\n",
            " 41 42 43 44 45 46 47 48 49 50 51 52 53 54 55 56 57 58 59 60 61 62 63 64\n",
            " 65 66 67 68 69 70 71 72 73 74 75 76 77 78 79 80 81 82 83 84 85 86 88 90]\n",
            "\n",
            "Age frequencies:\n",
            " 36    852\n",
            "31    851\n",
            "33    837\n",
            "34    836\n",
            "35    828\n",
            "     ... \n",
            "82      7\n",
            "83      5\n",
            "88      3\n",
            "85      3\n",
            "86      1\n",
            "Name: age, Length: 72, dtype: int64\n"
          ],
          "name": "stdout"
        }
      ]
    },
    {
      "cell_type": "code",
      "metadata": {
        "colab": {
          "base_uri": "https://localhost:8080/"
        },
        "id": "49VcDLo8KZ8l",
        "outputId": "d8fc5054-ca1b-4347-95ee-ca0df1649f1e"
      },
      "source": [
        "print('Min education number: {} year(s)\\nMax education number: {} year(s)'.format(df['education_num'].values.min(), df['education_num'].values.max()))\n",
        "print('Mean education number: %.2f year(s)' % (df['education_num'].values.sum() / df['education_num'].values.size))\n",
        "print('\\nEducation number frequencies:\\n', df['education_num'].value_counts(sort=True))"
      ],
      "execution_count": 76,
      "outputs": [
        {
          "output_type": "stream",
          "text": [
            "Min education number: 1 year(s)\n",
            "Max education number: 16 year(s)\n",
            "Mean education number: 10.12 year(s)\n",
            "\n",
            "Education number frequencies:\n",
            " 9     9840\n",
            "10    6678\n",
            "13    5044\n",
            "14    1627\n",
            "11    1307\n",
            "7     1048\n",
            "12    1008\n",
            "6      820\n",
            "4      557\n",
            "15     542\n",
            "5      455\n",
            "8      377\n",
            "16     375\n",
            "3      288\n",
            "2      151\n",
            "1       45\n",
            "Name: education_num, dtype: int64\n"
          ],
          "name": "stdout"
        }
      ]
    },
    {
      "cell_type": "code",
      "metadata": {
        "colab": {
          "base_uri": "https://localhost:8080/"
        },
        "id": "2BgxM0ScL1ic",
        "outputId": "0d4354f8-65cf-41ff-9c16-b7cf7918aabf"
      },
      "source": [
        "print('Work class frequencies:\\n\\n', df['work_class'].value_counts(sort=True))"
      ],
      "execution_count": 80,
      "outputs": [
        {
          "output_type": "stream",
          "text": [
            "Work class frequencies:\n",
            "\n",
            " Private             22286\n",
            "Self-emp-not-inc     2499\n",
            "Local-gov            2067\n",
            "State-gov            1279\n",
            "Self-emp-inc         1074\n",
            "Federal-gov           943\n",
            "Without-pay            14\n",
            "Name: work_class, dtype: int64\n"
          ],
          "name": "stdout"
        }
      ]
    },
    {
      "cell_type": "code",
      "metadata": {
        "colab": {
          "base_uri": "https://localhost:8080/"
        },
        "id": "u1rZ63uLTd3R",
        "outputId": "fd235fe0-ac42-4801-b8fd-68290b8e3065"
      },
      "source": [
        "print('Marital status frequencies:\\n\\n', df['marital_status'].value_counts(sort=True))"
      ],
      "execution_count": 81,
      "outputs": [
        {
          "output_type": "stream",
          "text": [
            "Marital status frequencies:\n",
            "\n",
            " Married-civ-spouse       14065\n",
            "Never-married             9726\n",
            "Divorced                  4214\n",
            "Separated                  939\n",
            "Widowed                    827\n",
            "Married-spouse-absent      370\n",
            "Married-AF-spouse           21\n",
            "Name: marital_status, dtype: int64\n"
          ],
          "name": "stdout"
        }
      ]
    },
    {
      "cell_type": "code",
      "metadata": {
        "colab": {
          "base_uri": "https://localhost:8080/"
        },
        "id": "IJ3IRGFWTdtc",
        "outputId": "0038c3b5-72f1-45f9-d084-bd54b3fa9227"
      },
      "source": [
        "print('Occupation frequencies:\\n\\n', df['occupation'].value_counts(sort=True))"
      ],
      "execution_count": 83,
      "outputs": [
        {
          "output_type": "stream",
          "text": [
            "Occupation frequencies:\n",
            "\n",
            " Prof-specialty       4038\n",
            "Craft-repair         4030\n",
            "Exec-managerial      3992\n",
            "Adm-clerical         3721\n",
            "Sales                3584\n",
            "Other-service        3212\n",
            "Machine-op-inspct    1966\n",
            "Transport-moving     1572\n",
            "Handlers-cleaners    1350\n",
            "Farming-fishing       989\n",
            "Tech-support          912\n",
            "Protective-serv       644\n",
            "Priv-house-serv       143\n",
            "Armed-Forces            9\n",
            "Name: occupation, dtype: int64\n"
          ],
          "name": "stdout"
        }
      ]
    },
    {
      "cell_type": "code",
      "metadata": {
        "colab": {
          "base_uri": "https://localhost:8080/"
        },
        "id": "LGAy9L2rTdi1",
        "outputId": "ac32360a-601c-4da0-f77f-c193b6ffc2de"
      },
      "source": [
        "print('Race frequencies:\\n\\n', df['race'].value_counts(sort=True))"
      ],
      "execution_count": 86,
      "outputs": [
        {
          "output_type": "stream",
          "text": [
            "Race frequencies:\n",
            "\n",
            " White                 25933\n",
            "Black                  2817\n",
            "Asian-Pac-Islander      895\n",
            "Amer-Indian-Eskimo      286\n",
            "Other                   231\n",
            "Name: race, dtype: int64\n"
          ],
          "name": "stdout"
        }
      ]
    },
    {
      "cell_type": "code",
      "metadata": {
        "colab": {
          "base_uri": "https://localhost:8080/"
        },
        "id": "fXbVmfnjTdUF",
        "outputId": "e751b18e-7d51-419c-fdb1-f9e4d7c15cd4"
      },
      "source": [
        "print('Sex frequencies:\\n\\n', df['sex'].value_counts(sort=True))"
      ],
      "execution_count": 85,
      "outputs": [
        {
          "output_type": "stream",
          "text": [
            "Sex frequencies:\n",
            "\n",
            " Male      20380\n",
            "Female     9782\n",
            "Name: sex, dtype: int64\n"
          ],
          "name": "stdout"
        }
      ]
    },
    {
      "cell_type": "code",
      "metadata": {
        "colab": {
          "base_uri": "https://localhost:8080/"
        },
        "id": "3PxXLSw-TYB8",
        "outputId": "90f6ecca-ebf2-47ee-9130-68cb92a83a6b"
      },
      "source": [
        "print('Native country frequencies:\\n\\n', df['native_country'].value_counts(sort=True))"
      ],
      "execution_count": 84,
      "outputs": [
        {
          "output_type": "stream",
          "text": [
            "Native country frequencies:\n",
            "\n",
            " United-States                 27504\n",
            "Mexico                          610\n",
            "Philippines                     188\n",
            "Germany                         128\n",
            "Puerto-Rico                     109\n",
            "Canada                          107\n",
            "India                           100\n",
            "El-Salvador                     100\n",
            "Cuba                             92\n",
            "England                          86\n",
            "Jamaica                          80\n",
            "South-Africa                     71\n",
            "China                            68\n",
            "Italy                            68\n",
            "Dominican-Republic               67\n",
            "Vietnam                          64\n",
            "Guatemala                        63\n",
            "Japan                            59\n",
            "Columbia                         56\n",
            "Poland                           56\n",
            "Taiwan                           42\n",
            "Haiti                            42\n",
            "Iran                             42\n",
            "Portugal                         34\n",
            "Nicaragua                        33\n",
            "Peru                             30\n",
            "Greece                           29\n",
            "France                           27\n",
            "Ecuador                          27\n",
            "Ireland                          24\n",
            "Hong-Kong                        19\n",
            "Cambodia                         18\n",
            "Trinadad                         18\n",
            "Thailand                         17\n",
            "Laos                             17\n",
            "Yugoslavia                       16\n",
            "Outlying-US(Guam-USVI-etc)       14\n",
            "Hungary                          13\n",
            "Honduras                         12\n",
            "Scotland                         11\n",
            "Holand-Netherlands                1\n",
            "Name: native_country, dtype: int64\n"
          ],
          "name": "stdout"
        }
      ]
    },
    {
      "cell_type": "markdown",
      "metadata": {
        "id": "I4JbKSi0T_zp"
      },
      "source": [
        "# Identification of Sensitive Information"
      ]
    },
    {
      "cell_type": "markdown",
      "metadata": {
        "id": "aDZogu3akMXI"
      },
      "source": [
        "can convert the categorical data to 'category' in pandas for easier handling"
      ]
    },
    {
      "cell_type": "code",
      "metadata": {
        "id": "aBaG3iM8kFI-"
      },
      "source": [
        "df['work_class'] = df['work_class'].astype('category')\n",
        "work_class_dict = dict(enumerate(df['work_class'].cat.categories))\n",
        "df['work_class'] = df['work_class'].astype('category').cat.codes\n",
        "\n",
        "df['marital_status'] = df['marital_status'].astype('category')\n",
        "marital_status_dict = dict(enumerate(df['marital_status'].cat.categories))\n",
        "df['marital_status'] = df['marital_status'].astype('category').cat.codes\n",
        "\n",
        "df['occupation'] = df['occupation'].astype('category')\n",
        "occupation_dict = dict(enumerate(df['occupation'].cat.categories))\n",
        "df['occupation'] = df['occupation'].astype('category').cat.codes\n",
        "\n",
        "df['race'] = df['race'].astype('category')\n",
        "race_dict = dict(enumerate(df['race'].cat.categories))\n",
        "df['race'] = df['race'].astype('category').cat.codes\n",
        "\n",
        "df['sex'] = df['sex'].astype('category')\n",
        "sex_dict = dict(enumerate(df['sex'].cat.categories))\n",
        "df['sex'] = df['sex'].astype('category').cat.codes\n",
        "\n",
        "df['native_country'] = df['native_country'].astype('category')\n",
        "native_country_dict = dict(enumerate(df['native_country'].cat.categories))\n",
        "df['native_country'] = df['native_country'].astype('category').cat.codes"
      ],
      "execution_count": null,
      "outputs": []
    },
    {
      "cell_type": "markdown",
      "metadata": {
        "id": "8ZfhVLixluf5"
      },
      "source": [
        "going off of the mondrian algorithm, which relies on paritioning the data into k-anonymous groups following a greedy algorithm"
      ]
    },
    {
      "cell_type": "code",
      "metadata": {
        "colab": {
          "base_uri": "https://localhost:8080/"
        },
        "id": "Sgxw8ak7kdqn",
        "outputId": "b9eb87be-b7dd-4aa8-f87c-ff94c5bfab56"
      },
      "source": [
        "df.index"
      ],
      "execution_count": null,
      "outputs": [
        {
          "output_type": "execute_result",
          "data": {
            "text/plain": [
              "Index(['e1', 'e2', 'e3', 'e4', 'e5', 'e6', 'e7', 'e8', 'e9', 'e10',\n",
              "       ...\n",
              "       'e30153', 'e30154', 'e30155', 'e30156', 'e30157', 'e30158', 'e30159',\n",
              "       'e30160', 'e30161', 'e30162'],\n",
              "      dtype='object', length=30162)"
            ]
          },
          "metadata": {
            "tags": []
          },
          "execution_count": 7
        }
      ]
    },
    {
      "cell_type": "code",
      "metadata": {
        "id": "ss6J9YxVrIVZ"
      },
      "source": [
        "def attribute_domain(df, column, part):\n",
        "  domain = df[column][part].max() - df[column][part].min()\n",
        "  return domain"
      ],
      "execution_count": null,
      "outputs": []
    },
    {
      "cell_type": "code",
      "metadata": {
        "id": "m15SHqzir_Kt"
      },
      "source": [
        "def is_k_anon(df, part, sensitive_attribute, k=3):\n",
        "  if len(part) < k:\n",
        "    return False\n",
        "  \n",
        "  else:\n",
        "    return True"
      ],
      "execution_count": null,
      "outputs": []
    },
    {
      "cell_type": "code",
      "metadata": {
        "id": "zSluG69TnQi8"
      },
      "source": [
        "def partitioning(df, feature_columns, sensitive_attribute, is_k_anon):\n",
        "\n",
        "    final_parts = []\n",
        "    parts = [df.index]\n",
        "    while parts:\n",
        "        part = parts.pop(0)\n",
        "        domains = {}\n",
        "        for column in df:\n",
        "          dom = attribute_domain(df, column, part)\n",
        "          domains[column] = dom\n",
        "        for column, dom in sorted(domains.items(), reverse=True):\n",
        "            #split the column by the media\n",
        "            df_part = df[column][part]\n",
        "            median = df_part.median()\n",
        "            lhs = df_part.index[df_part < median]\n",
        "            rhs = df_part.index[df_part>= median]\n",
        "            #check if the partitions satify k anon\n",
        "            if (is_k_anon(df, lhs, sensitive_attribute) and is_k_anon(df, rhs, sensitive_attribute)):\n",
        "              parts.extend((lhs, rhs))\n",
        "            else:\n",
        "              continue\n",
        "\n",
        "            break\n",
        "        else:\n",
        "            final_parts.append(part)\n",
        "    return final_parts"
      ],
      "execution_count": null,
      "outputs": []
    },
    {
      "cell_type": "code",
      "metadata": {
        "id": "TbDfTYZ6uCOJ"
      },
      "source": [
        "#apply\n",
        "QI_columns = ['native_country', 'marital_status','age','education_num']\n",
        "sensitive_attribute = 'work_class'\n",
        "final_partitions = partitioning(df, QI_columns, sensitive_attribute, is_k_anon)\n",
        "\n"
      ],
      "execution_count": null,
      "outputs": []
    },
    {
      "cell_type": "code",
      "metadata": {
        "colab": {
          "base_uri": "https://localhost:8080/"
        },
        "id": "aTajfYGN-bQn",
        "outputId": "1d2f4fb2-0dca-460f-cdae-6a61463279b2"
      },
      "source": [
        "len(final_partitions)"
      ],
      "execution_count": null,
      "outputs": [
        {
          "output_type": "execute_result",
          "data": {
            "text/plain": [
              "4783"
            ]
          },
          "metadata": {
            "tags": []
          },
          "execution_count": 12
        }
      ]
    },
    {
      "cell_type": "markdown",
      "metadata": {
        "id": "llRUrTxQAMow"
      },
      "source": [
        "try to apply to data now"
      ]
    },
    {
      "cell_type": "code",
      "metadata": {
        "id": "c3pJCJ555a9V"
      },
      "source": [
        "def anonymize_data( df, parts, QI_columns, sensitive_attribute, max_partitions=None):\n",
        "  aggregates ={}\n",
        "  for column in QI_columns:\n",
        "    aggregates[column] = [df[column].mean()]\n",
        "  rows = []\n",
        "  #print(parts)\n",
        "  for i, part in enumerate(parts):\n",
        "    print(part)\n",
        "    if i % 100 == 1:\n",
        "      print(\"Finished {} partitions...\".format(i))\n",
        "    if max_partitions is not None and i > max_partitions:\n",
        "      break\n",
        "    grouped_columns = df.loc[part].groupby(QI_columns, as_index=False).mean() \n",
        "    #print(df.loc[part].groupby(sensitive_attribute)['work_class'].head())\n",
        "    sensitive_counts = df.loc[part].groupby(sensitive_attribute).agg({sensitive_attribute : 'count'})\n",
        "    values = grouped_columns.iloc[0].to_dict()\n",
        "    for sensitive_value, count in sensitive_counts[sensitive_attribute].items():\n",
        "      if count == 0:\n",
        "        continue\n",
        "      values.update({sensitive_attribute : sensitive_value,'count' : count,})\n",
        "      rows.append(values.copy())\n",
        "  return pd.DataFrame(rows)\n"
      ],
      "execution_count": null,
      "outputs": []
    },
    {
      "cell_type": "code",
      "metadata": {
        "colab": {
          "base_uri": "https://localhost:8080/",
          "height": 1000
        },
        "id": "_yIapy_sA8rw",
        "outputId": "49817c63-9481-4daa-8b72-11de517a59c5"
      },
      "source": [
        "dfn = anonymize_data(df, final_partitions, QI_columns, sensitive_attribute)"
      ],
      "execution_count": null,
      "outputs": [
        {
          "output_type": "stream",
          "text": [
            "Index(['e2026', 'e18685', 'e19193'], dtype='object')\n",
            "Index(['e3748', 'e10539', 'e13450', 'e18764'], dtype='object')\n",
            "Finished 1 partitions...\n",
            "Index(['e16432', 'e22759', 'e26151'], dtype='object')\n",
            "Index(['e4871', 'e8517', 'e9797', 'e12041', 'e12658'], dtype='object')\n",
            "Index(['e14496', 'e19429', 'e21806', 'e25180'], dtype='object')\n",
            "Index(['e2445', 'e3675', 'e19493', 'e24385', 'e25982'], dtype='object')\n",
            "Index(['e8963', 'e25868', 'e29936'], dtype='object')\n",
            "Index(['e8053', 'e9216', 'e9922', 'e16971', 'e28923'], dtype='object')\n",
            "Index(['e3362', 'e16867', 'e18123', 'e23907'], dtype='object')\n",
            "Index(['e1681', 'e2192', 'e8043', 'e10776', 'e14915', 'e22952', 'e28786'], dtype='object')\n",
            "Index(['e7153', 'e9330', 'e17294', 'e22547', 'e24198'], dtype='object')\n",
            "Index(['e3478', 'e16633', 'e16647', 'e19523', 'e22273'], dtype='object')\n",
            "Index(['e5485', 'e8499', 'e8714'], dtype='object')\n",
            "Index(['e8767', 'e19578', 'e22993'], dtype='object')\n",
            "Index(['e1237', 'e2207', 'e7642', 'e21022'], dtype='object')\n",
            "Index(['e23244', 'e24689', 'e25113', 'e30039'], dtype='object')\n",
            "Index(['e6520', 'e10861', 'e12150', 'e17795'], dtype='object')\n",
            "Index(['e3437', 'e8558', 'e21130'], dtype='object')\n",
            "Index(['e3660', 'e5318', 'e6409', 'e13933', 'e15380'], dtype='object')\n",
            "Index(['e196', 'e1099', 'e3180', 'e14789'], dtype='object')\n",
            "Index(['e19687', 'e22891', 'e24199'], dtype='object')\n",
            "Index(['e7521', 'e9626', 'e23983'], dtype='object')\n",
            "Index(['e11717', 'e16708', 'e17861'], dtype='object')\n",
            "Index(['e13021', 'e18736', 'e19873', 'e23331'], dtype='object')\n",
            "Index(['e2498', 'e4938', 'e27996', 'e29993'], dtype='object')\n",
            "Index(['e300', 'e3105', 'e11679', 'e27151'], dtype='object')\n",
            "Index(['e24259', 'e24655', 'e26726'], dtype='object')\n",
            "Index(['e9836', 'e16431', 'e28901', 'e29148'], dtype='object')\n",
            "Index(['e2017', 'e6561', 'e20845', 'e26709'], dtype='object')\n",
            "Index(['e4772', 'e13386', 'e19893'], dtype='object')\n",
            "Index(['e70', 'e6203', 'e11847', 'e24691'], dtype='object')\n",
            "Index(['e315', 'e11142', 'e15333', 'e16265'], dtype='object')\n",
            "Index(['e3731', 'e8161', 'e19828', 'e20247', 'e29312'], dtype='object')\n",
            "Index(['e12987', 'e13969', 'e23022'], dtype='object')\n",
            "Index(['e18395', 'e22014', 'e23560', 'e24092'], dtype='object')\n",
            "Index(['e8644', 'e14246', 'e25635'], dtype='object')\n",
            "Index(['e5496', 'e15972', 'e23000', 'e24363'], dtype='object')\n",
            "Index(['e18740', 'e23668', 'e25286', 'e28130'], dtype='object')\n",
            "Index(['e9098', 'e11843', 'e19650', 'e28362', 'e28993'], dtype='object')\n",
            "Index(['e2140', 'e10695', 'e19792', 'e22557', 'e26896'], dtype='object')\n",
            "Index(['e1145', 'e9817', 'e13571', 'e17466'], dtype='object')\n",
            "Index(['e10781', 'e11640', 'e21429', 'e30142'], dtype='object')\n",
            "Index(['e4364', 'e6799', 'e10266', 'e11807'], dtype='object')\n",
            "Index(['e6700', 'e10529', 'e23975', 'e27675'], dtype='object')\n",
            "Index(['e9110', 'e12789', 'e22728', 'e28605'], dtype='object')\n",
            "Index(['e1640', 'e3452', 'e14910', 'e22821', 'e25009'], dtype='object')\n",
            "Index(['e9108', 'e10759', 'e13394', 'e14299'], dtype='object')\n",
            "Index(['e116', 'e5351', 'e7845', 'e17141', 'e27063'], dtype='object')\n",
            "Index(['e10330', 'e19172', 'e27858', 'e28180'], dtype='object')\n",
            "Index(['e7884', 'e10186', 'e27397'], dtype='object')\n",
            "Index(['e3682', 'e25297', 'e29968'], dtype='object')\n",
            "Index(['e8962', 'e19917', 'e25801'], dtype='object')\n",
            "Index(['e4652', 'e13477', 'e18457', 'e27438'], dtype='object')\n",
            "Index(['e19807', 'e21204', 'e24033', 'e24870'], dtype='object')\n",
            "Index(['e3998', 'e4092', 'e18201', 'e30028'], dtype='object')\n",
            "Index(['e1150', 'e5878', 'e13481', 'e15666', 'e28589'], dtype='object')\n",
            "Index(['e21051', 'e27568', 'e27895'], dtype='object')\n",
            "Index(['e1093', 'e2712', 'e7668', 'e26051'], dtype='object')\n",
            "Index(['e12582', 'e14693', 'e18573'], dtype='object')\n",
            "Index(['e2128', 'e14568', 'e18786', 'e22385'], dtype='object')\n",
            "Index(['e8309', 'e17255', 'e21935'], dtype='object')\n",
            "Index(['e12322', 'e15769', 'e20354', 'e24613'], dtype='object')\n",
            "Index(['e4310', 'e7164', 'e24925'], dtype='object')\n",
            "Index(['e3376', 'e6584', 'e12317', 'e21010', 'e26240'], dtype='object')\n",
            "Index(['e629', 'e6562', 'e22253', 'e24494', 'e27519'], dtype='object')\n",
            "Index(['e5269', 'e18097', 'e19475', 'e20126', 'e20338'], dtype='object')\n",
            "Index(['e4518', 'e5817', 'e10917', 'e14301', 'e23103'], dtype='object')\n",
            "Index(['e7853', 'e22719', 'e24424', 'e26293', 'e27241'], dtype='object')\n",
            "Index(['e12170', 'e21359', 'e25317'], dtype='object')\n",
            "Index(['e3356', 'e4373', 'e24671'], dtype='object')\n",
            "Index(['e12017', 'e18303', 'e24440'], dtype='object')\n",
            "Index(['e14079', 'e22407', 'e25708'], dtype='object')\n",
            "Index(['e2381', 'e10586', 'e24622', 'e25532'], dtype='object')\n",
            "Index(['e1740', 'e5746', 'e28487'], dtype='object')\n",
            "Index(['e11952', 'e20238', 'e28530'], dtype='object')\n",
            "Index(['e7211', 'e11966', 'e19629', 'e24634'], dtype='object')\n",
            "Index(['e645', 'e9639', 'e14945', 'e23541'], dtype='object')\n",
            "Index(['e1848', 'e5705', 'e17802'], dtype='object')\n",
            "Index(['e11269', 'e13680', 'e26988', 'e29196'], dtype='object')\n",
            "Index(['e7691', 'e13032', 'e15030', 'e16525'], dtype='object')\n",
            "Index(['e9698', 'e10167', 'e21382', 'e21669'], dtype='object')\n",
            "Index(['e9443', 'e9569', 'e11821', 'e14898'], dtype='object')\n",
            "Index(['e4281', 'e9644', 'e13830', 'e20833'], dtype='object')\n",
            "Index(['e11161', 'e19525', 'e21445'], dtype='object')\n",
            "Index(['e4491', 'e23404', 'e26895'], dtype='object')\n",
            "Index(['e9679', 'e12532', 'e18950', 'e21023'], dtype='object')\n",
            "Index(['e7407', 'e10740', 'e29922'], dtype='object')\n",
            "Index(['e11137', 'e14913', 'e16212'], dtype='object')\n",
            "Index(['e3072', 'e8057', 'e14274'], dtype='object')\n",
            "Index(['e1634', 'e19755', 'e20694'], dtype='object')\n",
            "Index(['e7004', 'e7183', 'e18355', 'e20801', 'e24281'], dtype='object')\n",
            "Index(['e5977', 'e24735', 'e28329'], dtype='object')\n",
            "Index(['e3561', 'e5961', 'e9155', 'e17287', 'e28587'], dtype='object')\n",
            "Index(['e5657', 'e9525', 'e10772', 'e11683', 'e28559'], dtype='object')\n",
            "Index(['e2811', 'e4932', 'e25494', 'e29934'], dtype='object')\n",
            "Index(['e8998', 'e28056', 'e28594'], dtype='object')\n",
            "Index(['e924', 'e4458', 'e15406', 'e23044'], dtype='object')\n",
            "Index(['e2250', 'e3369', 'e19771'], dtype='object')\n",
            "Index(['e7744', 'e8016', 'e13384', 'e18041'], dtype='object')\n",
            "Index(['e4718', 'e6117', 'e10924', 'e17990', 'e27800'], dtype='object')\n",
            "Index(['e11147', 'e20527', 'e23038', 'e24268', 'e29124'], dtype='object')\n",
            "Index(['e11267', 'e20848', 'e21995'], dtype='object')\n",
            "Finished 101 partitions...\n",
            "Index(['e11420', 'e14701', 'e24420', 'e26402'], dtype='object')\n",
            "Index(['e180', 'e6849', 'e9289'], dtype='object')\n",
            "Index(['e6984', 'e16479', 'e20579', 'e21621', 'e29255'], dtype='object')\n",
            "Index(['e3705', 'e5763', 'e9236', 'e16766', 'e21734'], dtype='object')\n",
            "Index(['e10001', 'e25600', 'e25835', 'e28576'], dtype='object')\n",
            "Index(['e3704', 'e11594', 'e26381', 'e27857', 'e28665'], dtype='object')\n",
            "Index(['e1368', 'e3225', 'e15092', 'e24412'], dtype='object')\n",
            "Index(['e3818', 'e8340', 'e8787', 'e17349', 'e24043', 'e27759'], dtype='object')\n",
            "Index(['e3986', 'e6226', 'e16962', 'e28143', 'e30075'], dtype='object')\n",
            "Index(['e2557', 'e6145', 'e7127', 'e20024', 'e23117'], dtype='object')\n",
            "Index(['e4547', 'e5247', 'e10644', 'e20007', 'e20620'], dtype='object')\n",
            "Index(['e7981', 'e8246', 'e10683', 'e14704', 'e16924'], dtype='object')\n",
            "Index(['e3187', 'e7671', 'e16723', 'e17911'], dtype='object')\n",
            "Index(['e5287', 'e22935', 'e24839', 'e28664'], dtype='object')\n",
            "Index(['e2432', 'e3421', 'e5622', 'e13812'], dtype='object')\n",
            "Index(['e1515', 'e6710', 'e12381', 'e13551', 'e24438'], dtype='object')\n",
            "Index(['e5886', 'e16830', 'e23677'], dtype='object')\n",
            "Index(['e5417', 'e22322', 'e26020'], dtype='object')\n",
            "Index(['e4476', 'e5381', 'e23720', 'e28276'], dtype='object')\n",
            "Index(['e686', 'e5559', 'e17250'], dtype='object')\n",
            "Index(['e13204', 'e13676', 'e16211', 'e22883'], dtype='object')\n",
            "Index(['e12878', 'e15872', 'e21450', 'e26228', 'e26585'], dtype='object')\n",
            "Index(['e11205', 'e16916', 'e17685', 'e17833', 'e18287'], dtype='object')\n",
            "Index(['e1338', 'e2394', 'e21277', 'e22193'], dtype='object')\n",
            "Index(['e5607', 'e9261', 'e18905', 'e19762', 'e29099'], dtype='object')\n",
            "Index(['e16904', 'e20944', 'e24495'], dtype='object')\n",
            "Index(['e1647', 'e12043', 'e18639'], dtype='object')\n",
            "Index(['e11645', 'e14344', 'e29578'], dtype='object')\n",
            "Index(['e5426', 'e9747', 'e19233'], dtype='object')\n",
            "Index(['e1315', 'e7494', 'e21458', 'e27658'], dtype='object')\n",
            "Index(['e3439', 'e8592', 'e9341', 'e22691'], dtype='object')\n",
            "Index(['e6525', 'e10653', 'e18319', 'e29475'], dtype='object')\n",
            "Index(['e1777', 'e12560', 'e18523', 'e22455'], dtype='object')\n",
            "Index(['e2602', 'e11298', 'e20855', 'e22931'], dtype='object')\n",
            "Index(['e2941', 'e7930', 'e11850'], dtype='object')\n",
            "Index(['e4414', 'e14512', 'e18694', 'e19188', 'e23025'], dtype='object')\n",
            "Index(['e7177', 'e22092', 'e28101'], dtype='object')\n",
            "Index(['e8263', 'e11624', 'e17614', 'e19690', 'e24251'], dtype='object')\n",
            "Index(['e1190', 'e1211', 'e4862', 'e16376'], dtype='object')\n",
            "Index(['e1427', 'e3585', 'e4175', 'e10567', 'e11451'], dtype='object')\n",
            "Index(['e1984', 'e11121', 'e15358', 'e15536', 'e19239'], dtype='object')\n",
            "Index(['e112', 'e7899', 'e20586', 'e21309', 'e27521'], dtype='object')\n",
            "Index(['e1379', 'e2700', 'e3850', 'e3876', 'e22096'], dtype='object')\n",
            "Index(['e4264', 'e10499', 'e12720', 'e20840', 'e22796'], dtype='object')\n",
            "Index(['e10969', 'e12619', 'e20869', 'e27230'], dtype='object')\n",
            "Index(['e2123', 'e7570', 'e19408', 'e20734'], dtype='object')\n",
            "Index(['e5083', 'e14482', 'e20047', 'e20692'], dtype='object')\n",
            "Index(['e5293', 'e5519', 'e7400', 'e11449', 'e15657', 'e27321', 'e28857'], dtype='object')\n",
            "Index(['e11162', 'e14170', 'e23089'], dtype='object')\n",
            "Index(['e11617', 'e25070', 'e26194'], dtype='object')\n",
            "Index(['e19567', 'e19731', 'e24863'], dtype='object')\n",
            "Index(['e22630', 'e23535', 'e24146'], dtype='object')\n",
            "Index(['e10039', 'e11886', 'e23203'], dtype='object')\n",
            "Index(['e2933', 'e24649', 'e27332'], dtype='object')\n",
            "Index(['e1112', 'e12329', 'e24510'], dtype='object')\n",
            "Index(['e15735', 'e20998', 'e21013', 'e24506'], dtype='object')\n",
            "Index(['e15948', 'e19214', 'e19344', 'e29796'], dtype='object')\n",
            "Index(['e2918', 'e24583', 'e27265'], dtype='object')\n",
            "Index(['e8515', 'e19348', 'e25707', 'e28412'], dtype='object')\n",
            "Index(['e14719', 'e15145', 'e17832'], dtype='object')\n",
            "Index(['e1107', 'e12370', 'e13518', 'e18243', 'e21283'], dtype='object')\n",
            "Index(['e17851', 'e21942', 'e22277', 'e26095', 'e26481'], dtype='object')\n",
            "Index(['e1163', 'e5473', 'e9090', 'e10059', 'e26417'], dtype='object')\n",
            "Index(['e1367', 'e1404', 'e11289', 'e16888', 'e22175'], dtype='object')\n",
            "Index(['e20254', 'e20495', 'e22954'], dtype='object')\n",
            "Index(['e4969', 'e8245', 'e8835', 'e11417', 'e14009', 'e14048', 'e20413'], dtype='object')\n",
            "Index(['e12046', 'e19058', 'e24741'], dtype='object')\n",
            "Index(['e1792', 'e2225', 'e11758', 'e14110', 'e24651'], dtype='object')\n",
            "Index(['e10170', 'e11597', 'e12186', 'e19117'], dtype='object')\n",
            "Index(['e17066', 'e23765', 'e24929', 'e29079'], dtype='object')\n",
            "Index(['e15061', 'e21781', 'e21991'], dtype='object')\n",
            "Index(['e267', 'e3684', 'e21933'], dtype='object')\n",
            "Index(['e16792', 'e18537', 'e24978'], dtype='object')\n",
            "Index(['e218', 'e16825', 'e21352'], dtype='object')\n",
            "Index(['e1758', 'e7858', 'e22179', 'e23077'], dtype='object')\n",
            "Index(['e5241', 'e10515', 'e18098', 'e22887'], dtype='object')\n",
            "Index(['e5023', 'e8782', 'e23878'], dtype='object')\n",
            "Index(['e4107', 'e25443', 'e28287'], dtype='object')\n",
            "Index(['e4521', 'e5377', 'e23737'], dtype='object')\n",
            "Index(['e9312', 'e14091', 'e28494'], dtype='object')\n",
            "Index(['e4083', 'e11378', 'e18051', 'e19268'], dtype='object')\n",
            "Index(['e6044', 'e7209', 'e10296', 'e13543', 'e19592', 'e29940'], dtype='object')\n",
            "Index(['e10766', 'e18608', 'e20964', 'e23346', 'e29074'], dtype='object')\n",
            "Index(['e4407', 'e11074', 'e11487', 'e22221', 'e26971'], dtype='object')\n",
            "Index(['e7500', 'e7802', 'e14558', 'e23195', 'e25893'], dtype='object')\n",
            "Index(['e556', 'e10790', 'e18102'], dtype='object')\n",
            "Index(['e4011', 'e16107', 'e29179', 'e29386'], dtype='object')\n",
            "Index(['e5549', 'e6333', 'e22448', 'e26315'], dtype='object')\n",
            "Index(['e4623', 'e11401', 'e12978', 'e17926', 'e27292'], dtype='object')\n",
            "Index(['e7860', 'e11988', 'e16215', 'e26225', 'e26987'], dtype='object')\n",
            "Index(['e532', 'e4823', 'e7492', 'e11207', 'e22125'], dtype='object')\n",
            "Index(['e5091', 'e26447', 'e26646'], dtype='object')\n",
            "Index(['e2723', 'e4195', 'e25280'], dtype='object')\n",
            "Index(['e16314', 'e17716', 'e27327'], dtype='object')\n",
            "Index(['e1775', 'e5343', 'e11017', 'e27055'], dtype='object')\n",
            "Index(['e343', 'e1970', 'e14236', 'e23366', 'e25003'], dtype='object')\n",
            "Index(['e43', 'e580', 'e734', 'e15148', 'e15758'], dtype='object')\n",
            "Index(['e8167', 'e17566', 'e20064', 'e20253'], dtype='object')\n",
            "Index(['e1423', 'e20469', 'e24927'], dtype='object')\n",
            "Index(['e1842', 'e11324', 'e20490', 'e21569', 'e26713'], dtype='object')\n",
            "Finished 201 partitions...\n",
            "Index(['e4530', 'e8287', 'e8656', 'e17263'], dtype='object')\n",
            "Index(['e485', 'e7958', 'e12590', 'e23107', 'e29412'], dtype='object')\n",
            "Index(['e7329', 'e9802', 'e10812', 'e21355'], dtype='object')\n",
            "Index(['e6529', 'e15506', 'e20038', 'e23292'], dtype='object')\n",
            "Index(['e21083', 'e23724', 'e26926'], dtype='object')\n",
            "Index(['e637', 'e11491', 'e16408'], dtype='object')\n",
            "Index(['e16520', 'e17359', 'e25716'], dtype='object')\n",
            "Index(['e5750', 'e12467', 'e18940', 'e28358'], dtype='object')\n",
            "Index(['e3442', 'e15672', 'e25740'], dtype='object')\n",
            "Index(['e3209', 'e23075', 'e28852'], dtype='object')\n",
            "Index(['e6795', 'e7450', 'e19782', 'e19845'], dtype='object')\n",
            "Index(['e2965', 'e10263', 'e12983', 'e18118', 'e24514'], dtype='object')\n",
            "Index(['e2653', 'e7837', 'e13828', 'e21379', 'e27875'], dtype='object')\n",
            "Index(['e940', 'e9136', 'e9387', 'e13329', 'e15326'], dtype='object')\n",
            "Index(['e650', 'e6638', 'e27392'], dtype='object')\n",
            "Index(['e26936', 'e27994', 'e28220'], dtype='object')\n",
            "Index(['e11220', 'e26149', 'e26759'], dtype='object')\n",
            "Index(['e6774', 'e10227', 'e12554'], dtype='object')\n",
            "Index(['e9841', 'e15622', 'e16108'], dtype='object')\n",
            "Index(['e7501', 'e18448', 'e23397', 'e27772', 'e28261'], dtype='object')\n",
            "Index(['e2453', 'e12911', 'e16610', 'e24663'], dtype='object')\n",
            "Index(['e372', 'e7123', 'e9109', 'e17962', 'e21654'], dtype='object')\n",
            "Index(['e326', 'e3498', 'e4359', 'e8388', 'e11973'], dtype='object')\n",
            "Index(['e5099', 'e8034', 'e10372', 'e10995', 'e28159'], dtype='object')\n",
            "Index(['e5738', 'e19019', 'e26633'], dtype='object')\n",
            "Index(['e6900', 'e8240', 'e28794'], dtype='object')\n",
            "Index(['e1906', 'e4509', 'e12384', 'e17020'], dtype='object')\n",
            "Index(['e1278', 'e6320', 'e8850'], dtype='object')\n",
            "Index(['e16308', 'e23749', 'e28496'], dtype='object')\n",
            "Index(['e19226', 'e21430', 'e24561'], dtype='object')\n"
          ],
          "name": "stdout"
        },
        {
          "output_type": "error",
          "ename": "KeyboardInterrupt",
          "evalue": "ignored",
          "traceback": [
            "\u001b[0;31m---------------------------------------------------------------------------\u001b[0m",
            "\u001b[0;31mKeyboardInterrupt\u001b[0m                         Traceback (most recent call last)",
            "\u001b[0;32m<ipython-input-44-1c066c029951>\u001b[0m in \u001b[0;36m<module>\u001b[0;34m()\u001b[0m\n\u001b[0;32m----> 1\u001b[0;31m \u001b[0mdfn\u001b[0m \u001b[0;34m=\u001b[0m \u001b[0manonymize_data\u001b[0m\u001b[0;34m(\u001b[0m\u001b[0mdf\u001b[0m\u001b[0;34m,\u001b[0m \u001b[0mfinal_partitions\u001b[0m\u001b[0;34m,\u001b[0m \u001b[0mQI_columns\u001b[0m\u001b[0;34m,\u001b[0m \u001b[0msensitive_attribute\u001b[0m\u001b[0;34m)\u001b[0m\u001b[0;34m\u001b[0m\u001b[0;34m\u001b[0m\u001b[0m\n\u001b[0m",
            "\u001b[0;32m<ipython-input-43-c2637b8cd1d6>\u001b[0m in \u001b[0;36manonymize_data\u001b[0;34m(df, parts, QI_columns, sensitive_attribute, max_partitions)\u001b[0m\n\u001b[1;32m     11\u001b[0m     \u001b[0;32mif\u001b[0m \u001b[0mmax_partitions\u001b[0m \u001b[0;32mis\u001b[0m \u001b[0;32mnot\u001b[0m \u001b[0;32mNone\u001b[0m \u001b[0;32mand\u001b[0m \u001b[0mi\u001b[0m \u001b[0;34m>\u001b[0m \u001b[0mmax_partitions\u001b[0m\u001b[0;34m:\u001b[0m\u001b[0;34m\u001b[0m\u001b[0;34m\u001b[0m\u001b[0m\n\u001b[1;32m     12\u001b[0m       \u001b[0;32mbreak\u001b[0m\u001b[0;34m\u001b[0m\u001b[0;34m\u001b[0m\u001b[0m\n\u001b[0;32m---> 13\u001b[0;31m     \u001b[0mgrouped_columns\u001b[0m \u001b[0;34m=\u001b[0m \u001b[0mdf\u001b[0m\u001b[0;34m.\u001b[0m\u001b[0mloc\u001b[0m\u001b[0;34m[\u001b[0m\u001b[0mpart\u001b[0m\u001b[0;34m]\u001b[0m\u001b[0;34m.\u001b[0m\u001b[0mgroupby\u001b[0m\u001b[0;34m(\u001b[0m\u001b[0mQI_columns\u001b[0m\u001b[0;34m,\u001b[0m \u001b[0mas_index\u001b[0m\u001b[0;34m=\u001b[0m\u001b[0;32mFalse\u001b[0m\u001b[0;34m)\u001b[0m\u001b[0;34m.\u001b[0m\u001b[0mmean\u001b[0m\u001b[0;34m(\u001b[0m\u001b[0;34m)\u001b[0m\u001b[0;34m\u001b[0m\u001b[0;34m\u001b[0m\u001b[0m\n\u001b[0m\u001b[1;32m     14\u001b[0m     \u001b[0;31m#print(df.loc[part].groupby(sensitive_attribute)['work_class'].head())\u001b[0m\u001b[0;34m\u001b[0m\u001b[0;34m\u001b[0m\u001b[0;34m\u001b[0m\u001b[0m\n\u001b[1;32m     15\u001b[0m     \u001b[0msensitive_counts\u001b[0m \u001b[0;34m=\u001b[0m \u001b[0mdf\u001b[0m\u001b[0;34m.\u001b[0m\u001b[0mloc\u001b[0m\u001b[0;34m[\u001b[0m\u001b[0mpart\u001b[0m\u001b[0;34m]\u001b[0m\u001b[0;34m.\u001b[0m\u001b[0mgroupby\u001b[0m\u001b[0;34m(\u001b[0m\u001b[0msensitive_attribute\u001b[0m\u001b[0;34m)\u001b[0m\u001b[0;34m.\u001b[0m\u001b[0magg\u001b[0m\u001b[0;34m(\u001b[0m\u001b[0;34m{\u001b[0m\u001b[0msensitive_attribute\u001b[0m \u001b[0;34m:\u001b[0m \u001b[0;34m'count'\u001b[0m\u001b[0;34m}\u001b[0m\u001b[0;34m)\u001b[0m\u001b[0;34m\u001b[0m\u001b[0;34m\u001b[0m\u001b[0m\n",
            "\u001b[0;32m/usr/local/lib/python3.7/dist-packages/pandas/core/frame.py\u001b[0m in \u001b[0;36mgroupby\u001b[0;34m(self, by, axis, level, as_index, sort, group_keys, squeeze, observed, dropna)\u001b[0m\n\u001b[1;32m   6523\u001b[0m             \u001b[0msqueeze\u001b[0m\u001b[0;34m=\u001b[0m\u001b[0msqueeze\u001b[0m\u001b[0;34m,\u001b[0m\u001b[0;34m\u001b[0m\u001b[0;34m\u001b[0m\u001b[0m\n\u001b[1;32m   6524\u001b[0m             \u001b[0mobserved\u001b[0m\u001b[0;34m=\u001b[0m\u001b[0mobserved\u001b[0m\u001b[0;34m,\u001b[0m\u001b[0;34m\u001b[0m\u001b[0;34m\u001b[0m\u001b[0m\n\u001b[0;32m-> 6525\u001b[0;31m             \u001b[0mdropna\u001b[0m\u001b[0;34m=\u001b[0m\u001b[0mdropna\u001b[0m\u001b[0;34m,\u001b[0m\u001b[0;34m\u001b[0m\u001b[0;34m\u001b[0m\u001b[0m\n\u001b[0m\u001b[1;32m   6526\u001b[0m         )\n\u001b[1;32m   6527\u001b[0m \u001b[0;34m\u001b[0m\u001b[0m\n",
            "\u001b[0;32m/usr/local/lib/python3.7/dist-packages/pandas/core/groupby/groupby.py\u001b[0m in \u001b[0;36m__init__\u001b[0;34m(self, obj, keys, axis, level, grouper, exclusions, selection, as_index, sort, group_keys, squeeze, observed, mutated, dropna)\u001b[0m\n\u001b[1;32m    531\u001b[0m                 \u001b[0mobserved\u001b[0m\u001b[0;34m=\u001b[0m\u001b[0mobserved\u001b[0m\u001b[0;34m,\u001b[0m\u001b[0;34m\u001b[0m\u001b[0;34m\u001b[0m\u001b[0m\n\u001b[1;32m    532\u001b[0m                 \u001b[0mmutated\u001b[0m\u001b[0;34m=\u001b[0m\u001b[0mself\u001b[0m\u001b[0;34m.\u001b[0m\u001b[0mmutated\u001b[0m\u001b[0;34m,\u001b[0m\u001b[0;34m\u001b[0m\u001b[0;34m\u001b[0m\u001b[0m\n\u001b[0;32m--> 533\u001b[0;31m                 \u001b[0mdropna\u001b[0m\u001b[0;34m=\u001b[0m\u001b[0mself\u001b[0m\u001b[0;34m.\u001b[0m\u001b[0mdropna\u001b[0m\u001b[0;34m,\u001b[0m\u001b[0;34m\u001b[0m\u001b[0;34m\u001b[0m\u001b[0m\n\u001b[0m\u001b[1;32m    534\u001b[0m             )\n\u001b[1;32m    535\u001b[0m \u001b[0;34m\u001b[0m\u001b[0m\n",
            "\u001b[0;32m/usr/local/lib/python3.7/dist-packages/pandas/core/groupby/grouper.py\u001b[0m in \u001b[0;36mget_grouper\u001b[0;34m(obj, key, axis, level, sort, observed, mutated, validate, dropna)\u001b[0m\n\u001b[1;32m    699\u001b[0m \u001b[0;34m\u001b[0m\u001b[0m\n\u001b[1;32m    700\u001b[0m     \u001b[0;31m# already have a BaseGrouper, just return it\u001b[0m\u001b[0;34m\u001b[0m\u001b[0;34m\u001b[0m\u001b[0;34m\u001b[0m\u001b[0m\n\u001b[0;32m--> 701\u001b[0;31m     \u001b[0;32melif\u001b[0m \u001b[0misinstance\u001b[0m\u001b[0;34m(\u001b[0m\u001b[0mkey\u001b[0m\u001b[0;34m,\u001b[0m \u001b[0mops\u001b[0m\u001b[0;34m.\u001b[0m\u001b[0mBaseGrouper\u001b[0m\u001b[0;34m)\u001b[0m\u001b[0;34m:\u001b[0m\u001b[0;34m\u001b[0m\u001b[0;34m\u001b[0m\u001b[0m\n\u001b[0m\u001b[1;32m    702\u001b[0m         \u001b[0;32mreturn\u001b[0m \u001b[0mkey\u001b[0m\u001b[0;34m,\u001b[0m \u001b[0;34m[\u001b[0m\u001b[0;34m]\u001b[0m\u001b[0;34m,\u001b[0m \u001b[0mobj\u001b[0m\u001b[0;34m\u001b[0m\u001b[0;34m\u001b[0m\u001b[0m\n\u001b[1;32m    703\u001b[0m \u001b[0;34m\u001b[0m\u001b[0m\n",
            "\u001b[0;31mKeyboardInterrupt\u001b[0m: "
          ]
        }
      ]
    },
    {
      "cell_type": "code",
      "metadata": {
        "colab": {
          "base_uri": "https://localhost:8080/",
          "height": 204
        },
        "id": "AIfP5ybpNVUH",
        "outputId": "a16bbbff-d6ec-42cb-8c91-3ccd1d2783ab"
      },
      "source": [
        "df.loc[['e532', 'e4823', 'e7492', 'e11207', 'e22125']]"
      ],
      "execution_count": null,
      "outputs": [
        {
          "output_type": "execute_result",
          "data": {
            "text/html": [
              "<div>\n",
              "<style scoped>\n",
              "    .dataframe tbody tr th:only-of-type {\n",
              "        vertical-align: middle;\n",
              "    }\n",
              "\n",
              "    .dataframe tbody tr th {\n",
              "        vertical-align: top;\n",
              "    }\n",
              "\n",
              "    .dataframe thead th {\n",
              "        text-align: right;\n",
              "    }\n",
              "</style>\n",
              "<table border=\"1\" class=\"dataframe\">\n",
              "  <thead>\n",
              "    <tr style=\"text-align: right;\">\n",
              "      <th></th>\n",
              "      <th>age</th>\n",
              "      <th>education_num</th>\n",
              "      <th>work_class</th>\n",
              "      <th>marital_status</th>\n",
              "      <th>occupation</th>\n",
              "      <th>race</th>\n",
              "      <th>sex</th>\n",
              "      <th>native_country</th>\n",
              "    </tr>\n",
              "  </thead>\n",
              "  <tbody>\n",
              "    <tr>\n",
              "      <th>e532</th>\n",
              "      <td>36</td>\n",
              "      <td>10</td>\n",
              "      <td>1</td>\n",
              "      <td>2</td>\n",
              "      <td>13</td>\n",
              "      <td>4</td>\n",
              "      <td>0</td>\n",
              "      <td>38</td>\n",
              "    </tr>\n",
              "    <tr>\n",
              "      <th>e4823</th>\n",
              "      <td>41</td>\n",
              "      <td>10</td>\n",
              "      <td>1</td>\n",
              "      <td>2</td>\n",
              "      <td>13</td>\n",
              "      <td>4</td>\n",
              "      <td>0</td>\n",
              "      <td>38</td>\n",
              "    </tr>\n",
              "    <tr>\n",
              "      <th>e7492</th>\n",
              "      <td>32</td>\n",
              "      <td>9</td>\n",
              "      <td>1</td>\n",
              "      <td>2</td>\n",
              "      <td>13</td>\n",
              "      <td>4</td>\n",
              "      <td>0</td>\n",
              "      <td>38</td>\n",
              "    </tr>\n",
              "    <tr>\n",
              "      <th>e11207</th>\n",
              "      <td>45</td>\n",
              "      <td>9</td>\n",
              "      <td>1</td>\n",
              "      <td>2</td>\n",
              "      <td>13</td>\n",
              "      <td>4</td>\n",
              "      <td>0</td>\n",
              "      <td>38</td>\n",
              "    </tr>\n",
              "    <tr>\n",
              "      <th>e22125</th>\n",
              "      <td>53</td>\n",
              "      <td>9</td>\n",
              "      <td>1</td>\n",
              "      <td>3</td>\n",
              "      <td>13</td>\n",
              "      <td>4</td>\n",
              "      <td>0</td>\n",
              "      <td>38</td>\n",
              "    </tr>\n",
              "  </tbody>\n",
              "</table>\n",
              "</div>"
            ],
            "text/plain": [
              "        age  education_num  work_class  ...  race  sex  native_country\n",
              "e532     36             10           1  ...     4    0              38\n",
              "e4823    41             10           1  ...     4    0              38\n",
              "e7492    32              9           1  ...     4    0              38\n",
              "e11207   45              9           1  ...     4    0              38\n",
              "e22125   53              9           1  ...     4    0              38\n",
              "\n",
              "[5 rows x 8 columns]"
            ]
          },
          "metadata": {
            "tags": []
          },
          "execution_count": 47
        }
      ]
    },
    {
      "cell_type": "code",
      "metadata": {
        "colab": {
          "base_uri": "https://localhost:8080/",
          "height": 419
        },
        "id": "-WE3u1kRN0X5",
        "outputId": "d25d42fd-e157-4c14-bd9e-93d07f283a1b"
      },
      "source": [
        "dfn.sort_values(QI_columns+[sensitive_attribute])"
      ],
      "execution_count": null,
      "outputs": [
        {
          "output_type": "execute_result",
          "data": {
            "text/html": [
              "<div>\n",
              "<style scoped>\n",
              "    .dataframe tbody tr th:only-of-type {\n",
              "        vertical-align: middle;\n",
              "    }\n",
              "\n",
              "    .dataframe tbody tr th {\n",
              "        vertical-align: top;\n",
              "    }\n",
              "\n",
              "    .dataframe thead th {\n",
              "        text-align: right;\n",
              "    }\n",
              "</style>\n",
              "<table border=\"1\" class=\"dataframe\">\n",
              "  <thead>\n",
              "    <tr style=\"text-align: right;\">\n",
              "      <th></th>\n",
              "      <th>native_country</th>\n",
              "      <th>marital_status</th>\n",
              "      <th>age</th>\n",
              "      <th>education_num</th>\n",
              "      <th>work_class</th>\n",
              "      <th>occupation</th>\n",
              "      <th>race</th>\n",
              "      <th>sex</th>\n",
              "      <th>count</th>\n",
              "    </tr>\n",
              "  </thead>\n",
              "  <tbody>\n",
              "    <tr>\n",
              "      <th>687</th>\n",
              "      <td>0.0</td>\n",
              "      <td>2.0</td>\n",
              "      <td>27.0</td>\n",
              "      <td>10.0</td>\n",
              "      <td>2</td>\n",
              "      <td>9.0</td>\n",
              "      <td>1.0</td>\n",
              "      <td>1.0</td>\n",
              "      <td>3</td>\n",
              "    </tr>\n",
              "    <tr>\n",
              "      <th>874</th>\n",
              "      <td>0.0</td>\n",
              "      <td>2.0</td>\n",
              "      <td>32.0</td>\n",
              "      <td>1.0</td>\n",
              "      <td>2</td>\n",
              "      <td>6.0</td>\n",
              "      <td>1.0</td>\n",
              "      <td>0.0</td>\n",
              "      <td>4</td>\n",
              "    </tr>\n",
              "    <tr>\n",
              "      <th>1135</th>\n",
              "      <td>0.0</td>\n",
              "      <td>2.0</td>\n",
              "      <td>37.0</td>\n",
              "      <td>2.0</td>\n",
              "      <td>2</td>\n",
              "      <td>2.0</td>\n",
              "      <td>1.0</td>\n",
              "      <td>1.0</td>\n",
              "      <td>4</td>\n",
              "    </tr>\n",
              "    <tr>\n",
              "      <th>1136</th>\n",
              "      <td>0.0</td>\n",
              "      <td>2.0</td>\n",
              "      <td>37.0</td>\n",
              "      <td>13.0</td>\n",
              "      <td>2</td>\n",
              "      <td>2.0</td>\n",
              "      <td>1.0</td>\n",
              "      <td>1.0</td>\n",
              "      <td>4</td>\n",
              "    </tr>\n",
              "    <tr>\n",
              "      <th>118</th>\n",
              "      <td>0.0</td>\n",
              "      <td>2.0</td>\n",
              "      <td>40.0</td>\n",
              "      <td>4.0</td>\n",
              "      <td>2</td>\n",
              "      <td>7.0</td>\n",
              "      <td>1.0</td>\n",
              "      <td>1.0</td>\n",
              "      <td>6</td>\n",
              "    </tr>\n",
              "    <tr>\n",
              "      <th>...</th>\n",
              "      <td>...</td>\n",
              "      <td>...</td>\n",
              "      <td>...</td>\n",
              "      <td>...</td>\n",
              "      <td>...</td>\n",
              "      <td>...</td>\n",
              "      <td>...</td>\n",
              "      <td>...</td>\n",
              "      <td>...</td>\n",
              "    </tr>\n",
              "    <tr>\n",
              "      <th>2643</th>\n",
              "      <td>38.0</td>\n",
              "      <td>6.0</td>\n",
              "      <td>77.0</td>\n",
              "      <td>4.0</td>\n",
              "      <td>2</td>\n",
              "      <td>8.0</td>\n",
              "      <td>4.0</td>\n",
              "      <td>0.0</td>\n",
              "      <td>3</td>\n",
              "    </tr>\n",
              "    <tr>\n",
              "      <th>2644</th>\n",
              "      <td>38.0</td>\n",
              "      <td>6.0</td>\n",
              "      <td>77.0</td>\n",
              "      <td>4.0</td>\n",
              "      <td>5</td>\n",
              "      <td>8.0</td>\n",
              "      <td>4.0</td>\n",
              "      <td>0.0</td>\n",
              "      <td>1</td>\n",
              "    </tr>\n",
              "    <tr>\n",
              "      <th>4966</th>\n",
              "      <td>38.0</td>\n",
              "      <td>6.0</td>\n",
              "      <td>77.0</td>\n",
              "      <td>9.0</td>\n",
              "      <td>2</td>\n",
              "      <td>0.0</td>\n",
              "      <td>4.0</td>\n",
              "      <td>0.0</td>\n",
              "      <td>4</td>\n",
              "    </tr>\n",
              "    <tr>\n",
              "      <th>4967</th>\n",
              "      <td>38.0</td>\n",
              "      <td>6.0</td>\n",
              "      <td>77.0</td>\n",
              "      <td>9.0</td>\n",
              "      <td>4</td>\n",
              "      <td>0.0</td>\n",
              "      <td>4.0</td>\n",
              "      <td>0.0</td>\n",
              "      <td>1</td>\n",
              "    </tr>\n",
              "    <tr>\n",
              "      <th>1787</th>\n",
              "      <td>39.0</td>\n",
              "      <td>4.0</td>\n",
              "      <td>23.0</td>\n",
              "      <td>7.0</td>\n",
              "      <td>2</td>\n",
              "      <td>2.0</td>\n",
              "      <td>1.0</td>\n",
              "      <td>1.0</td>\n",
              "      <td>3</td>\n",
              "    </tr>\n",
              "  </tbody>\n",
              "</table>\n",
              "<p>7007 rows × 9 columns</p>\n",
              "</div>"
            ],
            "text/plain": [
              "      native_country  marital_status   age  ...  race  sex  count\n",
              "687              0.0             2.0  27.0  ...   1.0  1.0      3\n",
              "874              0.0             2.0  32.0  ...   1.0  0.0      4\n",
              "1135             0.0             2.0  37.0  ...   1.0  1.0      4\n",
              "1136             0.0             2.0  37.0  ...   1.0  1.0      4\n",
              "118              0.0             2.0  40.0  ...   1.0  1.0      6\n",
              "...              ...             ...   ...  ...   ...  ...    ...\n",
              "2643            38.0             6.0  77.0  ...   4.0  0.0      3\n",
              "2644            38.0             6.0  77.0  ...   4.0  0.0      1\n",
              "4966            38.0             6.0  77.0  ...   4.0  0.0      4\n",
              "4967            38.0             6.0  77.0  ...   4.0  0.0      1\n",
              "1787            39.0             4.0  23.0  ...   1.0  1.0      3\n",
              "\n",
              "[7007 rows x 9 columns]"
            ]
          },
          "metadata": {
            "tags": []
          },
          "execution_count": 22
        }
      ]
    },
    {
      "cell_type": "code",
      "metadata": {
        "colab": {
          "base_uri": "https://localhost:8080/"
        },
        "id": "1-6R4sosCE0D",
        "outputId": "788c46f8-5389-432c-b530-2a36faa68a2c"
      },
      "source": [
        "dfn['age'].unique()"
      ],
      "execution_count": null,
      "outputs": [
        {
          "output_type": "execute_result",
          "data": {
            "text/plain": [
              "array([72., 46., 39., 31., 30., 53., 29., 36., 26., 22., 37., 35., 38.,\n",
              "       42., 17., 64., 45., 62., 43., 33., 21., 40., 25., 54., 56., 63.,\n",
              "       41., 49., 47., 24., 34., 18., 51., 27., 32., 44., 28., 23., 52.,\n",
              "       19., 50., 65., 55., 20., 59., 57., 60., 48., 73., 66., 58., 68.,\n",
              "       67., 61., 70., 77., 69., 76., 71., 85., 80., 78., 74., 75., 79.,\n",
              "       90.])"
            ]
          },
          "metadata": {
            "tags": []
          },
          "execution_count": 26
        }
      ]
    },
    {
      "cell_type": "code",
      "metadata": {
        "id": "CZlrDaaeFEy-"
      },
      "source": [
        "aggregates ={}\n",
        "for column in QI_columns:\n",
        "  aggregates[column] = df[column].mean()"
      ],
      "execution_count": null,
      "outputs": []
    },
    {
      "cell_type": "code",
      "metadata": {
        "colab": {
          "base_uri": "https://localhost:8080/",
          "height": 545
        },
        "id": "RtnBfzt3EBp2",
        "outputId": "d8fe69e0-13c0-4d15-ba43-f0e1612768b1"
      },
      "source": [
        "df.loc[['e2026', 'e18685', 'e19193']].agg({'marital_status': 2.5801339433724553, 'native_country': 36.382567469000726})"
      ],
      "execution_count": null,
      "outputs": [
        {
          "output_type": "error",
          "ename": "TypeError",
          "evalue": "ignored",
          "traceback": [
            "\u001b[0;31m---------------------------------------------------------------------------\u001b[0m",
            "\u001b[0;31mTypeError\u001b[0m                                 Traceback (most recent call last)",
            "\u001b[0;32m/usr/local/lib/python3.7/dist-packages/pandas/core/series.py\u001b[0m in \u001b[0;36maggregate\u001b[0;34m(self, func, axis, *args, **kwargs)\u001b[0m\n\u001b[1;32m   4065\u001b[0m             \u001b[0;32mtry\u001b[0m\u001b[0;34m:\u001b[0m\u001b[0;34m\u001b[0m\u001b[0;34m\u001b[0m\u001b[0m\n\u001b[0;32m-> 4066\u001b[0;31m                 \u001b[0mresult\u001b[0m \u001b[0;34m=\u001b[0m \u001b[0mself\u001b[0m\u001b[0;34m.\u001b[0m\u001b[0mapply\u001b[0m\u001b[0;34m(\u001b[0m\u001b[0mfunc\u001b[0m\u001b[0;34m,\u001b[0m \u001b[0;34m*\u001b[0m\u001b[0margs\u001b[0m\u001b[0;34m,\u001b[0m \u001b[0;34m**\u001b[0m\u001b[0mkwargs\u001b[0m\u001b[0;34m)\u001b[0m\u001b[0;34m\u001b[0m\u001b[0;34m\u001b[0m\u001b[0m\n\u001b[0m\u001b[1;32m   4067\u001b[0m             \u001b[0;32mexcept\u001b[0m \u001b[0;34m(\u001b[0m\u001b[0mValueError\u001b[0m\u001b[0;34m,\u001b[0m \u001b[0mAttributeError\u001b[0m\u001b[0;34m,\u001b[0m \u001b[0mTypeError\u001b[0m\u001b[0;34m)\u001b[0m\u001b[0;34m:\u001b[0m\u001b[0;34m\u001b[0m\u001b[0;34m\u001b[0m\u001b[0m\n",
            "\u001b[0;32m/usr/local/lib/python3.7/dist-packages/pandas/core/series.py\u001b[0m in \u001b[0;36mapply\u001b[0;34m(self, func, convert_dtype, args, **kwds)\u001b[0m\n\u001b[1;32m   4212\u001b[0m                 \u001b[0mvalues\u001b[0m \u001b[0;34m=\u001b[0m \u001b[0mself\u001b[0m\u001b[0;34m.\u001b[0m\u001b[0mastype\u001b[0m\u001b[0;34m(\u001b[0m\u001b[0mobject\u001b[0m\u001b[0;34m)\u001b[0m\u001b[0;34m.\u001b[0m\u001b[0m_values\u001b[0m\u001b[0;34m\u001b[0m\u001b[0;34m\u001b[0m\u001b[0m\n\u001b[0;32m-> 4213\u001b[0;31m                 \u001b[0mmapped\u001b[0m \u001b[0;34m=\u001b[0m \u001b[0mlib\u001b[0m\u001b[0;34m.\u001b[0m\u001b[0mmap_infer\u001b[0m\u001b[0;34m(\u001b[0m\u001b[0mvalues\u001b[0m\u001b[0;34m,\u001b[0m \u001b[0mf\u001b[0m\u001b[0;34m,\u001b[0m \u001b[0mconvert\u001b[0m\u001b[0;34m=\u001b[0m\u001b[0mconvert_dtype\u001b[0m\u001b[0;34m)\u001b[0m\u001b[0;34m\u001b[0m\u001b[0;34m\u001b[0m\u001b[0m\n\u001b[0m\u001b[1;32m   4214\u001b[0m \u001b[0;34m\u001b[0m\u001b[0m\n",
            "\u001b[0;32mpandas/_libs/lib.pyx\u001b[0m in \u001b[0;36mpandas._libs.lib.map_infer\u001b[0;34m()\u001b[0m\n",
            "\u001b[0;31mTypeError\u001b[0m: 'float' object is not callable",
            "\nDuring handling of the above exception, another exception occurred:\n",
            "\u001b[0;31mTypeError\u001b[0m                                 Traceback (most recent call last)",
            "\u001b[0;32m/usr/local/lib/python3.7/dist-packages/pandas/core/frame.py\u001b[0m in \u001b[0;36maggregate\u001b[0;34m(self, func, axis, *args, **kwargs)\u001b[0m\n\u001b[1;32m   7365\u001b[0m         \u001b[0;32mtry\u001b[0m\u001b[0;34m:\u001b[0m\u001b[0;34m\u001b[0m\u001b[0;34m\u001b[0m\u001b[0m\n\u001b[0;32m-> 7366\u001b[0;31m             \u001b[0mresult\u001b[0m\u001b[0;34m,\u001b[0m \u001b[0mhow\u001b[0m \u001b[0;34m=\u001b[0m \u001b[0mself\u001b[0m\u001b[0;34m.\u001b[0m\u001b[0m_aggregate\u001b[0m\u001b[0;34m(\u001b[0m\u001b[0mfunc\u001b[0m\u001b[0;34m,\u001b[0m \u001b[0maxis\u001b[0m\u001b[0;34m,\u001b[0m \u001b[0;34m*\u001b[0m\u001b[0margs\u001b[0m\u001b[0;34m,\u001b[0m \u001b[0;34m**\u001b[0m\u001b[0mkwargs\u001b[0m\u001b[0;34m)\u001b[0m\u001b[0;34m\u001b[0m\u001b[0;34m\u001b[0m\u001b[0m\n\u001b[0m\u001b[1;32m   7367\u001b[0m         \u001b[0;32mexcept\u001b[0m \u001b[0mTypeError\u001b[0m \u001b[0;32mas\u001b[0m \u001b[0merr\u001b[0m\u001b[0;34m:\u001b[0m\u001b[0;34m\u001b[0m\u001b[0;34m\u001b[0m\u001b[0m\n",
            "\u001b[0;32m/usr/local/lib/python3.7/dist-packages/pandas/core/frame.py\u001b[0m in \u001b[0;36m_aggregate\u001b[0;34m(self, arg, axis, *args, **kwargs)\u001b[0m\n\u001b[1;32m   7390\u001b[0m             \u001b[0;32mreturn\u001b[0m \u001b[0mresult\u001b[0m\u001b[0;34m,\u001b[0m \u001b[0mhow\u001b[0m\u001b[0;34m\u001b[0m\u001b[0;34m\u001b[0m\u001b[0m\n\u001b[0;32m-> 7391\u001b[0;31m         \u001b[0;32mreturn\u001b[0m \u001b[0msuper\u001b[0m\u001b[0;34m(\u001b[0m\u001b[0;34m)\u001b[0m\u001b[0;34m.\u001b[0m\u001b[0m_aggregate\u001b[0m\u001b[0;34m(\u001b[0m\u001b[0marg\u001b[0m\u001b[0;34m,\u001b[0m \u001b[0;34m*\u001b[0m\u001b[0margs\u001b[0m\u001b[0;34m,\u001b[0m \u001b[0;34m**\u001b[0m\u001b[0mkwargs\u001b[0m\u001b[0;34m)\u001b[0m\u001b[0;34m\u001b[0m\u001b[0;34m\u001b[0m\u001b[0m\n\u001b[0m\u001b[1;32m   7392\u001b[0m \u001b[0;34m\u001b[0m\u001b[0m\n",
            "\u001b[0;32m/usr/local/lib/python3.7/dist-packages/pandas/core/base.py\u001b[0m in \u001b[0;36m_aggregate\u001b[0;34m(self, arg, *args, **kwargs)\u001b[0m\n\u001b[1;32m    415\u001b[0m                 \u001b[0;32mtry\u001b[0m\u001b[0;34m:\u001b[0m\u001b[0;34m\u001b[0m\u001b[0;34m\u001b[0m\u001b[0m\n\u001b[0;32m--> 416\u001b[0;31m                     \u001b[0mresult\u001b[0m \u001b[0;34m=\u001b[0m \u001b[0m_agg\u001b[0m\u001b[0;34m(\u001b[0m\u001b[0marg\u001b[0m\u001b[0;34m,\u001b[0m \u001b[0m_agg_1dim\u001b[0m\u001b[0;34m)\u001b[0m\u001b[0;34m\u001b[0m\u001b[0;34m\u001b[0m\u001b[0m\n\u001b[0m\u001b[1;32m    417\u001b[0m                 \u001b[0;32mexcept\u001b[0m \u001b[0mSpecificationError\u001b[0m\u001b[0;34m:\u001b[0m\u001b[0;34m\u001b[0m\u001b[0;34m\u001b[0m\u001b[0m\n",
            "\u001b[0;32m/usr/local/lib/python3.7/dist-packages/pandas/core/base.py\u001b[0m in \u001b[0;36m_agg\u001b[0;34m(arg, func)\u001b[0m\n\u001b[1;32m    382\u001b[0m                 \u001b[0;32mfor\u001b[0m \u001b[0mfname\u001b[0m\u001b[0;34m,\u001b[0m \u001b[0magg_how\u001b[0m \u001b[0;32min\u001b[0m \u001b[0marg\u001b[0m\u001b[0;34m.\u001b[0m\u001b[0mitems\u001b[0m\u001b[0;34m(\u001b[0m\u001b[0;34m)\u001b[0m\u001b[0;34m:\u001b[0m\u001b[0;34m\u001b[0m\u001b[0;34m\u001b[0m\u001b[0m\n\u001b[0;32m--> 383\u001b[0;31m                     \u001b[0mresult\u001b[0m\u001b[0;34m[\u001b[0m\u001b[0mfname\u001b[0m\u001b[0;34m]\u001b[0m \u001b[0;34m=\u001b[0m \u001b[0mfunc\u001b[0m\u001b[0;34m(\u001b[0m\u001b[0mfname\u001b[0m\u001b[0;34m,\u001b[0m \u001b[0magg_how\u001b[0m\u001b[0;34m)\u001b[0m\u001b[0;34m\u001b[0m\u001b[0;34m\u001b[0m\u001b[0m\n\u001b[0m\u001b[1;32m    384\u001b[0m                 \u001b[0;32mreturn\u001b[0m \u001b[0mresult\u001b[0m\u001b[0;34m\u001b[0m\u001b[0;34m\u001b[0m\u001b[0m\n",
            "\u001b[0;32m/usr/local/lib/python3.7/dist-packages/pandas/core/base.py\u001b[0m in \u001b[0;36m_agg_1dim\u001b[0;34m(name, how, subset)\u001b[0m\n\u001b[1;32m    366\u001b[0m                     )\n\u001b[0;32m--> 367\u001b[0;31m                 \u001b[0;32mreturn\u001b[0m \u001b[0mcolg\u001b[0m\u001b[0;34m.\u001b[0m\u001b[0maggregate\u001b[0m\u001b[0;34m(\u001b[0m\u001b[0mhow\u001b[0m\u001b[0;34m)\u001b[0m\u001b[0;34m\u001b[0m\u001b[0;34m\u001b[0m\u001b[0m\n\u001b[0m\u001b[1;32m    368\u001b[0m \u001b[0;34m\u001b[0m\u001b[0m\n",
            "\u001b[0;32m/usr/local/lib/python3.7/dist-packages/pandas/core/series.py\u001b[0m in \u001b[0;36maggregate\u001b[0;34m(self, func, axis, *args, **kwargs)\u001b[0m\n\u001b[1;32m   4067\u001b[0m             \u001b[0;32mexcept\u001b[0m \u001b[0;34m(\u001b[0m\u001b[0mValueError\u001b[0m\u001b[0;34m,\u001b[0m \u001b[0mAttributeError\u001b[0m\u001b[0;34m,\u001b[0m \u001b[0mTypeError\u001b[0m\u001b[0;34m)\u001b[0m\u001b[0;34m:\u001b[0m\u001b[0;34m\u001b[0m\u001b[0;34m\u001b[0m\u001b[0m\n\u001b[0;32m-> 4068\u001b[0;31m                 \u001b[0mresult\u001b[0m \u001b[0;34m=\u001b[0m \u001b[0mfunc\u001b[0m\u001b[0;34m(\u001b[0m\u001b[0mself\u001b[0m\u001b[0;34m,\u001b[0m \u001b[0;34m*\u001b[0m\u001b[0margs\u001b[0m\u001b[0;34m,\u001b[0m \u001b[0;34m**\u001b[0m\u001b[0mkwargs\u001b[0m\u001b[0;34m)\u001b[0m\u001b[0;34m\u001b[0m\u001b[0;34m\u001b[0m\u001b[0m\n\u001b[0m\u001b[1;32m   4069\u001b[0m \u001b[0;34m\u001b[0m\u001b[0m\n",
            "\u001b[0;31mTypeError\u001b[0m: 'float' object is not callable",
            "\nThe above exception was the direct cause of the following exception:\n",
            "\u001b[0;31mTypeError\u001b[0m                                 Traceback (most recent call last)",
            "\u001b[0;32m<ipython-input-127-46ea38a0cdd6>\u001b[0m in \u001b[0;36m<module>\u001b[0;34m()\u001b[0m\n\u001b[0;32m----> 1\u001b[0;31m \u001b[0mdf\u001b[0m\u001b[0;34m.\u001b[0m\u001b[0mloc\u001b[0m\u001b[0;34m[\u001b[0m\u001b[0;34m[\u001b[0m\u001b[0;34m'e2026'\u001b[0m\u001b[0;34m,\u001b[0m \u001b[0;34m'e18685'\u001b[0m\u001b[0;34m,\u001b[0m \u001b[0;34m'e19193'\u001b[0m\u001b[0;34m]\u001b[0m\u001b[0;34m]\u001b[0m\u001b[0;34m.\u001b[0m\u001b[0magg\u001b[0m\u001b[0;34m(\u001b[0m\u001b[0;34m{\u001b[0m\u001b[0;34m'marital_status'\u001b[0m\u001b[0;34m:\u001b[0m \u001b[0;36m2.5801339433724553\u001b[0m\u001b[0;34m,\u001b[0m \u001b[0;34m'native_country'\u001b[0m\u001b[0;34m:\u001b[0m \u001b[0;36m36.382567469000726\u001b[0m\u001b[0;34m}\u001b[0m\u001b[0;34m)\u001b[0m\u001b[0;34m\u001b[0m\u001b[0;34m\u001b[0m\u001b[0m\n\u001b[0m",
            "\u001b[0;32m/usr/local/lib/python3.7/dist-packages/pandas/core/frame.py\u001b[0m in \u001b[0;36maggregate\u001b[0;34m(self, func, axis, *args, **kwargs)\u001b[0m\n\u001b[1;32m   7370\u001b[0m                 \u001b[0;34mf\"incompatible data and dtype: {err}\"\u001b[0m\u001b[0;34m\u001b[0m\u001b[0;34m\u001b[0m\u001b[0m\n\u001b[1;32m   7371\u001b[0m             )\n\u001b[0;32m-> 7372\u001b[0;31m             \u001b[0;32mraise\u001b[0m \u001b[0mexc\u001b[0m \u001b[0;32mfrom\u001b[0m \u001b[0merr\u001b[0m\u001b[0;34m\u001b[0m\u001b[0;34m\u001b[0m\u001b[0m\n\u001b[0m\u001b[1;32m   7373\u001b[0m         \u001b[0;32mif\u001b[0m \u001b[0mresult\u001b[0m \u001b[0;32mis\u001b[0m \u001b[0;32mNone\u001b[0m\u001b[0;34m:\u001b[0m\u001b[0;34m\u001b[0m\u001b[0;34m\u001b[0m\u001b[0m\n\u001b[1;32m   7374\u001b[0m             \u001b[0;32mreturn\u001b[0m \u001b[0mself\u001b[0m\u001b[0;34m.\u001b[0m\u001b[0mapply\u001b[0m\u001b[0;34m(\u001b[0m\u001b[0mfunc\u001b[0m\u001b[0;34m,\u001b[0m \u001b[0maxis\u001b[0m\u001b[0;34m=\u001b[0m\u001b[0maxis\u001b[0m\u001b[0;34m,\u001b[0m \u001b[0margs\u001b[0m\u001b[0;34m=\u001b[0m\u001b[0margs\u001b[0m\u001b[0;34m,\u001b[0m \u001b[0;34m**\u001b[0m\u001b[0mkwargs\u001b[0m\u001b[0;34m)\u001b[0m\u001b[0;34m\u001b[0m\u001b[0;34m\u001b[0m\u001b[0m\n",
            "\u001b[0;31mTypeError\u001b[0m: DataFrame constructor called with incompatible data and dtype: 'float' object is not callable"
          ]
        }
      ]
    },
    {
      "cell_type": "code",
      "metadata": {
        "colab": {
          "base_uri": "https://localhost:8080/"
        },
        "id": "qS12jfqbEhGf",
        "outputId": "52110583-3ca6-4972-88fe-3c1f473139c7"
      },
      "source": [
        "aggregates"
      ],
      "execution_count": null,
      "outputs": [
        {
          "output_type": "execute_result",
          "data": {
            "text/plain": [
              "{'marital_status': 2.5801339433724553, 'native_country': 36.382567469000726}"
            ]
          },
          "metadata": {
            "tags": []
          },
          "execution_count": 109
        }
      ]
    },
    {
      "cell_type": "code",
      "metadata": {
        "colab": {
          "base_uri": "https://localhost:8080/",
          "height": 545
        },
        "id": "if--qeu3FICT",
        "outputId": "2e9c4731-89ba-4216-f1a4-73033aad542e"
      },
      "source": [
        "df.loc[list(['e2026', 'e18685', 'e19193'])].agg(aggregates, squeeze=False)"
      ],
      "execution_count": null,
      "outputs": [
        {
          "output_type": "error",
          "ename": "TypeError",
          "evalue": "ignored",
          "traceback": [
            "\u001b[0;31m---------------------------------------------------------------------------\u001b[0m",
            "\u001b[0;31mTypeError\u001b[0m                                 Traceback (most recent call last)",
            "\u001b[0;32m/usr/local/lib/python3.7/dist-packages/pandas/core/series.py\u001b[0m in \u001b[0;36maggregate\u001b[0;34m(self, func, axis, *args, **kwargs)\u001b[0m\n\u001b[1;32m   4065\u001b[0m             \u001b[0;32mtry\u001b[0m\u001b[0;34m:\u001b[0m\u001b[0;34m\u001b[0m\u001b[0;34m\u001b[0m\u001b[0m\n\u001b[0;32m-> 4066\u001b[0;31m                 \u001b[0mresult\u001b[0m \u001b[0;34m=\u001b[0m \u001b[0mself\u001b[0m\u001b[0;34m.\u001b[0m\u001b[0mapply\u001b[0m\u001b[0;34m(\u001b[0m\u001b[0mfunc\u001b[0m\u001b[0;34m,\u001b[0m \u001b[0;34m*\u001b[0m\u001b[0margs\u001b[0m\u001b[0;34m,\u001b[0m \u001b[0;34m**\u001b[0m\u001b[0mkwargs\u001b[0m\u001b[0;34m)\u001b[0m\u001b[0;34m\u001b[0m\u001b[0;34m\u001b[0m\u001b[0m\n\u001b[0m\u001b[1;32m   4067\u001b[0m             \u001b[0;32mexcept\u001b[0m \u001b[0;34m(\u001b[0m\u001b[0mValueError\u001b[0m\u001b[0;34m,\u001b[0m \u001b[0mAttributeError\u001b[0m\u001b[0;34m,\u001b[0m \u001b[0mTypeError\u001b[0m\u001b[0;34m)\u001b[0m\u001b[0;34m:\u001b[0m\u001b[0;34m\u001b[0m\u001b[0;34m\u001b[0m\u001b[0m\n",
            "\u001b[0;32m/usr/local/lib/python3.7/dist-packages/pandas/core/series.py\u001b[0m in \u001b[0;36mapply\u001b[0;34m(self, func, convert_dtype, args, **kwds)\u001b[0m\n\u001b[1;32m   4212\u001b[0m                 \u001b[0mvalues\u001b[0m \u001b[0;34m=\u001b[0m \u001b[0mself\u001b[0m\u001b[0;34m.\u001b[0m\u001b[0mastype\u001b[0m\u001b[0;34m(\u001b[0m\u001b[0mobject\u001b[0m\u001b[0;34m)\u001b[0m\u001b[0;34m.\u001b[0m\u001b[0m_values\u001b[0m\u001b[0;34m\u001b[0m\u001b[0;34m\u001b[0m\u001b[0m\n\u001b[0;32m-> 4213\u001b[0;31m                 \u001b[0mmapped\u001b[0m \u001b[0;34m=\u001b[0m \u001b[0mlib\u001b[0m\u001b[0;34m.\u001b[0m\u001b[0mmap_infer\u001b[0m\u001b[0;34m(\u001b[0m\u001b[0mvalues\u001b[0m\u001b[0;34m,\u001b[0m \u001b[0mf\u001b[0m\u001b[0;34m,\u001b[0m \u001b[0mconvert\u001b[0m\u001b[0;34m=\u001b[0m\u001b[0mconvert_dtype\u001b[0m\u001b[0;34m)\u001b[0m\u001b[0;34m\u001b[0m\u001b[0;34m\u001b[0m\u001b[0m\n\u001b[0m\u001b[1;32m   4214\u001b[0m \u001b[0;34m\u001b[0m\u001b[0m\n",
            "\u001b[0;32mpandas/_libs/lib.pyx\u001b[0m in \u001b[0;36mpandas._libs.lib.map_infer\u001b[0;34m()\u001b[0m\n",
            "\u001b[0;31mTypeError\u001b[0m: 'numpy.float64' object is not callable",
            "\nDuring handling of the above exception, another exception occurred:\n",
            "\u001b[0;31mTypeError\u001b[0m                                 Traceback (most recent call last)",
            "\u001b[0;32m/usr/local/lib/python3.7/dist-packages/pandas/core/frame.py\u001b[0m in \u001b[0;36maggregate\u001b[0;34m(self, func, axis, *args, **kwargs)\u001b[0m\n\u001b[1;32m   7365\u001b[0m         \u001b[0;32mtry\u001b[0m\u001b[0;34m:\u001b[0m\u001b[0;34m\u001b[0m\u001b[0;34m\u001b[0m\u001b[0m\n\u001b[0;32m-> 7366\u001b[0;31m             \u001b[0mresult\u001b[0m\u001b[0;34m,\u001b[0m \u001b[0mhow\u001b[0m \u001b[0;34m=\u001b[0m \u001b[0mself\u001b[0m\u001b[0;34m.\u001b[0m\u001b[0m_aggregate\u001b[0m\u001b[0;34m(\u001b[0m\u001b[0mfunc\u001b[0m\u001b[0;34m,\u001b[0m \u001b[0maxis\u001b[0m\u001b[0;34m,\u001b[0m \u001b[0;34m*\u001b[0m\u001b[0margs\u001b[0m\u001b[0;34m,\u001b[0m \u001b[0;34m**\u001b[0m\u001b[0mkwargs\u001b[0m\u001b[0;34m)\u001b[0m\u001b[0;34m\u001b[0m\u001b[0;34m\u001b[0m\u001b[0m\n\u001b[0m\u001b[1;32m   7367\u001b[0m         \u001b[0;32mexcept\u001b[0m \u001b[0mTypeError\u001b[0m \u001b[0;32mas\u001b[0m \u001b[0merr\u001b[0m\u001b[0;34m:\u001b[0m\u001b[0;34m\u001b[0m\u001b[0;34m\u001b[0m\u001b[0m\n",
            "\u001b[0;32m/usr/local/lib/python3.7/dist-packages/pandas/core/frame.py\u001b[0m in \u001b[0;36m_aggregate\u001b[0;34m(self, arg, axis, *args, **kwargs)\u001b[0m\n\u001b[1;32m   7390\u001b[0m             \u001b[0;32mreturn\u001b[0m \u001b[0mresult\u001b[0m\u001b[0;34m,\u001b[0m \u001b[0mhow\u001b[0m\u001b[0;34m\u001b[0m\u001b[0;34m\u001b[0m\u001b[0m\n\u001b[0;32m-> 7391\u001b[0;31m         \u001b[0;32mreturn\u001b[0m \u001b[0msuper\u001b[0m\u001b[0;34m(\u001b[0m\u001b[0;34m)\u001b[0m\u001b[0;34m.\u001b[0m\u001b[0m_aggregate\u001b[0m\u001b[0;34m(\u001b[0m\u001b[0marg\u001b[0m\u001b[0;34m,\u001b[0m \u001b[0;34m*\u001b[0m\u001b[0margs\u001b[0m\u001b[0;34m,\u001b[0m \u001b[0;34m**\u001b[0m\u001b[0mkwargs\u001b[0m\u001b[0;34m)\u001b[0m\u001b[0;34m\u001b[0m\u001b[0;34m\u001b[0m\u001b[0m\n\u001b[0m\u001b[1;32m   7392\u001b[0m \u001b[0;34m\u001b[0m\u001b[0m\n",
            "\u001b[0;32m/usr/local/lib/python3.7/dist-packages/pandas/core/base.py\u001b[0m in \u001b[0;36m_aggregate\u001b[0;34m(self, arg, *args, **kwargs)\u001b[0m\n\u001b[1;32m    415\u001b[0m                 \u001b[0;32mtry\u001b[0m\u001b[0;34m:\u001b[0m\u001b[0;34m\u001b[0m\u001b[0;34m\u001b[0m\u001b[0m\n\u001b[0;32m--> 416\u001b[0;31m                     \u001b[0mresult\u001b[0m \u001b[0;34m=\u001b[0m \u001b[0m_agg\u001b[0m\u001b[0;34m(\u001b[0m\u001b[0marg\u001b[0m\u001b[0;34m,\u001b[0m \u001b[0m_agg_1dim\u001b[0m\u001b[0;34m)\u001b[0m\u001b[0;34m\u001b[0m\u001b[0;34m\u001b[0m\u001b[0m\n\u001b[0m\u001b[1;32m    417\u001b[0m                 \u001b[0;32mexcept\u001b[0m \u001b[0mSpecificationError\u001b[0m\u001b[0;34m:\u001b[0m\u001b[0;34m\u001b[0m\u001b[0;34m\u001b[0m\u001b[0m\n",
            "\u001b[0;32m/usr/local/lib/python3.7/dist-packages/pandas/core/base.py\u001b[0m in \u001b[0;36m_agg\u001b[0;34m(arg, func)\u001b[0m\n\u001b[1;32m    382\u001b[0m                 \u001b[0;32mfor\u001b[0m \u001b[0mfname\u001b[0m\u001b[0;34m,\u001b[0m \u001b[0magg_how\u001b[0m \u001b[0;32min\u001b[0m \u001b[0marg\u001b[0m\u001b[0;34m.\u001b[0m\u001b[0mitems\u001b[0m\u001b[0;34m(\u001b[0m\u001b[0;34m)\u001b[0m\u001b[0;34m:\u001b[0m\u001b[0;34m\u001b[0m\u001b[0;34m\u001b[0m\u001b[0m\n\u001b[0;32m--> 383\u001b[0;31m                     \u001b[0mresult\u001b[0m\u001b[0;34m[\u001b[0m\u001b[0mfname\u001b[0m\u001b[0;34m]\u001b[0m \u001b[0;34m=\u001b[0m \u001b[0mfunc\u001b[0m\u001b[0;34m(\u001b[0m\u001b[0mfname\u001b[0m\u001b[0;34m,\u001b[0m \u001b[0magg_how\u001b[0m\u001b[0;34m)\u001b[0m\u001b[0;34m\u001b[0m\u001b[0;34m\u001b[0m\u001b[0m\n\u001b[0m\u001b[1;32m    384\u001b[0m                 \u001b[0;32mreturn\u001b[0m \u001b[0mresult\u001b[0m\u001b[0;34m\u001b[0m\u001b[0;34m\u001b[0m\u001b[0m\n",
            "\u001b[0;32m/usr/local/lib/python3.7/dist-packages/pandas/core/base.py\u001b[0m in \u001b[0;36m_agg_1dim\u001b[0;34m(name, how, subset)\u001b[0m\n\u001b[1;32m    366\u001b[0m                     )\n\u001b[0;32m--> 367\u001b[0;31m                 \u001b[0;32mreturn\u001b[0m \u001b[0mcolg\u001b[0m\u001b[0;34m.\u001b[0m\u001b[0maggregate\u001b[0m\u001b[0;34m(\u001b[0m\u001b[0mhow\u001b[0m\u001b[0;34m)\u001b[0m\u001b[0;34m\u001b[0m\u001b[0;34m\u001b[0m\u001b[0m\n\u001b[0m\u001b[1;32m    368\u001b[0m \u001b[0;34m\u001b[0m\u001b[0m\n",
            "\u001b[0;32m/usr/local/lib/python3.7/dist-packages/pandas/core/series.py\u001b[0m in \u001b[0;36maggregate\u001b[0;34m(self, func, axis, *args, **kwargs)\u001b[0m\n\u001b[1;32m   4067\u001b[0m             \u001b[0;32mexcept\u001b[0m \u001b[0;34m(\u001b[0m\u001b[0mValueError\u001b[0m\u001b[0;34m,\u001b[0m \u001b[0mAttributeError\u001b[0m\u001b[0;34m,\u001b[0m \u001b[0mTypeError\u001b[0m\u001b[0;34m)\u001b[0m\u001b[0;34m:\u001b[0m\u001b[0;34m\u001b[0m\u001b[0;34m\u001b[0m\u001b[0m\n\u001b[0;32m-> 4068\u001b[0;31m                 \u001b[0mresult\u001b[0m \u001b[0;34m=\u001b[0m \u001b[0mfunc\u001b[0m\u001b[0;34m(\u001b[0m\u001b[0mself\u001b[0m\u001b[0;34m,\u001b[0m \u001b[0;34m*\u001b[0m\u001b[0margs\u001b[0m\u001b[0;34m,\u001b[0m \u001b[0;34m**\u001b[0m\u001b[0mkwargs\u001b[0m\u001b[0;34m)\u001b[0m\u001b[0;34m\u001b[0m\u001b[0;34m\u001b[0m\u001b[0m\n\u001b[0m\u001b[1;32m   4069\u001b[0m \u001b[0;34m\u001b[0m\u001b[0m\n",
            "\u001b[0;31mTypeError\u001b[0m: 'numpy.float64' object is not callable",
            "\nThe above exception was the direct cause of the following exception:\n",
            "\u001b[0;31mTypeError\u001b[0m                                 Traceback (most recent call last)",
            "\u001b[0;32m<ipython-input-122-f1ff4a967a9b>\u001b[0m in \u001b[0;36m<module>\u001b[0;34m()\u001b[0m\n\u001b[0;32m----> 1\u001b[0;31m \u001b[0mdf\u001b[0m\u001b[0;34m.\u001b[0m\u001b[0mloc\u001b[0m\u001b[0;34m[\u001b[0m\u001b[0mlist\u001b[0m\u001b[0;34m(\u001b[0m\u001b[0;34m[\u001b[0m\u001b[0;34m'e2026'\u001b[0m\u001b[0;34m,\u001b[0m \u001b[0;34m'e18685'\u001b[0m\u001b[0;34m,\u001b[0m \u001b[0;34m'e19193'\u001b[0m\u001b[0;34m]\u001b[0m\u001b[0;34m)\u001b[0m\u001b[0;34m]\u001b[0m\u001b[0;34m.\u001b[0m\u001b[0magg\u001b[0m\u001b[0;34m(\u001b[0m\u001b[0maggregates\u001b[0m\u001b[0;34m,\u001b[0m \u001b[0msqueeze\u001b[0m\u001b[0;34m=\u001b[0m\u001b[0;32mFalse\u001b[0m\u001b[0;34m)\u001b[0m\u001b[0;34m\u001b[0m\u001b[0;34m\u001b[0m\u001b[0m\n\u001b[0m",
            "\u001b[0;32m/usr/local/lib/python3.7/dist-packages/pandas/core/frame.py\u001b[0m in \u001b[0;36maggregate\u001b[0;34m(self, func, axis, *args, **kwargs)\u001b[0m\n\u001b[1;32m   7370\u001b[0m                 \u001b[0;34mf\"incompatible data and dtype: {err}\"\u001b[0m\u001b[0;34m\u001b[0m\u001b[0;34m\u001b[0m\u001b[0m\n\u001b[1;32m   7371\u001b[0m             )\n\u001b[0;32m-> 7372\u001b[0;31m             \u001b[0;32mraise\u001b[0m \u001b[0mexc\u001b[0m \u001b[0;32mfrom\u001b[0m \u001b[0merr\u001b[0m\u001b[0;34m\u001b[0m\u001b[0;34m\u001b[0m\u001b[0m\n\u001b[0m\u001b[1;32m   7373\u001b[0m         \u001b[0;32mif\u001b[0m \u001b[0mresult\u001b[0m \u001b[0;32mis\u001b[0m \u001b[0;32mNone\u001b[0m\u001b[0;34m:\u001b[0m\u001b[0;34m\u001b[0m\u001b[0;34m\u001b[0m\u001b[0m\n\u001b[1;32m   7374\u001b[0m             \u001b[0;32mreturn\u001b[0m \u001b[0mself\u001b[0m\u001b[0;34m.\u001b[0m\u001b[0mapply\u001b[0m\u001b[0;34m(\u001b[0m\u001b[0mfunc\u001b[0m\u001b[0;34m,\u001b[0m \u001b[0maxis\u001b[0m\u001b[0;34m=\u001b[0m\u001b[0maxis\u001b[0m\u001b[0;34m,\u001b[0m \u001b[0margs\u001b[0m\u001b[0;34m=\u001b[0m\u001b[0margs\u001b[0m\u001b[0;34m,\u001b[0m \u001b[0;34m**\u001b[0m\u001b[0mkwargs\u001b[0m\u001b[0;34m)\u001b[0m\u001b[0;34m\u001b[0m\u001b[0;34m\u001b[0m\u001b[0m\n",
            "\u001b[0;31mTypeError\u001b[0m: DataFrame constructor called with incompatible data and dtype: 'numpy.float64' object is not callable"
          ]
        }
      ]
    },
    {
      "cell_type": "code",
      "metadata": {
        "id": "zk4Vz_j9LyM-"
      },
      "source": [
        "parts = [['e2026', 'e18685', 'e19193']]"
      ],
      "execution_count": null,
      "outputs": []
    },
    {
      "cell_type": "code",
      "metadata": {
        "id": "WTq7pkniMvpm"
      },
      "source": [
        "df.groupby(['A', 'B'], as_index=False).sum()"
      ],
      "execution_count": null,
      "outputs": []
    },
    {
      "cell_type": "code",
      "metadata": {
        "colab": {
          "base_uri": "https://localhost:8080/"
        },
        "id": "dyvdJJKYHPRs",
        "outputId": "5b59d5e3-bc16-4619-e098-0a4546dc09d3"
      },
      "source": [
        "max_partitions = None\n",
        "aggregates ={}\n",
        "for column in QI_columns:\n",
        "  aggregates[column] = [df[column].mean()]\n",
        "rows = []\n",
        "  #print(parts)\n",
        "for i, part in enumerate(parts):\n",
        "  if i % 100 == 1:\n",
        "    print(\"Finished {} partitions...\".format(i))\n",
        "  if max_partitions is not None and i > max_partitions:\n",
        "    break\n",
        "  print(df.loc[part])\n",
        "  grouped_columns = df.loc[part].groupby(QI_columns, as_index=False).mean()  #.agg(aggregates, squeeze=False)\n",
        "  print(grouped_columns)\n",
        "  sensitive_counts = df.loc[part].groupby(sensitive_attribute).agg({sensitive_attribute : 'count'})\n",
        "  values = grouped_columns.iloc[0].to_dict()\n",
        "  for sensitive_value, count in sensitive_counts[sensitive_attribute].items():\n",
        "    if count == 0:\n",
        "      continue\n",
        "    values.update({sensitive_attribute : sensitive_value,'count' : count,})\n",
        "    rows.append(values.copy())"
      ],
      "execution_count": null,
      "outputs": [
        {
          "output_type": "stream",
          "text": [
            "        age  education_num  work_class  ...  race  sex  native_country\n",
            "e2026    42             10           0  ...     4    0              32\n",
            "e18685   72              7           0  ...     4    0               1\n",
            "e19193   61              9           0  ...     4    0              32\n",
            "\n",
            "[3 rows x 8 columns]\n",
            "   age  marital_status  native_country  ...  occupation  race  sex\n",
            "0   42               0              32  ...           0     4    0\n",
            "1   61               4              32  ...           0     4    0\n",
            "2   72               0               1  ...           0     4    0\n",
            "\n",
            "[3 rows x 8 columns]\n"
          ],
          "name": "stdout"
        }
      ]
    },
    {
      "cell_type": "code",
      "metadata": {
        "colab": {
          "base_uri": "https://localhost:8080/"
        },
        "id": "_SZjc40ZLozI",
        "outputId": "029d636b-b644-4985-f016-6d249faecff1"
      },
      "source": [
        "aggregates"
      ],
      "execution_count": null,
      "outputs": [
        {
          "output_type": "execute_result",
          "data": {
            "text/plain": [
              "{'age': [38.437901995888865],\n",
              " 'marital_status': [2.5801339433724553],\n",
              " 'native_country': [36.382567469000726]}"
            ]
          },
          "metadata": {
            "tags": []
          },
          "execution_count": 146
        }
      ]
    },
    {
      "cell_type": "code",
      "metadata": {
        "colab": {
          "base_uri": "https://localhost:8080/",
          "height": 307
        },
        "id": "4B2VdytWL9Ew",
        "outputId": "69a5d96b-db9e-45ac-8f1c-0199c2cbed84"
      },
      "source": [
        "df.loc[part].agg({'native_country': [36.382567469000726]}, squeeze=False)"
      ],
      "execution_count": null,
      "outputs": [
        {
          "output_type": "error",
          "ename": "ValueError",
          "evalue": "ignored",
          "traceback": [
            "\u001b[0;31m---------------------------------------------------------------------------\u001b[0m",
            "\u001b[0;31mValueError\u001b[0m                                Traceback (most recent call last)",
            "\u001b[0;32m<ipython-input-149-b953d55864c8>\u001b[0m in \u001b[0;36m<module>\u001b[0;34m()\u001b[0m\n\u001b[0;32m----> 1\u001b[0;31m \u001b[0mdf\u001b[0m\u001b[0;34m.\u001b[0m\u001b[0mloc\u001b[0m\u001b[0;34m[\u001b[0m\u001b[0mpart\u001b[0m\u001b[0;34m]\u001b[0m\u001b[0;34m.\u001b[0m\u001b[0magg\u001b[0m\u001b[0;34m(\u001b[0m\u001b[0;34m{\u001b[0m\u001b[0;34m'native_country'\u001b[0m\u001b[0;34m:\u001b[0m \u001b[0;34m[\u001b[0m\u001b[0;36m36.382567469000726\u001b[0m\u001b[0;34m]\u001b[0m\u001b[0;34m}\u001b[0m\u001b[0;34m,\u001b[0m \u001b[0msqueeze\u001b[0m\u001b[0;34m=\u001b[0m\u001b[0;32mFalse\u001b[0m\u001b[0;34m)\u001b[0m\u001b[0;34m\u001b[0m\u001b[0;34m\u001b[0m\u001b[0m\n\u001b[0m",
            "\u001b[0;32m/usr/local/lib/python3.7/dist-packages/pandas/core/frame.py\u001b[0m in \u001b[0;36maggregate\u001b[0;34m(self, func, axis, *args, **kwargs)\u001b[0m\n\u001b[1;32m   7364\u001b[0m         \u001b[0mresult\u001b[0m \u001b[0;34m=\u001b[0m \u001b[0;32mNone\u001b[0m\u001b[0;34m\u001b[0m\u001b[0;34m\u001b[0m\u001b[0m\n\u001b[1;32m   7365\u001b[0m         \u001b[0;32mtry\u001b[0m\u001b[0;34m:\u001b[0m\u001b[0;34m\u001b[0m\u001b[0;34m\u001b[0m\u001b[0m\n\u001b[0;32m-> 7366\u001b[0;31m             \u001b[0mresult\u001b[0m\u001b[0;34m,\u001b[0m \u001b[0mhow\u001b[0m \u001b[0;34m=\u001b[0m \u001b[0mself\u001b[0m\u001b[0;34m.\u001b[0m\u001b[0m_aggregate\u001b[0m\u001b[0;34m(\u001b[0m\u001b[0mfunc\u001b[0m\u001b[0;34m,\u001b[0m \u001b[0maxis\u001b[0m\u001b[0;34m,\u001b[0m \u001b[0;34m*\u001b[0m\u001b[0margs\u001b[0m\u001b[0;34m,\u001b[0m \u001b[0;34m**\u001b[0m\u001b[0mkwargs\u001b[0m\u001b[0;34m)\u001b[0m\u001b[0;34m\u001b[0m\u001b[0;34m\u001b[0m\u001b[0m\n\u001b[0m\u001b[1;32m   7367\u001b[0m         \u001b[0;32mexcept\u001b[0m \u001b[0mTypeError\u001b[0m \u001b[0;32mas\u001b[0m \u001b[0merr\u001b[0m\u001b[0;34m:\u001b[0m\u001b[0;34m\u001b[0m\u001b[0;34m\u001b[0m\u001b[0m\n\u001b[1;32m   7368\u001b[0m             exc = TypeError(\n",
            "\u001b[0;32m/usr/local/lib/python3.7/dist-packages/pandas/core/frame.py\u001b[0m in \u001b[0;36m_aggregate\u001b[0;34m(self, arg, axis, *args, **kwargs)\u001b[0m\n\u001b[1;32m   7389\u001b[0m             \u001b[0mresult\u001b[0m \u001b[0;34m=\u001b[0m \u001b[0mresult\u001b[0m\u001b[0;34m.\u001b[0m\u001b[0mT\u001b[0m \u001b[0;32mif\u001b[0m \u001b[0mresult\u001b[0m \u001b[0;32mis\u001b[0m \u001b[0;32mnot\u001b[0m \u001b[0;32mNone\u001b[0m \u001b[0;32melse\u001b[0m \u001b[0mresult\u001b[0m\u001b[0;34m\u001b[0m\u001b[0;34m\u001b[0m\u001b[0m\n\u001b[1;32m   7390\u001b[0m             \u001b[0;32mreturn\u001b[0m \u001b[0mresult\u001b[0m\u001b[0;34m,\u001b[0m \u001b[0mhow\u001b[0m\u001b[0;34m\u001b[0m\u001b[0;34m\u001b[0m\u001b[0m\n\u001b[0;32m-> 7391\u001b[0;31m         \u001b[0;32mreturn\u001b[0m \u001b[0msuper\u001b[0m\u001b[0;34m(\u001b[0m\u001b[0;34m)\u001b[0m\u001b[0;34m.\u001b[0m\u001b[0m_aggregate\u001b[0m\u001b[0;34m(\u001b[0m\u001b[0marg\u001b[0m\u001b[0;34m,\u001b[0m \u001b[0;34m*\u001b[0m\u001b[0margs\u001b[0m\u001b[0;34m,\u001b[0m \u001b[0;34m**\u001b[0m\u001b[0mkwargs\u001b[0m\u001b[0;34m)\u001b[0m\u001b[0;34m\u001b[0m\u001b[0;34m\u001b[0m\u001b[0m\n\u001b[0m\u001b[1;32m   7392\u001b[0m \u001b[0;34m\u001b[0m\u001b[0m\n\u001b[1;32m   7393\u001b[0m     \u001b[0magg\u001b[0m \u001b[0;34m=\u001b[0m \u001b[0maggregate\u001b[0m\u001b[0;34m\u001b[0m\u001b[0;34m\u001b[0m\u001b[0m\n",
            "\u001b[0;32m/usr/local/lib/python3.7/dist-packages/pandas/core/base.py\u001b[0m in \u001b[0;36m_aggregate\u001b[0;34m(self, arg, *args, **kwargs)\u001b[0m\n\u001b[1;32m    414\u001b[0m \u001b[0;34m\u001b[0m\u001b[0m\n\u001b[1;32m    415\u001b[0m                 \u001b[0;32mtry\u001b[0m\u001b[0;34m:\u001b[0m\u001b[0;34m\u001b[0m\u001b[0;34m\u001b[0m\u001b[0m\n\u001b[0;32m--> 416\u001b[0;31m                     \u001b[0mresult\u001b[0m \u001b[0;34m=\u001b[0m \u001b[0m_agg\u001b[0m\u001b[0;34m(\u001b[0m\u001b[0marg\u001b[0m\u001b[0;34m,\u001b[0m \u001b[0m_agg_1dim\u001b[0m\u001b[0;34m)\u001b[0m\u001b[0;34m\u001b[0m\u001b[0;34m\u001b[0m\u001b[0m\n\u001b[0m\u001b[1;32m    417\u001b[0m                 \u001b[0;32mexcept\u001b[0m \u001b[0mSpecificationError\u001b[0m\u001b[0;34m:\u001b[0m\u001b[0;34m\u001b[0m\u001b[0;34m\u001b[0m\u001b[0m\n\u001b[1;32m    418\u001b[0m \u001b[0;34m\u001b[0m\u001b[0m\n",
            "\u001b[0;32m/usr/local/lib/python3.7/dist-packages/pandas/core/base.py\u001b[0m in \u001b[0;36m_agg\u001b[0;34m(arg, func)\u001b[0m\n\u001b[1;32m    381\u001b[0m                 \u001b[0mresult\u001b[0m \u001b[0;34m=\u001b[0m \u001b[0;34m{\u001b[0m\u001b[0;34m}\u001b[0m\u001b[0;34m\u001b[0m\u001b[0;34m\u001b[0m\u001b[0m\n\u001b[1;32m    382\u001b[0m                 \u001b[0;32mfor\u001b[0m \u001b[0mfname\u001b[0m\u001b[0;34m,\u001b[0m \u001b[0magg_how\u001b[0m \u001b[0;32min\u001b[0m \u001b[0marg\u001b[0m\u001b[0;34m.\u001b[0m\u001b[0mitems\u001b[0m\u001b[0;34m(\u001b[0m\u001b[0;34m)\u001b[0m\u001b[0;34m:\u001b[0m\u001b[0;34m\u001b[0m\u001b[0;34m\u001b[0m\u001b[0m\n\u001b[0;32m--> 383\u001b[0;31m                     \u001b[0mresult\u001b[0m\u001b[0;34m[\u001b[0m\u001b[0mfname\u001b[0m\u001b[0;34m]\u001b[0m \u001b[0;34m=\u001b[0m \u001b[0mfunc\u001b[0m\u001b[0;34m(\u001b[0m\u001b[0mfname\u001b[0m\u001b[0;34m,\u001b[0m \u001b[0magg_how\u001b[0m\u001b[0;34m)\u001b[0m\u001b[0;34m\u001b[0m\u001b[0;34m\u001b[0m\u001b[0m\n\u001b[0m\u001b[1;32m    384\u001b[0m                 \u001b[0;32mreturn\u001b[0m \u001b[0mresult\u001b[0m\u001b[0;34m\u001b[0m\u001b[0;34m\u001b[0m\u001b[0m\n\u001b[1;32m    385\u001b[0m \u001b[0;34m\u001b[0m\u001b[0m\n",
            "\u001b[0;32m/usr/local/lib/python3.7/dist-packages/pandas/core/base.py\u001b[0m in \u001b[0;36m_agg_1dim\u001b[0;34m(name, how, subset)\u001b[0m\n\u001b[1;32m    365\u001b[0m                         \u001b[0;34m\"nested dictionary is ambiguous in aggregation\"\u001b[0m\u001b[0;34m\u001b[0m\u001b[0;34m\u001b[0m\u001b[0m\n\u001b[1;32m    366\u001b[0m                     )\n\u001b[0;32m--> 367\u001b[0;31m                 \u001b[0;32mreturn\u001b[0m \u001b[0mcolg\u001b[0m\u001b[0;34m.\u001b[0m\u001b[0maggregate\u001b[0m\u001b[0;34m(\u001b[0m\u001b[0mhow\u001b[0m\u001b[0;34m)\u001b[0m\u001b[0;34m\u001b[0m\u001b[0;34m\u001b[0m\u001b[0m\n\u001b[0m\u001b[1;32m    368\u001b[0m \u001b[0;34m\u001b[0m\u001b[0m\n\u001b[1;32m    369\u001b[0m             \u001b[0;32mdef\u001b[0m \u001b[0m_agg_2dim\u001b[0m\u001b[0;34m(\u001b[0m\u001b[0mhow\u001b[0m\u001b[0;34m)\u001b[0m\u001b[0;34m:\u001b[0m\u001b[0;34m\u001b[0m\u001b[0;34m\u001b[0m\u001b[0m\n",
            "\u001b[0;32m/usr/local/lib/python3.7/dist-packages/pandas/core/series.py\u001b[0m in \u001b[0;36maggregate\u001b[0;34m(self, func, axis, *args, **kwargs)\u001b[0m\n\u001b[1;32m   4047\u001b[0m             \u001b[0mfunc\u001b[0m \u001b[0;34m=\u001b[0m \u001b[0mdict\u001b[0m\u001b[0;34m(\u001b[0m\u001b[0mkwargs\u001b[0m\u001b[0;34m.\u001b[0m\u001b[0mitems\u001b[0m\u001b[0;34m(\u001b[0m\u001b[0;34m)\u001b[0m\u001b[0;34m)\u001b[0m\u001b[0;34m\u001b[0m\u001b[0;34m\u001b[0m\u001b[0m\n\u001b[1;32m   4048\u001b[0m \u001b[0;34m\u001b[0m\u001b[0m\n\u001b[0;32m-> 4049\u001b[0;31m         \u001b[0mresult\u001b[0m\u001b[0;34m,\u001b[0m \u001b[0mhow\u001b[0m \u001b[0;34m=\u001b[0m \u001b[0mself\u001b[0m\u001b[0;34m.\u001b[0m\u001b[0m_aggregate\u001b[0m\u001b[0;34m(\u001b[0m\u001b[0mfunc\u001b[0m\u001b[0;34m,\u001b[0m \u001b[0;34m*\u001b[0m\u001b[0margs\u001b[0m\u001b[0;34m,\u001b[0m \u001b[0;34m**\u001b[0m\u001b[0mkwargs\u001b[0m\u001b[0;34m)\u001b[0m\u001b[0;34m\u001b[0m\u001b[0;34m\u001b[0m\u001b[0m\n\u001b[0m\u001b[1;32m   4050\u001b[0m         \u001b[0;32mif\u001b[0m \u001b[0mresult\u001b[0m \u001b[0;32mis\u001b[0m \u001b[0;32mNone\u001b[0m\u001b[0;34m:\u001b[0m\u001b[0;34m\u001b[0m\u001b[0;34m\u001b[0m\u001b[0m\n\u001b[1;32m   4051\u001b[0m \u001b[0;34m\u001b[0m\u001b[0m\n",
            "\u001b[0;32m/usr/local/lib/python3.7/dist-packages/pandas/core/base.py\u001b[0m in \u001b[0;36m_aggregate\u001b[0;34m(self, arg, *args, **kwargs)\u001b[0m\n\u001b[1;32m    478\u001b[0m         \u001b[0;32melif\u001b[0m \u001b[0mis_list_like\u001b[0m\u001b[0;34m(\u001b[0m\u001b[0marg\u001b[0m\u001b[0;34m)\u001b[0m\u001b[0;34m:\u001b[0m\u001b[0;34m\u001b[0m\u001b[0;34m\u001b[0m\u001b[0m\n\u001b[1;32m    479\u001b[0m             \u001b[0;31m# we require a list, but not an 'str'\u001b[0m\u001b[0;34m\u001b[0m\u001b[0;34m\u001b[0m\u001b[0;34m\u001b[0m\u001b[0m\n\u001b[0;32m--> 480\u001b[0;31m             \u001b[0;32mreturn\u001b[0m \u001b[0mself\u001b[0m\u001b[0;34m.\u001b[0m\u001b[0m_aggregate_multiple_funcs\u001b[0m\u001b[0;34m(\u001b[0m\u001b[0marg\u001b[0m\u001b[0;34m,\u001b[0m \u001b[0m_axis\u001b[0m\u001b[0;34m=\u001b[0m\u001b[0m_axis\u001b[0m\u001b[0;34m)\u001b[0m\u001b[0;34m,\u001b[0m \u001b[0;32mNone\u001b[0m\u001b[0;34m\u001b[0m\u001b[0;34m\u001b[0m\u001b[0m\n\u001b[0m\u001b[1;32m    481\u001b[0m         \u001b[0;32melse\u001b[0m\u001b[0;34m:\u001b[0m\u001b[0;34m\u001b[0m\u001b[0;34m\u001b[0m\u001b[0m\n\u001b[1;32m    482\u001b[0m             \u001b[0mresult\u001b[0m \u001b[0;34m=\u001b[0m \u001b[0;32mNone\u001b[0m\u001b[0;34m\u001b[0m\u001b[0;34m\u001b[0m\u001b[0m\n",
            "\u001b[0;32m/usr/local/lib/python3.7/dist-packages/pandas/core/base.py\u001b[0m in \u001b[0;36m_aggregate_multiple_funcs\u001b[0;34m(self, arg, _axis)\u001b[0m\n\u001b[1;32m    543\u001b[0m         \u001b[0;31m# if we are empty\u001b[0m\u001b[0;34m\u001b[0m\u001b[0;34m\u001b[0m\u001b[0;34m\u001b[0m\u001b[0m\n\u001b[1;32m    544\u001b[0m         \u001b[0;32mif\u001b[0m \u001b[0;32mnot\u001b[0m \u001b[0mlen\u001b[0m\u001b[0;34m(\u001b[0m\u001b[0mresults\u001b[0m\u001b[0;34m)\u001b[0m\u001b[0;34m:\u001b[0m\u001b[0;34m\u001b[0m\u001b[0;34m\u001b[0m\u001b[0m\n\u001b[0;32m--> 545\u001b[0;31m             \u001b[0;32mraise\u001b[0m \u001b[0mValueError\u001b[0m\u001b[0;34m(\u001b[0m\u001b[0;34m\"no results\"\u001b[0m\u001b[0;34m)\u001b[0m\u001b[0;34m\u001b[0m\u001b[0;34m\u001b[0m\u001b[0m\n\u001b[0m\u001b[1;32m    546\u001b[0m \u001b[0;34m\u001b[0m\u001b[0m\n\u001b[1;32m    547\u001b[0m         \u001b[0;32mtry\u001b[0m\u001b[0;34m:\u001b[0m\u001b[0;34m\u001b[0m\u001b[0;34m\u001b[0m\u001b[0m\n",
            "\u001b[0;31mValueError\u001b[0m: no results"
          ]
        }
      ]
    },
    {
      "cell_type": "code",
      "metadata": {
        "id": "ITEBkYY2MDID"
      },
      "source": [
        ""
      ],
      "execution_count": null,
      "outputs": []
    }
  ]
}