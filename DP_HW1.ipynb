{
  "nbformat": 4,
  "nbformat_minor": 0,
  "metadata": {
    "colab": {
      "name": "DP_HW1.ipynb",
      "provenance": [],
      "collapsed_sections": [
        "WtSvVpVSWWMj",
        "iamB9eTBasN1",
        "I4JbKSi0T_zp"
      ],
      "toc_visible": true,
      "include_colab_link": true
    },
    "kernelspec": {
      "name": "python3",
      "display_name": "Python 3"
    }
  },
  "cells": [
    {
      "cell_type": "markdown",
      "metadata": {
        "id": "view-in-github",
        "colab_type": "text"
      },
      "source": [
        "<a href=\"https://colab.research.google.com/github/Younes-Karimi/IST597-DataPrivacy/blob/main/DP_HW1.ipynb\" target=\"_parent\"><img src=\"https://colab.research.google.com/assets/colab-badge.svg\" alt=\"Open In Colab\"/></a>"
      ]
    },
    {
      "cell_type": "markdown",
      "metadata": {
        "id": "5GhW8mF8xtnq"
      },
      "source": [
        "<center><b>IST 597: Foundations of Data Privacy<br>\n",
        "Spring 2021<br>\n",
        "Homework #1<br>\n",
        "Younes Karimi<br></center><br>\n",
        "<left>Note: I have discussed with <b>Maya Merhi</b>, but we have done and submitted our works separately.\n",
        "\n",
        "---\n",
        "\n"
      ]
    },
    {
      "cell_type": "markdown",
      "metadata": {
        "id": "WtSvVpVSWWMj"
      },
      "source": [
        "# Data Import"
      ]
    },
    {
      "cell_type": "code",
      "metadata": {
        "id": "RZRZmb_Pi1CA"
      },
      "source": [
        "import pandas as pd\n",
        "import numpy as np\n",
        "from google.colab import drive\n",
        "import matplotlib.pyplot as plt\n",
        "drive.mount('/content/drive')\n",
        "dir = '/content/drive/My Drive/data_privacy/Adult/' # The original dataset directory\n",
        "dir_numeric = '/content/drive/My Drive/data_privacy/Adult_numeric/' # The numerical version directory\n",
        "pd.options.mode.chained_assignment = None  # default='warn'\n",
        "\n",
        "# To run this code locally, you can comment out the directories above and provide absolute paths to your local directories as below:\n",
        "# dir = 'PATH TO YOUR \"Adult\" folder' # The original dataset directory\n",
        "# dir_numeric = 'PATH TO YOUR \"Adult_numeric\" folder' # The numerical version directory"
      ],
      "execution_count": null,
      "outputs": []
    },
    {
      "cell_type": "code",
      "metadata": {
        "id": "rGQEJXySi2qj"
      },
      "source": [
        "# I read both the original and the converted numerical versions of the provided dataset. I show the basic information about the original data and continue my analyses with the numerical version for simplicity.\n",
        "df = pd.read_table(dir+'dataset_full.txt', delim_whitespace=True, names=('age', 'education-num', 'work-class','marital-status', 'occupation', 'race', 'sex', 'native-country'))\n",
        "dfn = pd.read_table(dir_numeric+'adults_numeric.del', delimiter=', ', engine='python', names=('age', 'work-class', 'education-num', 'marital-status', 'occupation', 'race', 'sex', 'native-country'))"
      ],
      "execution_count": 51,
      "outputs": []
    },
    {
      "cell_type": "markdown",
      "metadata": {
        "id": "NV8iAlzWFRXp"
      },
      "source": [
        "# Original Dataset Analysis\n",
        "List the column names in the dataset. For each column, identify the type of information (string, integer, etc.) and present the basic descriptives (range of values, mean, frequencies, outliers or unique values, etc). Explain the utility of the data that you want to preserve after your anonymization process. For example, discuss what types of queries you want your anonymized data to support. Your anonymization approach should support your answer.<br><br>\n",
        "**???????????????????%%%%%%%%%%%%%%%%%%%% WE NEED TO EXPLAIN ABOUT UTILITY**"
      ]
    },
    {
      "cell_type": "markdown",
      "metadata": {
        "id": "WE6mtyrMVPhK"
      },
      "source": [
        "**???????????????????%%%%%%%%%%%%%%%%%%%% WE NEED TO EXPLAIN ABOUT UTILITY**"
      ]
    },
    {
      "cell_type": "code",
      "metadata": {
        "colab": {
          "base_uri": "https://localhost:8080/",
          "height": 204
        },
        "id": "cijgP9xEV0fa",
        "outputId": "fb023278-ff74-4740-fcd3-3b6bf8aacf4d"
      },
      "source": [
        "df.head()"
      ],
      "execution_count": 5,
      "outputs": [
        {
          "output_type": "execute_result",
          "data": {
            "text/html": [
              "<div>\n",
              "<style scoped>\n",
              "    .dataframe tbody tr th:only-of-type {\n",
              "        vertical-align: middle;\n",
              "    }\n",
              "\n",
              "    .dataframe tbody tr th {\n",
              "        vertical-align: top;\n",
              "    }\n",
              "\n",
              "    .dataframe thead th {\n",
              "        text-align: right;\n",
              "    }\n",
              "</style>\n",
              "<table border=\"1\" class=\"dataframe\">\n",
              "  <thead>\n",
              "    <tr style=\"text-align: right;\">\n",
              "      <th></th>\n",
              "      <th>age</th>\n",
              "      <th>education-num</th>\n",
              "      <th>work-class</th>\n",
              "      <th>marital-status</th>\n",
              "      <th>occupation</th>\n",
              "      <th>race</th>\n",
              "      <th>sex</th>\n",
              "      <th>native-country</th>\n",
              "    </tr>\n",
              "  </thead>\n",
              "  <tbody>\n",
              "    <tr>\n",
              "      <th>e1</th>\n",
              "      <td>47</td>\n",
              "      <td>3</td>\n",
              "      <td>Self-emp-inc</td>\n",
              "      <td>Married-civ-spouse</td>\n",
              "      <td>Transport-moving</td>\n",
              "      <td>White</td>\n",
              "      <td>Male</td>\n",
              "      <td>Cuba</td>\n",
              "    </tr>\n",
              "    <tr>\n",
              "      <th>e2</th>\n",
              "      <td>52</td>\n",
              "      <td>16</td>\n",
              "      <td>Self-emp-not-inc</td>\n",
              "      <td>Married-civ-spouse</td>\n",
              "      <td>Prof-specialty</td>\n",
              "      <td>White</td>\n",
              "      <td>Male</td>\n",
              "      <td>United-States</td>\n",
              "    </tr>\n",
              "    <tr>\n",
              "      <th>e3</th>\n",
              "      <td>26</td>\n",
              "      <td>9</td>\n",
              "      <td>Private</td>\n",
              "      <td>Divorced</td>\n",
              "      <td>Craft-repair</td>\n",
              "      <td>White</td>\n",
              "      <td>Male</td>\n",
              "      <td>United-States</td>\n",
              "    </tr>\n",
              "    <tr>\n",
              "      <th>e4</th>\n",
              "      <td>60</td>\n",
              "      <td>9</td>\n",
              "      <td>Private</td>\n",
              "      <td>Married-civ-spouse</td>\n",
              "      <td>Craft-repair</td>\n",
              "      <td>White</td>\n",
              "      <td>Male</td>\n",
              "      <td>United-States</td>\n",
              "    </tr>\n",
              "    <tr>\n",
              "      <th>e5</th>\n",
              "      <td>21</td>\n",
              "      <td>10</td>\n",
              "      <td>Private</td>\n",
              "      <td>Never-married</td>\n",
              "      <td>Handlers-cleaners</td>\n",
              "      <td>White</td>\n",
              "      <td>Male</td>\n",
              "      <td>United-States</td>\n",
              "    </tr>\n",
              "  </tbody>\n",
              "</table>\n",
              "</div>"
            ],
            "text/plain": [
              "    age  education-num        work-class  ...   race   sex native-country\n",
              "e1   47              3      Self-emp-inc  ...  White  Male           Cuba\n",
              "e2   52             16  Self-emp-not-inc  ...  White  Male  United-States\n",
              "e3   26              9           Private  ...  White  Male  United-States\n",
              "e4   60              9           Private  ...  White  Male  United-States\n",
              "e5   21             10           Private  ...  White  Male  United-States\n",
              "\n",
              "[5 rows x 8 columns]"
            ]
          },
          "metadata": {
            "tags": []
          },
          "execution_count": 5
        }
      ]
    },
    {
      "cell_type": "markdown",
      "metadata": {
        "id": "-NrB7M2MWcJq"
      },
      "source": [
        "The table above shows the first entries in the dataset along with the header and column names."
      ]
    },
    {
      "cell_type": "code",
      "metadata": {
        "colab": {
          "base_uri": "https://localhost:8080/"
        },
        "id": "Eo_D6ZRtjhvZ",
        "outputId": "37cf4a8a-28a3-4f6b-95d7-8692db288a35"
      },
      "source": [
        "df.info()"
      ],
      "execution_count": 8,
      "outputs": [
        {
          "output_type": "stream",
          "text": [
            "<class 'pandas.core.frame.DataFrame'>\n",
            "Index: 30162 entries, e1 to e30162\n",
            "Data columns (total 8 columns):\n",
            " #   Column          Non-Null Count  Dtype \n",
            "---  ------          --------------  ----- \n",
            " 0   age             30162 non-null  int64 \n",
            " 1   education-num   30162 non-null  int64 \n",
            " 2   work-class      30162 non-null  object\n",
            " 3   marital-status  30162 non-null  object\n",
            " 4   occupation      30162 non-null  object\n",
            " 5   race            30162 non-null  object\n",
            " 6   sex             30162 non-null  object\n",
            " 7   native-country  30162 non-null  object\n",
            "dtypes: int64(2), object(6)\n",
            "memory usage: 2.1+ MB\n"
          ],
          "name": "stdout"
        }
      ]
    },
    {
      "cell_type": "markdown",
      "metadata": {
        "id": "sbV6FHVbFsZf"
      },
      "source": [
        "This dataset consists of 8 columns and 30162 entries as shown above. The first two columns, *age* and *education_num*, are numerical data and have integer values while the rest of the columns are categorical data and have object types with string values."
      ]
    },
    {
      "cell_type": "code",
      "metadata": {
        "colab": {
          "base_uri": "https://localhost:8080/"
        },
        "id": "kgIOmdOwHtXM",
        "outputId": "6b131cc8-e79b-4856-f7a0-303757bc8acc"
      },
      "source": [
        "print('Min age: {}\\nMax age: {}'.format(df['age'].values.min(), df['age'].values.max()))\n",
        "print('Mean age: %.2f' % (df['age'].values.sum() / df['age'].values.size))\n",
        "print('\\nSorted unique values: \\n', np.sort(df['age'].unique()))\n",
        "print('\\nAge frequencies:\\n', df['age'].value_counts(sort=True))"
      ],
      "execution_count": 7,
      "outputs": [
        {
          "output_type": "stream",
          "text": [
            "Min age: 17\n",
            "Max age: 90\n",
            "Mean age: 38.44\n",
            "\n",
            "Sorted unique values: \n",
            " [17 18 19 20 21 22 23 24 25 26 27 28 29 30 31 32 33 34 35 36 37 38 39 40\n",
            " 41 42 43 44 45 46 47 48 49 50 51 52 53 54 55 56 57 58 59 60 61 62 63 64\n",
            " 65 66 67 68 69 70 71 72 73 74 75 76 77 78 79 80 81 82 83 84 85 86 88 90]\n",
            "\n",
            "Age frequencies:\n",
            " 36    852\n",
            "31    851\n",
            "33    837\n",
            "34    836\n",
            "35    828\n",
            "     ... \n",
            "82      7\n",
            "83      5\n",
            "88      3\n",
            "85      3\n",
            "86      1\n",
            "Name: age, Length: 72, dtype: int64\n"
          ],
          "name": "stdout"
        }
      ]
    },
    {
      "cell_type": "code",
      "metadata": {
        "colab": {
          "base_uri": "https://localhost:8080/"
        },
        "id": "49VcDLo8KZ8l",
        "outputId": "be43a656-2b36-415d-bc5d-bf35c966921c"
      },
      "source": [
        "print('Min education number: {} year(s)\\nMax education number: {} year(s)'.format(df['education-num'].values.min(), df['education-num'].values.max()))\n",
        "print('Mean education number: %.2f year(s)' % (df['education-num'].values.sum() / df['education-num'].values.size))\n",
        "print('\\nEducation number frequencies:\\n', df['education-num'].value_counts(sort=True))"
      ],
      "execution_count": 27,
      "outputs": [
        {
          "output_type": "stream",
          "text": [
            "Min education number: 1 year(s)\n",
            "Max education number: 16 year(s)\n",
            "Mean education number: 10.12 year(s)\n",
            "\n",
            "Education number frequencies:\n",
            " 9     9840\n",
            "10    6678\n",
            "13    5044\n",
            "14    1627\n",
            "11    1307\n",
            "7     1048\n",
            "12    1008\n",
            "6      820\n",
            "4      557\n",
            "15     542\n",
            "5      455\n",
            "8      377\n",
            "16     375\n",
            "3      288\n",
            "2      151\n",
            "1       45\n",
            "Name: education-num, dtype: int64\n"
          ],
          "name": "stdout"
        }
      ]
    },
    {
      "cell_type": "code",
      "metadata": {
        "colab": {
          "base_uri": "https://localhost:8080/"
        },
        "id": "2BgxM0ScL1ic",
        "outputId": "8bf84a8a-a4ba-4ac1-e51c-7ef207a1ec5d"
      },
      "source": [
        "print('Work class frequencies:\\n\\n', df['work-class'].value_counts(sort=True))"
      ],
      "execution_count": 28,
      "outputs": [
        {
          "output_type": "stream",
          "text": [
            "Work class frequencies:\n",
            "\n",
            " Private             22286\n",
            "Self-emp-not-inc     2499\n",
            "Local-gov            2067\n",
            "State-gov            1279\n",
            "Self-emp-inc         1074\n",
            "Federal-gov           943\n",
            "Without-pay            14\n",
            "Name: work-class, dtype: int64\n"
          ],
          "name": "stdout"
        }
      ]
    },
    {
      "cell_type": "code",
      "metadata": {
        "colab": {
          "base_uri": "https://localhost:8080/"
        },
        "id": "u1rZ63uLTd3R",
        "outputId": "185e9e82-d8c3-4cc0-fa91-ffc5c9ffa82a"
      },
      "source": [
        "print('Marital status frequencies:\\n\\n', df['marital-status'].value_counts(sort=True))"
      ],
      "execution_count": 29,
      "outputs": [
        {
          "output_type": "stream",
          "text": [
            "Marital status frequencies:\n",
            "\n",
            " Married-civ-spouse       14065\n",
            "Never-married             9726\n",
            "Divorced                  4214\n",
            "Separated                  939\n",
            "Widowed                    827\n",
            "Married-spouse-absent      370\n",
            "Married-AF-spouse           21\n",
            "Name: marital-status, dtype: int64\n"
          ],
          "name": "stdout"
        }
      ]
    },
    {
      "cell_type": "code",
      "metadata": {
        "colab": {
          "base_uri": "https://localhost:8080/"
        },
        "id": "IJ3IRGFWTdtc",
        "outputId": "84f19b35-4344-4680-cc7b-e1ca117dae59"
      },
      "source": [
        "print('Occupation frequencies:\\n\\n', df['occupation'].value_counts(sort=True))"
      ],
      "execution_count": 30,
      "outputs": [
        {
          "output_type": "stream",
          "text": [
            "Occupation frequencies:\n",
            "\n",
            " Prof-specialty       4038\n",
            "Craft-repair         4030\n",
            "Exec-managerial      3992\n",
            "Adm-clerical         3721\n",
            "Sales                3584\n",
            "Other-service        3212\n",
            "Machine-op-inspct    1966\n",
            "Transport-moving     1572\n",
            "Handlers-cleaners    1350\n",
            "Farming-fishing       989\n",
            "Tech-support          912\n",
            "Protective-serv       644\n",
            "Priv-house-serv       143\n",
            "Armed-Forces            9\n",
            "Name: occupation, dtype: int64\n"
          ],
          "name": "stdout"
        }
      ]
    },
    {
      "cell_type": "code",
      "metadata": {
        "colab": {
          "base_uri": "https://localhost:8080/"
        },
        "id": "LGAy9L2rTdi1",
        "outputId": "57c8ab26-a77d-454f-f336-0c9764dcd21b"
      },
      "source": [
        "print('Race frequencies:\\n\\n', df['race'].value_counts(sort=True))"
      ],
      "execution_count": 31,
      "outputs": [
        {
          "output_type": "stream",
          "text": [
            "Race frequencies:\n",
            "\n",
            " White                 25933\n",
            "Black                  2817\n",
            "Asian-Pac-Islander      895\n",
            "Amer-Indian-Eskimo      286\n",
            "Other                   231\n",
            "Name: race, dtype: int64\n"
          ],
          "name": "stdout"
        }
      ]
    },
    {
      "cell_type": "code",
      "metadata": {
        "colab": {
          "base_uri": "https://localhost:8080/"
        },
        "id": "fXbVmfnjTdUF",
        "outputId": "a8f93a02-e7d0-43c6-bea5-ab970f0b2846"
      },
      "source": [
        "print('Sex frequencies:\\n\\n', df['sex'].value_counts(sort=True))"
      ],
      "execution_count": 32,
      "outputs": [
        {
          "output_type": "stream",
          "text": [
            "Sex frequencies:\n",
            "\n",
            " Male      20380\n",
            "Female     9782\n",
            "Name: sex, dtype: int64\n"
          ],
          "name": "stdout"
        }
      ]
    },
    {
      "cell_type": "code",
      "metadata": {
        "colab": {
          "base_uri": "https://localhost:8080/"
        },
        "id": "3PxXLSw-TYB8",
        "outputId": "109a86e8-7324-4f9f-a79f-73826a83d317"
      },
      "source": [
        "print('Native country frequencies:\\n\\n', df['native-country'].value_counts(sort=True))"
      ],
      "execution_count": 33,
      "outputs": [
        {
          "output_type": "stream",
          "text": [
            "Native country frequencies:\n",
            "\n",
            " United-States                 27504\n",
            "Mexico                          610\n",
            "Philippines                     188\n",
            "Germany                         128\n",
            "Puerto-Rico                     109\n",
            "Canada                          107\n",
            "El-Salvador                     100\n",
            "India                           100\n",
            "Cuba                             92\n",
            "England                          86\n",
            "Jamaica                          80\n",
            "South-Africa                     71\n",
            "China                            68\n",
            "Italy                            68\n",
            "Dominican-Republic               67\n",
            "Vietnam                          64\n",
            "Guatemala                        63\n",
            "Japan                            59\n",
            "Poland                           56\n",
            "Columbia                         56\n",
            "Taiwan                           42\n",
            "Iran                             42\n",
            "Haiti                            42\n",
            "Portugal                         34\n",
            "Nicaragua                        33\n",
            "Peru                             30\n",
            "Greece                           29\n",
            "France                           27\n",
            "Ecuador                          27\n",
            "Ireland                          24\n",
            "Hong-Kong                        19\n",
            "Cambodia                         18\n",
            "Trinadad                         18\n",
            "Laos                             17\n",
            "Thailand                         17\n",
            "Yugoslavia                       16\n",
            "Outlying-US(Guam-USVI-etc)       14\n",
            "Hungary                          13\n",
            "Honduras                         12\n",
            "Scotland                         11\n",
            "Holand-Netherlands                1\n",
            "Name: native-country, dtype: int64\n"
          ],
          "name": "stdout"
        }
      ]
    },
    {
      "cell_type": "markdown",
      "metadata": {
        "id": "-jzSOV6o0pmM"
      },
      "source": [
        "In this section we presented the basic information about the original datatset provided which is a combination of numerical and categorical variables. But, because the numeric version of the dataset is available, for simplicity, we can perform our analysis with the numerical values and convert those numbers back to categorical values if needed at the end. In the next section, I perform a similar analysis with the numerical values."
      ]
    },
    {
      "cell_type": "markdown",
      "metadata": {
        "id": "iamB9eTBasN1"
      },
      "source": [
        "# Numerical Dataset Analysis"
      ]
    },
    {
      "cell_type": "code",
      "metadata": {
        "colab": {
          "base_uri": "https://localhost:8080/",
          "height": 204
        },
        "id": "f--Rk4BEav0Y",
        "outputId": "6289454b-51ac-4e22-9d4d-8be31f8b75d5"
      },
      "source": [
        "dfn.head()"
      ],
      "execution_count": 7,
      "outputs": [
        {
          "output_type": "execute_result",
          "data": {
            "text/html": [
              "<div>\n",
              "<style scoped>\n",
              "    .dataframe tbody tr th:only-of-type {\n",
              "        vertical-align: middle;\n",
              "    }\n",
              "\n",
              "    .dataframe tbody tr th {\n",
              "        vertical-align: top;\n",
              "    }\n",
              "\n",
              "    .dataframe thead th {\n",
              "        text-align: right;\n",
              "    }\n",
              "</style>\n",
              "<table border=\"1\" class=\"dataframe\">\n",
              "  <thead>\n",
              "    <tr style=\"text-align: right;\">\n",
              "      <th></th>\n",
              "      <th>age</th>\n",
              "      <th>work-class</th>\n",
              "      <th>education-num</th>\n",
              "      <th>marital-status</th>\n",
              "      <th>occupation</th>\n",
              "      <th>race</th>\n",
              "      <th>sex</th>\n",
              "      <th>native-country</th>\n",
              "    </tr>\n",
              "  </thead>\n",
              "  <tbody>\n",
              "    <tr>\n",
              "      <th>0</th>\n",
              "      <td>39</td>\n",
              "      <td>4</td>\n",
              "      <td>13</td>\n",
              "      <td>6</td>\n",
              "      <td>10</td>\n",
              "      <td>0</td>\n",
              "      <td>0</td>\n",
              "      <td>0,</td>\n",
              "    </tr>\n",
              "    <tr>\n",
              "      <th>1</th>\n",
              "      <td>50</td>\n",
              "      <td>1</td>\n",
              "      <td>13</td>\n",
              "      <td>0</td>\n",
              "      <td>0</td>\n",
              "      <td>0</td>\n",
              "      <td>0</td>\n",
              "      <td>0,</td>\n",
              "    </tr>\n",
              "    <tr>\n",
              "      <th>2</th>\n",
              "      <td>38</td>\n",
              "      <td>5</td>\n",
              "      <td>9</td>\n",
              "      <td>3</td>\n",
              "      <td>6</td>\n",
              "      <td>0</td>\n",
              "      <td>0</td>\n",
              "      <td>0,</td>\n",
              "    </tr>\n",
              "    <tr>\n",
              "      <th>3</th>\n",
              "      <td>53</td>\n",
              "      <td>5</td>\n",
              "      <td>7</td>\n",
              "      <td>0</td>\n",
              "      <td>6</td>\n",
              "      <td>1</td>\n",
              "      <td>0</td>\n",
              "      <td>0,</td>\n",
              "    </tr>\n",
              "    <tr>\n",
              "      <th>4</th>\n",
              "      <td>28</td>\n",
              "      <td>5</td>\n",
              "      <td>13</td>\n",
              "      <td>0</td>\n",
              "      <td>1</td>\n",
              "      <td>1</td>\n",
              "      <td>1</td>\n",
              "      <td>2,</td>\n",
              "    </tr>\n",
              "  </tbody>\n",
              "</table>\n",
              "</div>"
            ],
            "text/plain": [
              "   age  work-class  education-num  ...  race  sex  native-country\n",
              "0   39           4             13  ...     0    0              0,\n",
              "1   50           1             13  ...     0    0              0,\n",
              "2   38           5              9  ...     0    0              0,\n",
              "3   53           5              7  ...     1    0              0,\n",
              "4   28           5             13  ...     1    1              2,\n",
              "\n",
              "[5 rows x 8 columns]"
            ]
          },
          "metadata": {
            "tags": []
          },
          "execution_count": 7
        }
      ]
    },
    {
      "cell_type": "markdown",
      "metadata": {
        "id": "TTORgjXea6Jp"
      },
      "source": [
        "As you can see in the table above, the read function and delimiter that we used for reading the dataset has not removed the tailing comma after the *native-contry* column. Therefore, the type of. last column is object instead of int64."
      ]
    },
    {
      "cell_type": "code",
      "metadata": {
        "colab": {
          "base_uri": "https://localhost:8080/"
        },
        "id": "h3rUyGeJirbn",
        "outputId": "2a928c86-f621-4eee-f6a8-9bb4f3394686"
      },
      "source": [
        "dfn.info()"
      ],
      "execution_count": 8,
      "outputs": [
        {
          "output_type": "stream",
          "text": [
            "<class 'pandas.core.frame.DataFrame'>\n",
            "RangeIndex: 30162 entries, 0 to 30161\n",
            "Data columns (total 8 columns):\n",
            " #   Column          Non-Null Count  Dtype \n",
            "---  ------          --------------  ----- \n",
            " 0   age             30162 non-null  int64 \n",
            " 1   work-class      30162 non-null  int64 \n",
            " 2   education-num   30162 non-null  int64 \n",
            " 3   marital-status  30162 non-null  int64 \n",
            " 4   occupation      30162 non-null  int64 \n",
            " 5   race            30162 non-null  int64 \n",
            " 6   sex             30162 non-null  int64 \n",
            " 7   native-country  30162 non-null  object\n",
            "dtypes: int64(7), object(1)\n",
            "memory usage: 1.8+ MB\n"
          ],
          "name": "stdout"
        }
      ]
    },
    {
      "cell_type": "code",
      "metadata": {
        "colab": {
          "base_uri": "https://localhost:8080/"
        },
        "id": "UNERJ-2SisqR",
        "outputId": "007410ff-2258-4cc0-86ef-d4d0480aa0b3"
      },
      "source": [
        "dfn['native-country']"
      ],
      "execution_count": 52,
      "outputs": [
        {
          "output_type": "execute_result",
          "data": {
            "text/plain": [
              "0        0,\n",
              "1        0,\n",
              "2        0,\n",
              "3        0,\n",
              "4        2,\n",
              "         ..\n",
              "30157    0,\n",
              "30158    0,\n",
              "30159    0,\n",
              "30160    0,\n",
              "30161    0,\n",
              "Name: native-country, Length: 30162, dtype: object"
            ]
          },
          "metadata": {
            "tags": []
          },
          "execution_count": 52
        }
      ]
    },
    {
      "cell_type": "markdown",
      "metadata": {
        "id": "G3sT7fuQAfB3"
      },
      "source": [
        "We replace the last column with a new column by removing the redundant comma and converting the type of column to int64. "
      ]
    },
    {
      "cell_type": "code",
      "metadata": {
        "colab": {
          "base_uri": "https://localhost:8080/"
        },
        "id": "_fKT83M9-9JD",
        "outputId": "1ad84570-71de-4cfa-e43a-35d5764cdb3e"
      },
      "source": [
        "dfn['native-country'] = dfn['native-country'].replace({',':''}, regex=True).astype(int)\n",
        "dfn.info()"
      ],
      "execution_count": 53,
      "outputs": [
        {
          "output_type": "stream",
          "text": [
            "<class 'pandas.core.frame.DataFrame'>\n",
            "RangeIndex: 30162 entries, 0 to 30161\n",
            "Data columns (total 8 columns):\n",
            " #   Column          Non-Null Count  Dtype\n",
            "---  ------          --------------  -----\n",
            " 0   age             30162 non-null  int64\n",
            " 1   work-class      30162 non-null  int64\n",
            " 2   education-num   30162 non-null  int64\n",
            " 3   marital-status  30162 non-null  int64\n",
            " 4   occupation      30162 non-null  int64\n",
            " 5   race            30162 non-null  int64\n",
            " 6   sex             30162 non-null  int64\n",
            " 7   native-country  30162 non-null  int64\n",
            "dtypes: int64(8)\n",
            "memory usage: 1.8 MB\n"
          ],
          "name": "stdout"
        }
      ]
    },
    {
      "cell_type": "code",
      "metadata": {
        "colab": {
          "base_uri": "https://localhost:8080/"
        },
        "id": "rXustQPsmVJ9",
        "outputId": "fb9b4563-cccb-4819-9a74-bd115d1c9cce"
      },
      "source": [
        "print('Min age: {}\\nMax age: {}'.format(dfn['age'].values.min(), dfn['age'].values.max()))\n",
        "print('Mean age: %.2f' % (dfn['age'].values.sum() / dfn['age'].values.size))\n",
        "print('\\nSorted unique values: \\n', np.sort(dfn['age'].unique()))\n",
        "print('\\nAge frequencies:\\n', dfn['age'].value_counts(sort=True))"
      ],
      "execution_count": 15,
      "outputs": [
        {
          "output_type": "stream",
          "text": [
            "Min age: 17\n",
            "Max age: 90\n",
            "Mean age: 38.44\n",
            "\n",
            "Sorted unique values: \n",
            " [17 18 19 20 21 22 23 24 25 26 27 28 29 30 31 32 33 34 35 36 37 38 39 40\n",
            " 41 42 43 44 45 46 47 48 49 50 51 52 53 54 55 56 57 58 59 60 61 62 63 64\n",
            " 65 66 67 68 69 70 71 72 73 74 75 76 77 78 79 80 81 82 83 84 85 86 88 90]\n",
            "\n",
            "Age frequencies:\n",
            " 36    852\n",
            "31    851\n",
            "33    837\n",
            "34    836\n",
            "35    828\n",
            "     ... \n",
            "82      7\n",
            "83      5\n",
            "88      3\n",
            "85      3\n",
            "86      1\n",
            "Name: age, Length: 72, dtype: int64\n"
          ],
          "name": "stdout"
        }
      ]
    },
    {
      "cell_type": "code",
      "metadata": {
        "colab": {
          "base_uri": "https://localhost:8080/"
        },
        "id": "ClBJn47emp3j",
        "outputId": "53fd2c2c-8fdd-4694-b039-cebd216e6207"
      },
      "source": [
        "print('Work class frequencies:\\n\\n', dfn['work-class'].value_counts(sort=True))"
      ],
      "execution_count": 17,
      "outputs": [
        {
          "output_type": "stream",
          "text": [
            "Work class frequencies:\n",
            "\n",
            " 5    22286\n",
            "1     2499\n",
            "3     2067\n",
            "4     1279\n",
            "0     1074\n",
            "2      943\n",
            "6       14\n",
            "Name: work-class, dtype: int64\n"
          ],
          "name": "stdout"
        }
      ]
    },
    {
      "cell_type": "code",
      "metadata": {
        "colab": {
          "base_uri": "https://localhost:8080/"
        },
        "id": "ez57S1mqmf1u",
        "outputId": "e5498baf-db0d-4e46-ac86-0c0da46ad5a0"
      },
      "source": [
        "print('Min education number: {} year(s)\\nMax education number: {} year(s)'.format(dfn['education-num'].values.min(), dfn['education-num'].values.max()))\n",
        "print('Mean education number: %.2f year(s)' % (dfn['education-num'].values.sum() / dfn['education-num'].values.size))\n",
        "print('\\nEducation number frequencies:\\n', dfn['education-num'].value_counts(sort=True))"
      ],
      "execution_count": 16,
      "outputs": [
        {
          "output_type": "stream",
          "text": [
            "Min education number: 1 year(s)\n",
            "Max education number: 16 year(s)\n",
            "Mean education number: 10.12 year(s)\n",
            "\n",
            "Education number frequencies:\n",
            " 9     9840\n",
            "10    6678\n",
            "13    5044\n",
            "14    1627\n",
            "11    1307\n",
            "7     1048\n",
            "12    1008\n",
            "6      820\n",
            "4      557\n",
            "15     542\n",
            "5      455\n",
            "8      377\n",
            "16     375\n",
            "3      288\n",
            "2      151\n",
            "1       45\n",
            "Name: education-num, dtype: int64\n"
          ],
          "name": "stdout"
        }
      ]
    },
    {
      "cell_type": "code",
      "metadata": {
        "colab": {
          "base_uri": "https://localhost:8080/"
        },
        "id": "ionzHvjymzq5",
        "outputId": "e6aa3311-1f18-42d0-f6e3-97ec775804f2"
      },
      "source": [
        "print('Marital status frequencies:\\n\\n', dfn['marital-status'].value_counts(sort=True))"
      ],
      "execution_count": 19,
      "outputs": [
        {
          "output_type": "stream",
          "text": [
            "Marital status frequencies:\n",
            "\n",
            " 0    14065\n",
            "6     9726\n",
            "3     4214\n",
            "5      939\n",
            "2      827\n",
            "4      370\n",
            "1       21\n",
            "Name: marital-status, dtype: int64\n"
          ],
          "name": "stdout"
        }
      ]
    },
    {
      "cell_type": "code",
      "metadata": {
        "colab": {
          "base_uri": "https://localhost:8080/"
        },
        "id": "BK4k3bQHm9U-",
        "outputId": "58809fa1-b875-4aa2-d240-889e57fd9ea9"
      },
      "source": [
        "print('Occupation frequencies:\\n\\n', dfn['occupation'].value_counts(sort=True))"
      ],
      "execution_count": 21,
      "outputs": [
        {
          "output_type": "stream",
          "text": [
            "Occupation frequencies:\n",
            "\n",
            " 1     4038\n",
            "9     4030\n",
            "0     3992\n",
            "10    3721\n",
            "3     3584\n",
            "7     3212\n",
            "11    1966\n",
            "5     1572\n",
            "6     1350\n",
            "12     989\n",
            "2      912\n",
            "4      644\n",
            "8      143\n",
            "13       9\n",
            "Name: occupation, dtype: int64\n"
          ],
          "name": "stdout"
        }
      ]
    },
    {
      "cell_type": "code",
      "metadata": {
        "colab": {
          "base_uri": "https://localhost:8080/"
        },
        "id": "nQC4uduEnW_S",
        "outputId": "8a4d757f-b687-470a-fd2b-3b1ec67460d7"
      },
      "source": [
        "print('Race frequencies:\\n\\n', dfn['race'].value_counts(sort=True))"
      ],
      "execution_count": 23,
      "outputs": [
        {
          "output_type": "stream",
          "text": [
            "Race frequencies:\n",
            "\n",
            " 0    25933\n",
            "1     2817\n",
            "2      895\n",
            "3      286\n",
            "4      231\n",
            "Name: race, dtype: int64\n"
          ],
          "name": "stdout"
        }
      ]
    },
    {
      "cell_type": "code",
      "metadata": {
        "colab": {
          "base_uri": "https://localhost:8080/"
        },
        "id": "I9eYloTHncXm",
        "outputId": "3f6f915e-528b-493c-c712-37c9d5edf078"
      },
      "source": [
        "print('Sex frequencies:\\n\\n', dfn['sex'].value_counts(sort=True))"
      ],
      "execution_count": 24,
      "outputs": [
        {
          "output_type": "stream",
          "text": [
            "Sex frequencies:\n",
            "\n",
            " 0    20380\n",
            "1     9782\n",
            "Name: sex, dtype: int64\n"
          ],
          "name": "stdout"
        }
      ]
    },
    {
      "cell_type": "code",
      "metadata": {
        "colab": {
          "base_uri": "https://localhost:8080/"
        },
        "id": "Dk4runYYni0t",
        "outputId": "18fb3a64-4f15-49e9-9c9a-05a9ef633b21"
      },
      "source": [
        "print('Native country frequencies:\\n\\n', dfn['native-country'].value_counts(sort=True))"
      ],
      "execution_count": 25,
      "outputs": [
        {
          "output_type": "stream",
          "text": [
            "Native country frequencies:\n",
            "\n",
            " 0     27504\n",
            "38      610\n",
            "20      188\n",
            "26      128\n",
            "10      109\n",
            "1       107\n",
            "4       100\n",
            "15      100\n",
            "2        92\n",
            "24       86\n",
            "8        80\n",
            "40       71\n",
            "31       68\n",
            "13       68\n",
            "3        67\n",
            "23       64\n",
            "5        63\n",
            "17       59\n",
            "32       56\n",
            "36       56\n",
            "6        42\n",
            "21       42\n",
            "16       42\n",
            "33       34\n",
            "9        33\n",
            "39       30\n",
            "27       29\n",
            "37       27\n",
            "25       27\n",
            "30       24\n",
            "14       19\n",
            "11       18\n",
            "12       18\n",
            "18       17\n",
            "22       17\n",
            "35       16\n",
            "19       14\n",
            "29       13\n",
            "7        12\n",
            "34       11\n",
            "28        1\n",
            "Name: native-country, dtype: int64\n"
          ],
          "name": "stdout"
        }
      ]
    },
    {
      "cell_type": "markdown",
      "metadata": {
        "id": "I4JbKSi0T_zp"
      },
      "source": [
        "# Identification of Sensitive Information\n",
        "Based on the data analysis you did, identify the explicit identifiers, quasi-identifiers, sensitive attributes and non-sensitive attributes in the dataset. List these attributes with your reasons for your classification."
      ]
    },
    {
      "cell_type": "markdown",
      "metadata": {
        "id": "kdRzfa9v_97f"
      },
      "source": [
        "**Identifiers**: There is not any explicit identifiers in this dataset as none of the attributes are unique and not any inndividual attribute can be used to uniquely identify each entry.\n",
        "<br>\n",
        "**Quasi-identifiers**: QIs can be identified by removing each sensitive attribute at a time and combining the rest of attributes in an ascending order (one attribute, combination of 2, 3, ...). For instance, for the person with age 86, because that is the only entry with this age, only the value of age would be enough to identify the rest of attribute for that person. But, for other attributes, as we combine more attributes and consider them collectively as quasi-identifiers, we might be able to uniquely identify more individuals having some combinations that no one else has them.\n",
        "<br>\n",
        "**Sensitive attributes**: While all these attributes may be considered sensitive and confidential depending on different scenarios, *age*, *occupation*, and *native country* might be more sensitive due to the low-frequent values and the outliers each of them have. For instance, there is only one person in the dataset with the age of 86 and that person might be uniquely identifiable if does not get suppressed or somehow anonymized.\n",
        "<br>\n",
        "**Non-sensitive attributes**: The rest of attributes might be less sensitive due to their more variety, but still can be confidential if they can be identified for specific individuals and may put them or their carriers into risk."
      ]
    },
    {
      "cell_type": "markdown",
      "metadata": {
        "id": "lGqR0YyyV1m0"
      },
      "source": [
        "# Development of a K-Anonymization Approach\n",
        "Develop a k-anonymization algorithm for the dataset. You can use any technique or combination of algorithms discussed in the class (k-anonymity, l-diversity, t-closeness, etc.). See below for a list of recommended algorithms. You MUST explain what your developed algorithm does at each step and how it anonymizes your specific dataset with respect to the explicit identifiers, quasi-identifiers, sensitive attributes, and non-sensitive data. Your code should be self-explanatory with understandable variable names, function names and comments. You MUST explicitly mention the chosen values of k in k-anonymity, l in l-diversity and t in t-closeness as per your algorithm of choice. Please consider if any outliers are present in the data. Your goal is to identify a high(er) value of k."
      ]
    },
    {
      "cell_type": "code",
      "metadata": {
        "id": "tY4NKwSPxmpL"
      },
      "source": [
        "def find_value_ranges(df, group, scale=None):\n",
        "  \"\"\"\n",
        "  This function identifies ranges of values in each column and in each specific\n",
        "  group of entries\n",
        "  \"\"\"\n",
        "  value_ranges = {}\n",
        "  for col in df.columns:\n",
        "    # Calculate the range of. values for each column in a specific group of \n",
        "    # entries by substracting max and min and adding one to include the first \n",
        "    # (min) value as well\n",
        "    value_range = df[col][group].max() - df[col][group].min() + 1\n",
        "    if scale is not None:\n",
        "      value_range = value_range / scale[col]\n",
        "    value_ranges[col] = value_range\n",
        "  return value_ranges"
      ],
      "execution_count": 49,
      "outputs": []
    },
    {
      "cell_type": "markdown",
      "metadata": {
        "id": "58vADMd2sgVd"
      },
      "source": [
        "The parameter k for *k-anonymity* can be set here. Here we have used 4-anonymity and *k=4*."
      ]
    },
    {
      "cell_type": "code",
      "metadata": {
        "id": "wHwG9rGnsdz7"
      },
      "source": [
        "K = 4"
      ],
      "execution_count": 50,
      "outputs": []
    },
    {
      "cell_type": "code",
      "metadata": {
        "colab": {
          "base_uri": "https://localhost:8080/"
        },
        "id": "scvdsCHjxriQ",
        "outputId": "f55a4fd8-0a87-48c2-e5ea-f0a40548e0b2"
      },
      "source": [
        "ranges = find_value_ranges(dfn, list(dfn.index))\n",
        "ranges"
      ],
      "execution_count": 54,
      "outputs": [
        {
          "output_type": "execute_result",
          "data": {
            "text/plain": [
              "{'age': 74,\n",
              " 'education-num': 16,\n",
              " 'marital-status': 7,\n",
              " 'native-country': 41,\n",
              " 'occupation': 14,\n",
              " 'race': 5,\n",
              " 'sex': 2,\n",
              " 'work-class': 7}"
            ]
          },
          "metadata": {
            "tags": []
          },
          "execution_count": 54
        }
      ]
    },
    {
      "cell_type": "code",
      "metadata": {
        "id": "UhuXB_99yhfc"
      },
      "source": [
        "def split(df, group, col):\n",
        "  dfg = df[col][group] # Part of df that intersects the group and the column\n",
        "  dfl = dfg.index[dfg < dfg.median()] # Lower values of the column in that the group\n",
        "  dfr = dfg.index[dfg >= dfg.median()] # Higher values of the column in that the group\n",
        "  return (dfl, dfr)"
      ],
      "execution_count": 14,
      "outputs": []
    },
    {
      "cell_type": "code",
      "metadata": {
        "id": "NeifSugDylUm"
      },
      "source": [
        "def group_entries(df, quasi_identifiers, scale):\n",
        "  \"\"\"\n",
        "  This function groups the entries together based on the QIs\n",
        "  \"\"\"\n",
        "  final_groups = []\n",
        "  initial_groups = [df.index]\n",
        "  while initial_groups:\n",
        "    group = initial_groups.pop(0)\n",
        "    value_ranges = find_value_ranges(df[quasi_identifiers], group, scale)\n",
        "    for col, span in sorted(value_ranges.items(), key=lambda x:-x[1]):\n",
        "      lp, rp = split(df, group, col)\n",
        "      if len(lp)<K or len(rp)<K:\n",
        "        continue\n",
        "      initial_groups.extend((lp, rp))\n",
        "      break\n",
        "    else:\n",
        "        final_groups.append(group)\n",
        "  return final_groups"
      ],
      "execution_count": 18,
      "outputs": []
    },
    {
      "cell_type": "code",
      "metadata": {
        "id": "mkNA6DdIyqV3"
      },
      "source": [
        "sensitive_col = 'occupation'\n",
        "quasi_identifiers = ['age', 'education-num', 'race', 'sex', 'work-class', 'marital-status', 'native-country']\n",
        "groups = group_entries(dfn, quasi_identifiers, ranges)"
      ],
      "execution_count": 57,
      "outputs": []
    },
    {
      "cell_type": "code",
      "metadata": {
        "colab": {
          "base_uri": "https://localhost:8080/"
        },
        "id": "jGZIODXRyueE",
        "outputId": "aa7fd76c-ec18-4a38-c9aa-d5262b91d079"
      },
      "source": [
        "len(groups)"
      ],
      "execution_count": 58,
      "outputs": [
        {
          "output_type": "execute_result",
          "data": {
            "text/plain": [
              "1521"
            ]
          },
          "metadata": {
            "tags": []
          },
          "execution_count": 58
        }
      ]
    },
    {
      "cell_type": "code",
      "metadata": {
        "id": "Yc6gUDbkETTa"
      },
      "source": [
        "def agg_column(series):\n",
        "  return [series.mean()]"
      ],
      "execution_count": 42,
      "outputs": []
    },
    {
      "cell_type": "code",
      "metadata": {
        "id": "2c9DZ-wzzWX2"
      },
      "source": [
        "def anonymize_dataset(df, groups, quasi_identifiers, sensitive_col, max_groups=None):\n",
        "  aggregations = {}\n",
        "  for column in quasi_identifiers:\n",
        "    aggregations[column] = agg_column\n",
        "  rows = []\n",
        "  for i, group in enumerate(groups):\n",
        "    if max_groups is not None and i > max_groups:\n",
        "      break\n",
        "    grouped_columns = df.loc[group].agg(aggregations, squeeze=False)\n",
        "    sensitive_counts = df.loc[group].groupby(sensitive_col).agg({sensitive_col: 'count'})\n",
        "    values = grouped_columns.iloc[0].to_dict()\n",
        "    for sensitive_value, count in sensitive_counts[sensitive_col].items():\n",
        "      if count == 0:\n",
        "        continue\n",
        "      values.update({sensitive_col: sensitive_value, 'count': count})\n",
        "      rows.append(values.copy())\n",
        "  return pd.DataFrame(rows)"
      ],
      "execution_count": 43,
      "outputs": []
    },
    {
      "cell_type": "code",
      "metadata": {
        "id": "mwzHXXyRzY1N"
      },
      "source": [
        "dfn = anonymize_dataset(dfn, groups, quasi_identifiers, sensitive_col)"
      ],
      "execution_count": 59,
      "outputs": []
    },
    {
      "cell_type": "code",
      "metadata": {
        "colab": {
          "base_uri": "https://localhost:8080/",
          "height": 669
        },
        "id": "S5F6XbeVzjII",
        "outputId": "77154c86-54ae-4545-e349-9ab0dbb43263"
      },
      "source": [
        "dfn.sort_values(quasi_identifiers+[sensitive_col]).head(20)"
      ],
      "execution_count": 62,
      "outputs": [
        {
          "output_type": "execute_result",
          "data": {
            "text/html": [
              "<div>\n",
              "<style scoped>\n",
              "    .dataframe tbody tr th:only-of-type {\n",
              "        vertical-align: middle;\n",
              "    }\n",
              "\n",
              "    .dataframe tbody tr th {\n",
              "        vertical-align: top;\n",
              "    }\n",
              "\n",
              "    .dataframe thead th {\n",
              "        text-align: right;\n",
              "    }\n",
              "</style>\n",
              "<table border=\"1\" class=\"dataframe\">\n",
              "  <thead>\n",
              "    <tr style=\"text-align: right;\">\n",
              "      <th></th>\n",
              "      <th>age</th>\n",
              "      <th>education-num</th>\n",
              "      <th>race</th>\n",
              "      <th>sex</th>\n",
              "      <th>work-class</th>\n",
              "      <th>marital-status</th>\n",
              "      <th>native-country</th>\n",
              "      <th>occupation</th>\n",
              "      <th>count</th>\n",
              "    </tr>\n",
              "  </thead>\n",
              "  <tbody>\n",
              "    <tr>\n",
              "      <th>1640</th>\n",
              "      <td>17.0</td>\n",
              "      <td>5.666667</td>\n",
              "      <td>0.166667</td>\n",
              "      <td>0.333333</td>\n",
              "      <td>3.333333</td>\n",
              "      <td>6.0</td>\n",
              "      <td>0.000000</td>\n",
              "      <td>4</td>\n",
              "      <td>1</td>\n",
              "    </tr>\n",
              "    <tr>\n",
              "      <th>1641</th>\n",
              "      <td>17.0</td>\n",
              "      <td>5.666667</td>\n",
              "      <td>0.166667</td>\n",
              "      <td>0.333333</td>\n",
              "      <td>3.333333</td>\n",
              "      <td>6.0</td>\n",
              "      <td>0.000000</td>\n",
              "      <td>7</td>\n",
              "      <td>4</td>\n",
              "    </tr>\n",
              "    <tr>\n",
              "      <th>1642</th>\n",
              "      <td>17.0</td>\n",
              "      <td>5.666667</td>\n",
              "      <td>0.166667</td>\n",
              "      <td>0.333333</td>\n",
              "      <td>3.333333</td>\n",
              "      <td>6.0</td>\n",
              "      <td>0.000000</td>\n",
              "      <td>12</td>\n",
              "      <td>1</td>\n",
              "    </tr>\n",
              "    <tr>\n",
              "      <th>2954</th>\n",
              "      <td>17.0</td>\n",
              "      <td>7.000000</td>\n",
              "      <td>0.250000</td>\n",
              "      <td>0.000000</td>\n",
              "      <td>3.000000</td>\n",
              "      <td>6.0</td>\n",
              "      <td>0.000000</td>\n",
              "      <td>1</td>\n",
              "      <td>1</td>\n",
              "    </tr>\n",
              "    <tr>\n",
              "      <th>2955</th>\n",
              "      <td>17.0</td>\n",
              "      <td>7.000000</td>\n",
              "      <td>0.250000</td>\n",
              "      <td>0.000000</td>\n",
              "      <td>3.000000</td>\n",
              "      <td>6.0</td>\n",
              "      <td>0.000000</td>\n",
              "      <td>3</td>\n",
              "      <td>1</td>\n",
              "    </tr>\n",
              "    <tr>\n",
              "      <th>2956</th>\n",
              "      <td>17.0</td>\n",
              "      <td>7.000000</td>\n",
              "      <td>0.250000</td>\n",
              "      <td>0.000000</td>\n",
              "      <td>3.000000</td>\n",
              "      <td>6.0</td>\n",
              "      <td>0.000000</td>\n",
              "      <td>4</td>\n",
              "      <td>1</td>\n",
              "    </tr>\n",
              "    <tr>\n",
              "      <th>2957</th>\n",
              "      <td>17.0</td>\n",
              "      <td>7.000000</td>\n",
              "      <td>0.250000</td>\n",
              "      <td>0.000000</td>\n",
              "      <td>3.000000</td>\n",
              "      <td>6.0</td>\n",
              "      <td>0.000000</td>\n",
              "      <td>9</td>\n",
              "      <td>1</td>\n",
              "    </tr>\n",
              "    <tr>\n",
              "      <th>123</th>\n",
              "      <td>17.0</td>\n",
              "      <td>7.162791</td>\n",
              "      <td>0.116279</td>\n",
              "      <td>1.000000</td>\n",
              "      <td>5.000000</td>\n",
              "      <td>6.0</td>\n",
              "      <td>0.546512</td>\n",
              "      <td>1</td>\n",
              "      <td>1</td>\n",
              "    </tr>\n",
              "    <tr>\n",
              "      <th>124</th>\n",
              "      <td>17.0</td>\n",
              "      <td>7.162791</td>\n",
              "      <td>0.116279</td>\n",
              "      <td>1.000000</td>\n",
              "      <td>5.000000</td>\n",
              "      <td>6.0</td>\n",
              "      <td>0.546512</td>\n",
              "      <td>3</td>\n",
              "      <td>36</td>\n",
              "    </tr>\n",
              "    <tr>\n",
              "      <th>125</th>\n",
              "      <td>17.0</td>\n",
              "      <td>7.162791</td>\n",
              "      <td>0.116279</td>\n",
              "      <td>1.000000</td>\n",
              "      <td>5.000000</td>\n",
              "      <td>6.0</td>\n",
              "      <td>0.546512</td>\n",
              "      <td>4</td>\n",
              "      <td>1</td>\n",
              "    </tr>\n",
              "    <tr>\n",
              "      <th>126</th>\n",
              "      <td>17.0</td>\n",
              "      <td>7.162791</td>\n",
              "      <td>0.116279</td>\n",
              "      <td>1.000000</td>\n",
              "      <td>5.000000</td>\n",
              "      <td>6.0</td>\n",
              "      <td>0.546512</td>\n",
              "      <td>5</td>\n",
              "      <td>1</td>\n",
              "    </tr>\n",
              "    <tr>\n",
              "      <th>127</th>\n",
              "      <td>17.0</td>\n",
              "      <td>7.162791</td>\n",
              "      <td>0.116279</td>\n",
              "      <td>1.000000</td>\n",
              "      <td>5.000000</td>\n",
              "      <td>6.0</td>\n",
              "      <td>0.546512</td>\n",
              "      <td>6</td>\n",
              "      <td>2</td>\n",
              "    </tr>\n",
              "    <tr>\n",
              "      <th>128</th>\n",
              "      <td>17.0</td>\n",
              "      <td>7.162791</td>\n",
              "      <td>0.116279</td>\n",
              "      <td>1.000000</td>\n",
              "      <td>5.000000</td>\n",
              "      <td>6.0</td>\n",
              "      <td>0.546512</td>\n",
              "      <td>7</td>\n",
              "      <td>26</td>\n",
              "    </tr>\n",
              "    <tr>\n",
              "      <th>129</th>\n",
              "      <td>17.0</td>\n",
              "      <td>7.162791</td>\n",
              "      <td>0.116279</td>\n",
              "      <td>1.000000</td>\n",
              "      <td>5.000000</td>\n",
              "      <td>6.0</td>\n",
              "      <td>0.546512</td>\n",
              "      <td>8</td>\n",
              "      <td>6</td>\n",
              "    </tr>\n",
              "    <tr>\n",
              "      <th>130</th>\n",
              "      <td>17.0</td>\n",
              "      <td>7.162791</td>\n",
              "      <td>0.116279</td>\n",
              "      <td>1.000000</td>\n",
              "      <td>5.000000</td>\n",
              "      <td>6.0</td>\n",
              "      <td>0.546512</td>\n",
              "      <td>9</td>\n",
              "      <td>1</td>\n",
              "    </tr>\n",
              "    <tr>\n",
              "      <th>131</th>\n",
              "      <td>17.0</td>\n",
              "      <td>7.162791</td>\n",
              "      <td>0.116279</td>\n",
              "      <td>1.000000</td>\n",
              "      <td>5.000000</td>\n",
              "      <td>6.0</td>\n",
              "      <td>0.546512</td>\n",
              "      <td>10</td>\n",
              "      <td>12</td>\n",
              "    </tr>\n",
              "    <tr>\n",
              "      <th>2958</th>\n",
              "      <td>17.0</td>\n",
              "      <td>7.166667</td>\n",
              "      <td>0.000000</td>\n",
              "      <td>1.000000</td>\n",
              "      <td>3.000000</td>\n",
              "      <td>6.0</td>\n",
              "      <td>1.666667</td>\n",
              "      <td>1</td>\n",
              "      <td>2</td>\n",
              "    </tr>\n",
              "    <tr>\n",
              "      <th>2959</th>\n",
              "      <td>17.0</td>\n",
              "      <td>7.166667</td>\n",
              "      <td>0.000000</td>\n",
              "      <td>1.000000</td>\n",
              "      <td>3.000000</td>\n",
              "      <td>6.0</td>\n",
              "      <td>1.666667</td>\n",
              "      <td>7</td>\n",
              "      <td>1</td>\n",
              "    </tr>\n",
              "    <tr>\n",
              "      <th>2960</th>\n",
              "      <td>17.0</td>\n",
              "      <td>7.166667</td>\n",
              "      <td>0.000000</td>\n",
              "      <td>1.000000</td>\n",
              "      <td>3.000000</td>\n",
              "      <td>6.0</td>\n",
              "      <td>1.666667</td>\n",
              "      <td>10</td>\n",
              "      <td>3</td>\n",
              "    </tr>\n",
              "    <tr>\n",
              "      <th>114</th>\n",
              "      <td>17.0</td>\n",
              "      <td>7.188235</td>\n",
              "      <td>0.141176</td>\n",
              "      <td>0.000000</td>\n",
              "      <td>5.000000</td>\n",
              "      <td>6.0</td>\n",
              "      <td>0.823529</td>\n",
              "      <td>1</td>\n",
              "      <td>3</td>\n",
              "    </tr>\n",
              "  </tbody>\n",
              "</table>\n",
              "</div>"
            ],
            "text/plain": [
              "       age  education-num      race  ...  native-country  occupation  count\n",
              "1640  17.0       5.666667  0.166667  ...        0.000000           4      1\n",
              "1641  17.0       5.666667  0.166667  ...        0.000000           7      4\n",
              "1642  17.0       5.666667  0.166667  ...        0.000000          12      1\n",
              "2954  17.0       7.000000  0.250000  ...        0.000000           1      1\n",
              "2955  17.0       7.000000  0.250000  ...        0.000000           3      1\n",
              "2956  17.0       7.000000  0.250000  ...        0.000000           4      1\n",
              "2957  17.0       7.000000  0.250000  ...        0.000000           9      1\n",
              "123   17.0       7.162791  0.116279  ...        0.546512           1      1\n",
              "124   17.0       7.162791  0.116279  ...        0.546512           3     36\n",
              "125   17.0       7.162791  0.116279  ...        0.546512           4      1\n",
              "126   17.0       7.162791  0.116279  ...        0.546512           5      1\n",
              "127   17.0       7.162791  0.116279  ...        0.546512           6      2\n",
              "128   17.0       7.162791  0.116279  ...        0.546512           7     26\n",
              "129   17.0       7.162791  0.116279  ...        0.546512           8      6\n",
              "130   17.0       7.162791  0.116279  ...        0.546512           9      1\n",
              "131   17.0       7.162791  0.116279  ...        0.546512          10     12\n",
              "2958  17.0       7.166667  0.000000  ...        1.666667           1      2\n",
              "2959  17.0       7.166667  0.000000  ...        1.666667           7      1\n",
              "2960  17.0       7.166667  0.000000  ...        1.666667          10      3\n",
              "114   17.0       7.188235  0.141176  ...        0.823529           1      3\n",
              "\n",
              "[20 rows x 9 columns]"
            ]
          },
          "metadata": {
            "tags": []
          },
          "execution_count": 62
        }
      ]
    },
    {
      "cell_type": "markdown",
      "metadata": {
        "id": "tv5qCu_zV_qp"
      },
      "source": [
        "# Analysis\n",
        "Explain how your solution impacts the utility of the dataset. Does it retain the original data distribution. Provide at least two queries as test examples to show the differences in utility before and after the anonymization."
      ]
    },
    {
      "cell_type": "markdown",
      "metadata": {
        "id": "RX4u_QIzOtZD"
      },
      "source": [
        "As it can be seen in the dataset analysis section, there is only one person with *age* = 86 and one person with *native-country* = *Holand-Netherlands*. Here I have listed the corresponding entries in the original dataset and similar queries to retrieve. them from the anonymized dataset. But, because they were outliers, they have. been suppressed in the anonymized dataset and no. entries with these values can be found in *dfn*. This suppression not only removes some entries from the dataset but also may change the. range of some attributes like *age* and *native-country* in these cases."
      ]
    },
    {
      "cell_type": "code",
      "metadata": {
        "colab": {
          "base_uri": "https://localhost:8080/",
          "height": 80
        },
        "id": "7oKURrGsOwyY",
        "outputId": "c4901486-c125-4051-906f-7ac97293a737"
      },
      "source": [
        "df.loc[df['age'] == 86]"
      ],
      "execution_count": 81,
      "outputs": [
        {
          "output_type": "execute_result",
          "data": {
            "text/html": [
              "<div>\n",
              "<style scoped>\n",
              "    .dataframe tbody tr th:only-of-type {\n",
              "        vertical-align: middle;\n",
              "    }\n",
              "\n",
              "    .dataframe tbody tr th {\n",
              "        vertical-align: top;\n",
              "    }\n",
              "\n",
              "    .dataframe thead th {\n",
              "        text-align: right;\n",
              "    }\n",
              "</style>\n",
              "<table border=\"1\" class=\"dataframe\">\n",
              "  <thead>\n",
              "    <tr style=\"text-align: right;\">\n",
              "      <th></th>\n",
              "      <th>age</th>\n",
              "      <th>education-num</th>\n",
              "      <th>work-class</th>\n",
              "      <th>marital-status</th>\n",
              "      <th>occupation</th>\n",
              "      <th>race</th>\n",
              "      <th>sex</th>\n",
              "      <th>native-country</th>\n",
              "    </tr>\n",
              "  </thead>\n",
              "  <tbody>\n",
              "    <tr>\n",
              "      <th>e27739</th>\n",
              "      <td>86</td>\n",
              "      <td>14</td>\n",
              "      <td>Private</td>\n",
              "      <td>Never-married</td>\n",
              "      <td>Adm-clerical</td>\n",
              "      <td>White</td>\n",
              "      <td>Female</td>\n",
              "      <td>United-States</td>\n",
              "    </tr>\n",
              "  </tbody>\n",
              "</table>\n",
              "</div>"
            ],
            "text/plain": [
              "        age  education-num work-class  ...   race     sex native-country\n",
              "e27739   86             14    Private  ...  White  Female  United-States\n",
              "\n",
              "[1 rows x 8 columns]"
            ]
          },
          "metadata": {
            "tags": []
          },
          "execution_count": 81
        }
      ]
    },
    {
      "cell_type": "code",
      "metadata": {
        "colab": {
          "base_uri": "https://localhost:8080/",
          "height": 48
        },
        "id": "iAOhnIASMXTm",
        "outputId": "0046e91f-bb03-4381-a4eb-f5c5da7d90b4"
      },
      "source": [
        "dfn.loc[dfn['age'] == 86]"
      ],
      "execution_count": 78,
      "outputs": [
        {
          "output_type": "execute_result",
          "data": {
            "text/html": [
              "<div>\n",
              "<style scoped>\n",
              "    .dataframe tbody tr th:only-of-type {\n",
              "        vertical-align: middle;\n",
              "    }\n",
              "\n",
              "    .dataframe tbody tr th {\n",
              "        vertical-align: top;\n",
              "    }\n",
              "\n",
              "    .dataframe thead th {\n",
              "        text-align: right;\n",
              "    }\n",
              "</style>\n",
              "<table border=\"1\" class=\"dataframe\">\n",
              "  <thead>\n",
              "    <tr style=\"text-align: right;\">\n",
              "      <th></th>\n",
              "      <th>age</th>\n",
              "      <th>education-num</th>\n",
              "      <th>race</th>\n",
              "      <th>sex</th>\n",
              "      <th>work-class</th>\n",
              "      <th>marital-status</th>\n",
              "      <th>native-country</th>\n",
              "      <th>occupation</th>\n",
              "      <th>count</th>\n",
              "    </tr>\n",
              "  </thead>\n",
              "  <tbody>\n",
              "  </tbody>\n",
              "</table>\n",
              "</div>"
            ],
            "text/plain": [
              "Empty DataFrame\n",
              "Columns: [age, education-num, race, sex, work-class, marital-status, native-country, occupation, count]\n",
              "Index: []"
            ]
          },
          "metadata": {
            "tags": []
          },
          "execution_count": 78
        }
      ]
    },
    {
      "cell_type": "code",
      "metadata": {
        "colab": {
          "base_uri": "https://localhost:8080/",
          "height": 80
        },
        "id": "veuc9223O1YP",
        "outputId": "d1849694-f9e3-49ba-d8f3-3adce3d2ad9b"
      },
      "source": [
        "df.loc[df['native-country'] == 'Holand-Netherlands']"
      ],
      "execution_count": 82,
      "outputs": [
        {
          "output_type": "execute_result",
          "data": {
            "text/html": [
              "<div>\n",
              "<style scoped>\n",
              "    .dataframe tbody tr th:only-of-type {\n",
              "        vertical-align: middle;\n",
              "    }\n",
              "\n",
              "    .dataframe tbody tr th {\n",
              "        vertical-align: top;\n",
              "    }\n",
              "\n",
              "    .dataframe thead th {\n",
              "        text-align: right;\n",
              "    }\n",
              "</style>\n",
              "<table border=\"1\" class=\"dataframe\">\n",
              "  <thead>\n",
              "    <tr style=\"text-align: right;\">\n",
              "      <th></th>\n",
              "      <th>age</th>\n",
              "      <th>education-num</th>\n",
              "      <th>work-class</th>\n",
              "      <th>marital-status</th>\n",
              "      <th>occupation</th>\n",
              "      <th>race</th>\n",
              "      <th>sex</th>\n",
              "      <th>native-country</th>\n",
              "    </tr>\n",
              "  </thead>\n",
              "  <tbody>\n",
              "    <tr>\n",
              "      <th>e21177</th>\n",
              "      <td>32</td>\n",
              "      <td>10</td>\n",
              "      <td>Private</td>\n",
              "      <td>Never-married</td>\n",
              "      <td>Machine-op-inspct</td>\n",
              "      <td>White</td>\n",
              "      <td>Female</td>\n",
              "      <td>Holand-Netherlands</td>\n",
              "    </tr>\n",
              "  </tbody>\n",
              "</table>\n",
              "</div>"
            ],
            "text/plain": [
              "        age  education-num work-class  ...   race     sex      native-country\n",
              "e21177   32             10    Private  ...  White  Female  Holand-Netherlands\n",
              "\n",
              "[1 rows x 8 columns]"
            ]
          },
          "metadata": {
            "tags": []
          },
          "execution_count": 82
        }
      ]
    },
    {
      "cell_type": "code",
      "metadata": {
        "colab": {
          "base_uri": "https://localhost:8080/",
          "height": 48
        },
        "id": "sX0ERR0nOp2b",
        "outputId": "000c54e3-3ed7-4100-a51b-89f82186b32c"
      },
      "source": [
        "dfn.loc[dfn['native-country'] == 'Holand-Netherlands']"
      ],
      "execution_count": 79,
      "outputs": [
        {
          "output_type": "execute_result",
          "data": {
            "text/html": [
              "<div>\n",
              "<style scoped>\n",
              "    .dataframe tbody tr th:only-of-type {\n",
              "        vertical-align: middle;\n",
              "    }\n",
              "\n",
              "    .dataframe tbody tr th {\n",
              "        vertical-align: top;\n",
              "    }\n",
              "\n",
              "    .dataframe thead th {\n",
              "        text-align: right;\n",
              "    }\n",
              "</style>\n",
              "<table border=\"1\" class=\"dataframe\">\n",
              "  <thead>\n",
              "    <tr style=\"text-align: right;\">\n",
              "      <th></th>\n",
              "      <th>age</th>\n",
              "      <th>education-num</th>\n",
              "      <th>race</th>\n",
              "      <th>sex</th>\n",
              "      <th>work-class</th>\n",
              "      <th>marital-status</th>\n",
              "      <th>native-country</th>\n",
              "      <th>occupation</th>\n",
              "      <th>count</th>\n",
              "    </tr>\n",
              "  </thead>\n",
              "  <tbody>\n",
              "  </tbody>\n",
              "</table>\n",
              "</div>"
            ],
            "text/plain": [
              "Empty DataFrame\n",
              "Columns: [age, education-num, race, sex, work-class, marital-status, native-country, occupation, count]\n",
              "Index: []"
            ]
          },
          "metadata": {
            "tags": []
          },
          "execution_count": 79
        }
      ]
    },
    {
      "cell_type": "markdown",
      "metadata": {
        "id": "ETkL_AJ6wuuU"
      },
      "source": [
        "# References\n",
        "[1] [An implementation of k-anonymity algorithm](https://github.com/Nuclearstar/K-Anonymity/blob/master/k-Anonymity.ipynb)<br>\n",
        "[2] LeFevre, K., DeWitt, D. J., & Ramakrishnan, R. (2006, April). [Mondrian multidimensional k-anonymity](https://ieeexplore.ieee.org/abstract/document/1617393?casa_token=0zDsl8OE5sAAAAAA:YSvNLq5wADBKGkcteunAvwqAS8E2NS6ekvURtv7P2-WXMaEiTUOsMWw9KgtEBFIkxIf8gZ7blw). In 22nd International conference on data engineering (ICDE'06) (pp. 25-25). IEEE."
      ]
    }
  ]
}